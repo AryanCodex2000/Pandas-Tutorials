{
 "cells": [
  {
   "cell_type": "code",
   "execution_count": 1,
   "id": "a9918e52",
   "metadata": {
    "_cell_guid": "b1076dfc-b9ad-4769-8c92-a6c4dae69d19",
    "_uuid": "8f2839f25d086af736a60e9eeb907d3b93b6e0e5",
    "execution": {
     "iopub.execute_input": "2025-07-04T17:00:41.578265Z",
     "iopub.status.busy": "2025-07-04T17:00:41.577879Z",
     "iopub.status.idle": "2025-07-04T17:00:43.880482Z",
     "shell.execute_reply": "2025-07-04T17:00:43.879467Z"
    },
    "papermill": {
     "duration": 2.308235,
     "end_time": "2025-07-04T17:00:43.882141",
     "exception": false,
     "start_time": "2025-07-04T17:00:41.573906",
     "status": "completed"
    },
    "tags": []
   },
   "outputs": [],
   "source": [
    "import numpy as np \n",
    "import pandas as pd "
   ]
  },
  {
   "cell_type": "code",
   "execution_count": 2,
   "id": "1aa92893",
   "metadata": {
    "execution": {
     "iopub.execute_input": "2025-07-04T17:00:43.887943Z",
     "iopub.status.busy": "2025-07-04T17:00:43.887493Z",
     "iopub.status.idle": "2025-07-04T17:00:43.904357Z",
     "shell.execute_reply": "2025-07-04T17:00:43.903491Z"
    },
    "papermill": {
     "duration": 0.021172,
     "end_time": "2025-07-04T17:00:43.905821",
     "exception": false,
     "start_time": "2025-07-04T17:00:43.884649",
     "status": "completed"
    },
    "tags": []
   },
   "outputs": [
    {
     "data": {
      "text/plain": [
       "WEST        Mumbai\n",
       "NORTH        Delhi\n",
       "SOUTH    Bengaluru\n",
       "dtype: object"
      ]
     },
     "execution_count": 2,
     "metadata": {},
     "output_type": "execute_result"
    }
   ],
   "source": [
    "a = pd.Series(['Mumbai','Delhi','Bengaluru'], index = ['WEST', 'NORTH', 'SOUTH'])\n",
    "a"
   ]
  },
  {
   "cell_type": "code",
   "execution_count": 3,
   "id": "45c0654c",
   "metadata": {
    "execution": {
     "iopub.execute_input": "2025-07-04T17:00:43.911238Z",
     "iopub.status.busy": "2025-07-04T17:00:43.910943Z",
     "iopub.status.idle": "2025-07-04T17:00:43.917839Z",
     "shell.execute_reply": "2025-07-04T17:00:43.916874Z"
    },
    "papermill": {
     "duration": 0.011308,
     "end_time": "2025-07-04T17:00:43.919297",
     "exception": false,
     "start_time": "2025-07-04T17:00:43.907989",
     "status": "completed"
    },
    "tags": []
   },
   "outputs": [
    {
     "data": {
      "text/plain": [
       "Mumbai       Gateway of India\n",
       "Delhi              India Gate\n",
       "Bengaluru         Nandi Hills\n",
       "dtype: object"
      ]
     },
     "execution_count": 3,
     "metadata": {},
     "output_type": "execute_result"
    }
   ],
   "source": [
    "b = pd.Series(['Gateway of India', 'India Gate', 'Nandi Hills'], index = ['Mumbai', 'Delhi', 'Bengaluru'])\n",
    "b"
   ]
  },
  {
   "cell_type": "code",
   "execution_count": 4,
   "id": "3d70422e",
   "metadata": {
    "execution": {
     "iopub.execute_input": "2025-07-04T17:00:43.924896Z",
     "iopub.status.busy": "2025-07-04T17:00:43.924530Z",
     "iopub.status.idle": "2025-07-04T17:00:43.939090Z",
     "shell.execute_reply": "2025-07-04T17:00:43.938304Z"
    },
    "papermill": {
     "duration": 0.019318,
     "end_time": "2025-07-04T17:00:43.940882",
     "exception": false,
     "start_time": "2025-07-04T17:00:43.921564",
     "status": "completed"
    },
    "tags": []
   },
   "outputs": [
    {
     "data": {
      "text/plain": [
       "WEST     Gateway of India\n",
       "NORTH          India Gate\n",
       "SOUTH         Nandi Hills\n",
       "dtype: object"
      ]
     },
     "execution_count": 4,
     "metadata": {},
     "output_type": "execute_result"
    }
   ],
   "source": [
    "a.map(b)"
   ]
  },
  {
   "cell_type": "code",
   "execution_count": 5,
   "id": "4297c582",
   "metadata": {
    "execution": {
     "iopub.execute_input": "2025-07-04T17:00:43.947341Z",
     "iopub.status.busy": "2025-07-04T17:00:43.947010Z",
     "iopub.status.idle": "2025-07-04T17:00:43.956860Z",
     "shell.execute_reply": "2025-07-04T17:00:43.955672Z"
    },
    "papermill": {
     "duration": 0.015316,
     "end_time": "2025-07-04T17:00:43.959143",
     "exception": false,
     "start_time": "2025-07-04T17:00:43.943827",
     "status": "completed"
    },
    "tags": []
   },
   "outputs": [
    {
     "data": {
      "text/plain": [
       "Mumbai       NaN\n",
       "Delhi        NaN\n",
       "Bengaluru    NaN\n",
       "dtype: object"
      ]
     },
     "execution_count": 5,
     "metadata": {},
     "output_type": "execute_result"
    }
   ],
   "source": [
    "b.map(a)"
   ]
  },
  {
   "cell_type": "code",
   "execution_count": null,
   "id": "e128c4e7",
   "metadata": {
    "papermill": {
     "duration": 0.002095,
     "end_time": "2025-07-04T17:00:43.963727",
     "exception": false,
     "start_time": "2025-07-04T17:00:43.961632",
     "status": "completed"
    },
    "tags": []
   },
   "outputs": [],
   "source": []
  },
  {
   "cell_type": "code",
   "execution_count": null,
   "id": "b196e397",
   "metadata": {
    "papermill": {
     "duration": 0.002007,
     "end_time": "2025-07-04T17:00:43.967967",
     "exception": false,
     "start_time": "2025-07-04T17:00:43.965960",
     "status": "completed"
    },
    "tags": []
   },
   "outputs": [],
   "source": []
  }
 ],
 "metadata": {
  "kaggle": {
   "accelerator": "none",
   "dataSources": [],
   "dockerImageVersionId": 31040,
   "isGpuEnabled": false,
   "isInternetEnabled": true,
   "language": "python",
   "sourceType": "notebook"
  },
  "kernelspec": {
   "display_name": "Python 3",
   "language": "python",
   "name": "python3"
  },
  "language_info": {
   "codemirror_mode": {
    "name": "ipython",
    "version": 3
   },
   "file_extension": ".py",
   "mimetype": "text/x-python",
   "name": "python",
   "nbconvert_exporter": "python",
   "pygments_lexer": "ipython3",
   "version": "3.11.11"
  },
  "papermill": {
   "default_parameters": {},
   "duration": 8.84474,
   "end_time": "2025-07-04T17:00:44.492125",
   "environment_variables": {},
   "exception": null,
   "input_path": "__notebook__.ipynb",
   "output_path": "__notebook__.ipynb",
   "parameters": {},
   "start_time": "2025-07-04T17:00:35.647385",
   "version": "2.6.0"
  }
 },
 "nbformat": 4,
 "nbformat_minor": 5
}
