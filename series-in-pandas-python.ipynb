{
 "cells": [
  {
   "cell_type": "code",
   "execution_count": 1,
   "id": "b4475874",
   "metadata": {
    "_cell_guid": "b1076dfc-b9ad-4769-8c92-a6c4dae69d19",
    "_uuid": "8f2839f25d086af736a60e9eeb907d3b93b6e0e5",
    "execution": {
     "iopub.execute_input": "2025-06-30T04:05:17.744478Z",
     "iopub.status.busy": "2025-06-30T04:05:17.744112Z",
     "iopub.status.idle": "2025-06-30T04:05:19.886350Z",
     "shell.execute_reply": "2025-06-30T04:05:19.885288Z"
    },
    "papermill": {
     "duration": 2.14933,
     "end_time": "2025-06-30T04:05:19.888323",
     "exception": false,
     "start_time": "2025-06-30T04:05:17.738993",
     "status": "completed"
    },
    "tags": []
   },
   "outputs": [],
   "source": [
    "import pandas as pd"
   ]
  },
  {
   "cell_type": "code",
   "execution_count": 2,
   "id": "6d1db980",
   "metadata": {
    "execution": {
     "iopub.execute_input": "2025-06-30T04:05:19.896153Z",
     "iopub.status.busy": "2025-06-30T04:05:19.895621Z",
     "iopub.status.idle": "2025-06-30T04:05:19.900940Z",
     "shell.execute_reply": "2025-06-30T04:05:19.899968Z"
    },
    "papermill": {
     "duration": 0.010869,
     "end_time": "2025-06-30T04:05:19.902522",
     "exception": false,
     "start_time": "2025-06-30T04:05:19.891653",
     "status": "completed"
    },
    "tags": []
   },
   "outputs": [],
   "source": [
    "l1 = ['Aryan', 'Amit', 'Amitabh', 'Wolf']"
   ]
  },
  {
   "cell_type": "code",
   "execution_count": 3,
   "id": "4e8198c1",
   "metadata": {
    "execution": {
     "iopub.execute_input": "2025-06-30T04:05:19.909647Z",
     "iopub.status.busy": "2025-06-30T04:05:19.909295Z",
     "iopub.status.idle": "2025-06-30T04:05:19.923176Z",
     "shell.execute_reply": "2025-06-30T04:05:19.922253Z"
    },
    "papermill": {
     "duration": 0.01914,
     "end_time": "2025-06-30T04:05:19.924648",
     "exception": false,
     "start_time": "2025-06-30T04:05:19.905508",
     "status": "completed"
    },
    "tags": []
   },
   "outputs": [
    {
     "data": {
      "text/plain": [
       "0      Aryan\n",
       "1       Amit\n",
       "2    Amitabh\n",
       "3       Wolf\n",
       "dtype: object"
      ]
     },
     "execution_count": 3,
     "metadata": {},
     "output_type": "execute_result"
    }
   ],
   "source": [
    "pd.Series(l1)"
   ]
  },
  {
   "cell_type": "code",
   "execution_count": 4,
   "id": "add38c2b",
   "metadata": {
    "execution": {
     "iopub.execute_input": "2025-06-30T04:05:19.932253Z",
     "iopub.status.busy": "2025-06-30T04:05:19.931889Z",
     "iopub.status.idle": "2025-06-30T04:05:19.937527Z",
     "shell.execute_reply": "2025-06-30T04:05:19.936241Z"
    },
    "papermill": {
     "duration": 0.011575,
     "end_time": "2025-06-30T04:05:19.939411",
     "exception": false,
     "start_time": "2025-06-30T04:05:19.927836",
     "status": "completed"
    },
    "tags": []
   },
   "outputs": [],
   "source": [
    "l2 = ['True','False','False','True']"
   ]
  },
  {
   "cell_type": "code",
   "execution_count": 5,
   "id": "adfe063e",
   "metadata": {
    "execution": {
     "iopub.execute_input": "2025-06-30T04:05:19.947284Z",
     "iopub.status.busy": "2025-06-30T04:05:19.946958Z",
     "iopub.status.idle": "2025-06-30T04:05:19.954823Z",
     "shell.execute_reply": "2025-06-30T04:05:19.953760Z"
    },
    "papermill": {
     "duration": 0.01378,
     "end_time": "2025-06-30T04:05:19.956530",
     "exception": false,
     "start_time": "2025-06-30T04:05:19.942750",
     "status": "completed"
    },
    "tags": []
   },
   "outputs": [
    {
     "data": {
      "text/plain": [
       "0     True\n",
       "1    False\n",
       "2    False\n",
       "3     True\n",
       "dtype: object"
      ]
     },
     "execution_count": 5,
     "metadata": {},
     "output_type": "execute_result"
    }
   ],
   "source": [
    "pd.Series(l2)"
   ]
  },
  {
   "cell_type": "code",
   "execution_count": 6,
   "id": "6f43156c",
   "metadata": {
    "execution": {
     "iopub.execute_input": "2025-06-30T04:05:19.965008Z",
     "iopub.status.busy": "2025-06-30T04:05:19.964018Z",
     "iopub.status.idle": "2025-06-30T04:05:19.968712Z",
     "shell.execute_reply": "2025-06-30T04:05:19.967876Z"
    },
    "papermill": {
     "duration": 0.010388,
     "end_time": "2025-06-30T04:05:19.970178",
     "exception": false,
     "start_time": "2025-06-30T04:05:19.959790",
     "status": "completed"
    },
    "tags": []
   },
   "outputs": [],
   "source": [
    "l3 = [12,13,23,25,32,16,76]"
   ]
  },
  {
   "cell_type": "code",
   "execution_count": 7,
   "id": "7f27af00",
   "metadata": {
    "execution": {
     "iopub.execute_input": "2025-06-30T04:05:19.978434Z",
     "iopub.status.busy": "2025-06-30T04:05:19.977475Z",
     "iopub.status.idle": "2025-06-30T04:05:19.984505Z",
     "shell.execute_reply": "2025-06-30T04:05:19.983641Z"
    },
    "papermill": {
     "duration": 0.012579,
     "end_time": "2025-06-30T04:05:19.985947",
     "exception": false,
     "start_time": "2025-06-30T04:05:19.973368",
     "status": "completed"
    },
    "tags": []
   },
   "outputs": [
    {
     "data": {
      "text/plain": [
       "0    12\n",
       "1    13\n",
       "2    23\n",
       "3    25\n",
       "4    32\n",
       "5    16\n",
       "6    76\n",
       "dtype: int64"
      ]
     },
     "execution_count": 7,
     "metadata": {},
     "output_type": "execute_result"
    }
   ],
   "source": [
    "s3 = pd.Series(l3)\n",
    "s3"
   ]
  },
  {
   "cell_type": "code",
   "execution_count": 8,
   "id": "68a1a8be",
   "metadata": {
    "execution": {
     "iopub.execute_input": "2025-06-30T04:05:19.993996Z",
     "iopub.status.busy": "2025-06-30T04:05:19.993641Z",
     "iopub.status.idle": "2025-06-30T04:05:19.998488Z",
     "shell.execute_reply": "2025-06-30T04:05:19.997561Z"
    },
    "papermill": {
     "duration": 0.01071,
     "end_time": "2025-06-30T04:05:20.000112",
     "exception": false,
     "start_time": "2025-06-30T04:05:19.989402",
     "status": "completed"
    },
    "tags": []
   },
   "outputs": [],
   "source": [
    "l4 = [1.2,3.2,44.3,3,65,56]"
   ]
  },
  {
   "cell_type": "code",
   "execution_count": 9,
   "id": "cb964730",
   "metadata": {
    "execution": {
     "iopub.execute_input": "2025-06-30T04:05:20.008142Z",
     "iopub.status.busy": "2025-06-30T04:05:20.007839Z",
     "iopub.status.idle": "2025-06-30T04:05:20.015790Z",
     "shell.execute_reply": "2025-06-30T04:05:20.014831Z"
    },
    "papermill": {
     "duration": 0.013704,
     "end_time": "2025-06-30T04:05:20.017489",
     "exception": false,
     "start_time": "2025-06-30T04:05:20.003785",
     "status": "completed"
    },
    "tags": []
   },
   "outputs": [
    {
     "data": {
      "text/plain": [
       "0     1.2\n",
       "1     3.2\n",
       "2    44.3\n",
       "3     3.0\n",
       "4    65.0\n",
       "5    56.0\n",
       "dtype: float64"
      ]
     },
     "execution_count": 9,
     "metadata": {},
     "output_type": "execute_result"
    }
   ],
   "source": [
    "s4 = pd.Series(l4)\n",
    "s4"
   ]
  },
  {
   "cell_type": "code",
   "execution_count": null,
   "id": "c4beae21",
   "metadata": {
    "papermill": {
     "duration": 0.004051,
     "end_time": "2025-06-30T04:05:20.025069",
     "exception": false,
     "start_time": "2025-06-30T04:05:20.021018",
     "status": "completed"
    },
    "tags": []
   },
   "outputs": [],
   "source": []
  },
  {
   "cell_type": "code",
   "execution_count": null,
   "id": "823aecfc",
   "metadata": {
    "papermill": {
     "duration": 0.003266,
     "end_time": "2025-06-30T04:05:20.033524",
     "exception": false,
     "start_time": "2025-06-30T04:05:20.030258",
     "status": "completed"
    },
    "tags": []
   },
   "outputs": [],
   "source": []
  },
  {
   "cell_type": "code",
   "execution_count": null,
   "id": "02806dfe",
   "metadata": {
    "papermill": {
     "duration": 0.002958,
     "end_time": "2025-06-30T04:05:20.039971",
     "exception": false,
     "start_time": "2025-06-30T04:05:20.037013",
     "status": "completed"
    },
    "tags": []
   },
   "outputs": [],
   "source": []
  },
  {
   "cell_type": "code",
   "execution_count": null,
   "id": "3abe13cc",
   "metadata": {
    "papermill": {
     "duration": 0.002851,
     "end_time": "2025-06-30T04:05:20.047001",
     "exception": false,
     "start_time": "2025-06-30T04:05:20.044150",
     "status": "completed"
    },
    "tags": []
   },
   "outputs": [],
   "source": []
  },
  {
   "cell_type": "code",
   "execution_count": null,
   "id": "fb3109c1",
   "metadata": {
    "papermill": {
     "duration": 0.002907,
     "end_time": "2025-06-30T04:05:20.053266",
     "exception": false,
     "start_time": "2025-06-30T04:05:20.050359",
     "status": "completed"
    },
    "tags": []
   },
   "outputs": [],
   "source": []
  }
 ],
 "metadata": {
  "kaggle": {
   "accelerator": "none",
   "dataSources": [],
   "dockerImageVersionId": 31040,
   "isGpuEnabled": false,
   "isInternetEnabled": true,
   "language": "python",
   "sourceType": "notebook"
  },
  "kernelspec": {
   "display_name": "Python 3",
   "language": "python",
   "name": "python3"
  },
  "language_info": {
   "codemirror_mode": {
    "name": "ipython",
    "version": 3
   },
   "file_extension": ".py",
   "mimetype": "text/x-python",
   "name": "python",
   "nbconvert_exporter": "python",
   "pygments_lexer": "ipython3",
   "version": "3.11.11"
  },
  "papermill": {
   "default_parameters": {},
   "duration": 8.07721,
   "end_time": "2025-06-30T04:05:20.880079",
   "environment_variables": {},
   "exception": null,
   "input_path": "__notebook__.ipynb",
   "output_path": "__notebook__.ipynb",
   "parameters": {},
   "start_time": "2025-06-30T04:05:12.802869",
   "version": "2.6.0"
  }
 },
 "nbformat": 4,
 "nbformat_minor": 5
}
