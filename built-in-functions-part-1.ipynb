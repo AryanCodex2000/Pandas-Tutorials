{
 "cells": [
  {
   "cell_type": "code",
   "execution_count": 1,
   "id": "5cc88982",
   "metadata": {
    "_cell_guid": "b1076dfc-b9ad-4769-8c92-a6c4dae69d19",
    "_uuid": "8f2839f25d086af736a60e9eeb907d3b93b6e0e5",
    "execution": {
     "iopub.execute_input": "2025-07-01T06:07:26.460567Z",
     "iopub.status.busy": "2025-07-01T06:07:26.460212Z",
     "iopub.status.idle": "2025-07-01T06:07:28.223879Z",
     "shell.execute_reply": "2025-07-01T06:07:28.222888Z"
    },
    "papermill": {
     "duration": 1.769649,
     "end_time": "2025-07-01T06:07:28.225461",
     "exception": false,
     "start_time": "2025-07-01T06:07:26.455812",
     "status": "completed"
    },
    "tags": []
   },
   "outputs": [],
   "source": [
    "import pandas as pd"
   ]
  },
  {
   "cell_type": "code",
   "execution_count": 2,
   "id": "74158340",
   "metadata": {
    "execution": {
     "iopub.execute_input": "2025-07-01T06:07:28.231952Z",
     "iopub.status.busy": "2025-07-01T06:07:28.231636Z",
     "iopub.status.idle": "2025-07-01T06:07:28.318508Z",
     "shell.execute_reply": "2025-07-01T06:07:28.317633Z"
    },
    "papermill": {
     "duration": 0.091413,
     "end_time": "2025-07-01T06:07:28.319607",
     "exception": false,
     "start_time": "2025-07-01T06:07:28.228194",
     "status": "completed"
    },
    "tags": []
   },
   "outputs": [
    {
     "data": {
      "text/html": [
       "<div>\n",
       "<style scoped>\n",
       "    .dataframe tbody tr th:only-of-type {\n",
       "        vertical-align: middle;\n",
       "    }\n",
       "\n",
       "    .dataframe tbody tr th {\n",
       "        vertical-align: top;\n",
       "    }\n",
       "\n",
       "    .dataframe thead th {\n",
       "        text-align: right;\n",
       "    }\n",
       "</style>\n",
       "<table border=\"1\" class=\"dataframe\">\n",
       "  <thead>\n",
       "    <tr style=\"text-align: right;\">\n",
       "      <th></th>\n",
       "      <th>Global_Sales</th>\n",
       "    </tr>\n",
       "  </thead>\n",
       "  <tbody>\n",
       "    <tr>\n",
       "      <th>0</th>\n",
       "      <td>82.74</td>\n",
       "    </tr>\n",
       "    <tr>\n",
       "      <th>1</th>\n",
       "      <td>40.24</td>\n",
       "    </tr>\n",
       "    <tr>\n",
       "      <th>2</th>\n",
       "      <td>35.82</td>\n",
       "    </tr>\n",
       "    <tr>\n",
       "      <th>3</th>\n",
       "      <td>33.00</td>\n",
       "    </tr>\n",
       "    <tr>\n",
       "      <th>4</th>\n",
       "      <td>31.37</td>\n",
       "    </tr>\n",
       "    <tr>\n",
       "      <th>...</th>\n",
       "      <td>...</td>\n",
       "    </tr>\n",
       "    <tr>\n",
       "      <th>16593</th>\n",
       "      <td>0.01</td>\n",
       "    </tr>\n",
       "    <tr>\n",
       "      <th>16594</th>\n",
       "      <td>0.01</td>\n",
       "    </tr>\n",
       "    <tr>\n",
       "      <th>16595</th>\n",
       "      <td>0.01</td>\n",
       "    </tr>\n",
       "    <tr>\n",
       "      <th>16596</th>\n",
       "      <td>0.01</td>\n",
       "    </tr>\n",
       "    <tr>\n",
       "      <th>16597</th>\n",
       "      <td>0.01</td>\n",
       "    </tr>\n",
       "  </tbody>\n",
       "</table>\n",
       "<p>16598 rows × 1 columns</p>\n",
       "</div>"
      ],
      "text/plain": [
       "       Global_Sales\n",
       "0             82.74\n",
       "1             40.24\n",
       "2             35.82\n",
       "3             33.00\n",
       "4             31.37\n",
       "...             ...\n",
       "16593          0.01\n",
       "16594          0.01\n",
       "16595          0.01\n",
       "16596          0.01\n",
       "16597          0.01\n",
       "\n",
       "[16598 rows x 1 columns]"
      ]
     },
     "execution_count": 2,
     "metadata": {},
     "output_type": "execute_result"
    }
   ],
   "source": [
    "s = pd.read_csv('/kaggle/input/videogamesales/vgsales.csv', usecols = ['Global_Sales'])\n",
    "s"
   ]
  },
  {
   "cell_type": "code",
   "execution_count": 3,
   "id": "15dba43a",
   "metadata": {
    "execution": {
     "iopub.execute_input": "2025-07-01T06:07:28.325785Z",
     "iopub.status.busy": "2025-07-01T06:07:28.325530Z",
     "iopub.status.idle": "2025-07-01T06:07:28.332574Z",
     "shell.execute_reply": "2025-07-01T06:07:28.331473Z"
    },
    "papermill": {
     "duration": 0.011798,
     "end_time": "2025-07-01T06:07:28.334202",
     "exception": false,
     "start_time": "2025-07-01T06:07:28.322404",
     "status": "completed"
    },
    "tags": []
   },
   "outputs": [
    {
     "data": {
      "text/plain": [
       "Global_Sales    0.01\n",
       "dtype: float64"
      ]
     },
     "execution_count": 3,
     "metadata": {},
     "output_type": "execute_result"
    }
   ],
   "source": [
    "s.min()"
   ]
  },
  {
   "cell_type": "code",
   "execution_count": 4,
   "id": "c675e75c",
   "metadata": {
    "execution": {
     "iopub.execute_input": "2025-07-01T06:07:28.341079Z",
     "iopub.status.busy": "2025-07-01T06:07:28.340786Z",
     "iopub.status.idle": "2025-07-01T06:07:28.347494Z",
     "shell.execute_reply": "2025-07-01T06:07:28.346536Z"
    },
    "papermill": {
     "duration": 0.011891,
     "end_time": "2025-07-01T06:07:28.348980",
     "exception": false,
     "start_time": "2025-07-01T06:07:28.337089",
     "status": "completed"
    },
    "tags": []
   },
   "outputs": [
    {
     "data": {
      "text/plain": [
       "Global_Sales    82.74\n",
       "dtype: float64"
      ]
     },
     "execution_count": 4,
     "metadata": {},
     "output_type": "execute_result"
    }
   ],
   "source": [
    "s.max()"
   ]
  },
  {
   "cell_type": "code",
   "execution_count": 5,
   "id": "357a1a7c",
   "metadata": {
    "execution": {
     "iopub.execute_input": "2025-07-01T06:07:28.356650Z",
     "iopub.status.busy": "2025-07-01T06:07:28.356373Z",
     "iopub.status.idle": "2025-07-01T06:07:28.363181Z",
     "shell.execute_reply": "2025-07-01T06:07:28.362530Z"
    },
    "papermill": {
     "duration": 0.011463,
     "end_time": "2025-07-01T06:07:28.364149",
     "exception": false,
     "start_time": "2025-07-01T06:07:28.352686",
     "status": "completed"
    },
    "tags": []
   },
   "outputs": [
    {
     "data": {
      "text/plain": [
       "Global_Sales    8920.44\n",
       "dtype: float64"
      ]
     },
     "execution_count": 5,
     "metadata": {},
     "output_type": "execute_result"
    }
   ],
   "source": [
    "s.sum()"
   ]
  },
  {
   "cell_type": "code",
   "execution_count": 6,
   "id": "e9e9a71d",
   "metadata": {
    "execution": {
     "iopub.execute_input": "2025-07-01T06:07:28.370113Z",
     "iopub.status.busy": "2025-07-01T06:07:28.369875Z",
     "iopub.status.idle": "2025-07-01T06:07:28.373842Z",
     "shell.execute_reply": "2025-07-01T06:07:28.373209Z"
    },
    "papermill": {
     "duration": 0.008072,
     "end_time": "2025-07-01T06:07:28.374950",
     "exception": false,
     "start_time": "2025-07-01T06:07:28.366878",
     "status": "completed"
    },
    "tags": []
   },
   "outputs": [],
   "source": [
    "s1 = pd.Series([-1,1,2,3,4])"
   ]
  },
  {
   "cell_type": "code",
   "execution_count": 7,
   "id": "cf0dbad9",
   "metadata": {
    "execution": {
     "iopub.execute_input": "2025-07-01T06:07:28.381807Z",
     "iopub.status.busy": "2025-07-01T06:07:28.381503Z",
     "iopub.status.idle": "2025-07-01T06:07:28.388899Z",
     "shell.execute_reply": "2025-07-01T06:07:28.388065Z"
    },
    "papermill": {
     "duration": 0.011935,
     "end_time": "2025-07-01T06:07:28.389938",
     "exception": false,
     "start_time": "2025-07-01T06:07:28.378003",
     "status": "completed"
    },
    "tags": []
   },
   "outputs": [
    {
     "data": {
      "text/plain": [
       "-24"
      ]
     },
     "execution_count": 7,
     "metadata": {},
     "output_type": "execute_result"
    }
   ],
   "source": [
    "s1.prod()"
   ]
  },
  {
   "cell_type": "code",
   "execution_count": 8,
   "id": "45caa524",
   "metadata": {
    "execution": {
     "iopub.execute_input": "2025-07-01T06:07:28.396498Z",
     "iopub.status.busy": "2025-07-01T06:07:28.396146Z",
     "iopub.status.idle": "2025-07-01T06:07:28.403472Z",
     "shell.execute_reply": "2025-07-01T06:07:28.402535Z"
    },
    "papermill": {
     "duration": 0.012376,
     "end_time": "2025-07-01T06:07:28.405149",
     "exception": false,
     "start_time": "2025-07-01T06:07:28.392773",
     "status": "completed"
    },
    "tags": []
   },
   "outputs": [
    {
     "data": {
      "text/plain": [
       "0    1\n",
       "1    1\n",
       "2    2\n",
       "3    3\n",
       "4    4\n",
       "dtype: int64"
      ]
     },
     "execution_count": 8,
     "metadata": {},
     "output_type": "execute_result"
    }
   ],
   "source": [
    "s1.abs()"
   ]
  },
  {
   "cell_type": "code",
   "execution_count": 9,
   "id": "f1f2a771",
   "metadata": {
    "execution": {
     "iopub.execute_input": "2025-07-01T06:07:28.412175Z",
     "iopub.status.busy": "2025-07-01T06:07:28.411922Z",
     "iopub.status.idle": "2025-07-01T06:07:28.419689Z",
     "shell.execute_reply": "2025-07-01T06:07:28.419066Z"
    },
    "papermill": {
     "duration": 0.012413,
     "end_time": "2025-07-01T06:07:28.420883",
     "exception": false,
     "start_time": "2025-07-01T06:07:28.408470",
     "status": "completed"
    },
    "tags": []
   },
   "outputs": [
    {
     "data": {
      "text/plain": [
       "Global_Sales    0\n",
       "dtype: int64"
      ]
     },
     "execution_count": 9,
     "metadata": {},
     "output_type": "execute_result"
    }
   ],
   "source": [
    "s.idxmax()"
   ]
  },
  {
   "cell_type": "code",
   "execution_count": 10,
   "id": "4d2cae65",
   "metadata": {
    "execution": {
     "iopub.execute_input": "2025-07-01T06:07:28.427777Z",
     "iopub.status.busy": "2025-07-01T06:07:28.427500Z",
     "iopub.status.idle": "2025-07-01T06:07:28.433857Z",
     "shell.execute_reply": "2025-07-01T06:07:28.433269Z"
    },
    "papermill": {
     "duration": 0.011485,
     "end_time": "2025-07-01T06:07:28.435414",
     "exception": false,
     "start_time": "2025-07-01T06:07:28.423929",
     "status": "completed"
    },
    "tags": []
   },
   "outputs": [
    {
     "data": {
      "text/plain": [
       "Global_Sales    0.537441\n",
       "dtype: float64"
      ]
     },
     "execution_count": 10,
     "metadata": {},
     "output_type": "execute_result"
    }
   ],
   "source": [
    "s.mean()"
   ]
  },
  {
   "cell_type": "code",
   "execution_count": 11,
   "id": "facd2647",
   "metadata": {
    "execution": {
     "iopub.execute_input": "2025-07-01T06:07:28.442344Z",
     "iopub.status.busy": "2025-07-01T06:07:28.442053Z",
     "iopub.status.idle": "2025-07-01T06:07:28.449042Z",
     "shell.execute_reply": "2025-07-01T06:07:28.448395Z"
    },
    "papermill": {
     "duration": 0.011413,
     "end_time": "2025-07-01T06:07:28.449958",
     "exception": false,
     "start_time": "2025-07-01T06:07:28.438545",
     "status": "completed"
    },
    "tags": []
   },
   "outputs": [
    {
     "data": {
      "text/plain": [
       "Global_Sales    1.555028\n",
       "dtype: float64"
      ]
     },
     "execution_count": 11,
     "metadata": {},
     "output_type": "execute_result"
    }
   ],
   "source": [
    "s.std()"
   ]
  },
  {
   "cell_type": "code",
   "execution_count": 12,
   "id": "e11a6a7c",
   "metadata": {
    "execution": {
     "iopub.execute_input": "2025-07-01T06:07:28.457076Z",
     "iopub.status.busy": "2025-07-01T06:07:28.456387Z",
     "iopub.status.idle": "2025-07-01T06:07:28.461106Z",
     "shell.execute_reply": "2025-07-01T06:07:28.460426Z"
    },
    "papermill": {
     "duration": 0.009131,
     "end_time": "2025-07-01T06:07:28.462148",
     "exception": false,
     "start_time": "2025-07-01T06:07:28.453017",
     "status": "completed"
    },
    "tags": []
   },
   "outputs": [
    {
     "data": {
      "text/plain": [
       "16598"
      ]
     },
     "execution_count": 12,
     "metadata": {},
     "output_type": "execute_result"
    }
   ],
   "source": [
    "len(s)"
   ]
  },
  {
   "cell_type": "code",
   "execution_count": 13,
   "id": "c490437d",
   "metadata": {
    "execution": {
     "iopub.execute_input": "2025-07-01T06:07:28.468995Z",
     "iopub.status.busy": "2025-07-01T06:07:28.468781Z",
     "iopub.status.idle": "2025-07-01T06:07:28.473410Z",
     "shell.execute_reply": "2025-07-01T06:07:28.472702Z"
    },
    "papermill": {
     "duration": 0.009137,
     "end_time": "2025-07-01T06:07:28.474497",
     "exception": false,
     "start_time": "2025-07-01T06:07:28.465360",
     "status": "completed"
    },
    "tags": []
   },
   "outputs": [
    {
     "data": {
      "text/plain": [
       "(16598, 1)"
      ]
     },
     "execution_count": 13,
     "metadata": {},
     "output_type": "execute_result"
    }
   ],
   "source": [
    "s.shape"
   ]
  },
  {
   "cell_type": "code",
   "execution_count": 14,
   "id": "82703653",
   "metadata": {
    "execution": {
     "iopub.execute_input": "2025-07-01T06:07:28.481943Z",
     "iopub.status.busy": "2025-07-01T06:07:28.481709Z",
     "iopub.status.idle": "2025-07-01T06:07:28.485831Z",
     "shell.execute_reply": "2025-07-01T06:07:28.485380Z"
    },
    "papermill": {
     "duration": 0.00931,
     "end_time": "2025-07-01T06:07:28.487148",
     "exception": false,
     "start_time": "2025-07-01T06:07:28.477838",
     "status": "completed"
    },
    "tags": []
   },
   "outputs": [
    {
     "data": {
      "text/plain": [
       "16598"
      ]
     },
     "execution_count": 14,
     "metadata": {},
     "output_type": "execute_result"
    }
   ],
   "source": [
    "s.size"
   ]
  },
  {
   "cell_type": "code",
   "execution_count": null,
   "id": "5464996f",
   "metadata": {
    "papermill": {
     "duration": 0.002956,
     "end_time": "2025-07-01T06:07:28.493589",
     "exception": false,
     "start_time": "2025-07-01T06:07:28.490633",
     "status": "completed"
    },
    "tags": []
   },
   "outputs": [],
   "source": []
  },
  {
   "cell_type": "code",
   "execution_count": null,
   "id": "9794c9be",
   "metadata": {
    "papermill": {
     "duration": 0.002564,
     "end_time": "2025-07-01T06:07:28.499066",
     "exception": false,
     "start_time": "2025-07-01T06:07:28.496502",
     "status": "completed"
    },
    "tags": []
   },
   "outputs": [],
   "source": []
  }
 ],
 "metadata": {
  "kaggle": {
   "accelerator": "none",
   "dataSources": [
    {
     "datasetId": 284,
     "sourceId": 618,
     "sourceType": "datasetVersion"
    }
   ],
   "dockerImageVersionId": 31040,
   "isGpuEnabled": false,
   "isInternetEnabled": true,
   "language": "python",
   "sourceType": "notebook"
  },
  "kernelspec": {
   "display_name": "Python 3",
   "language": "python",
   "name": "python3"
  },
  "language_info": {
   "codemirror_mode": {
    "name": "ipython",
    "version": 3
   },
   "file_extension": ".py",
   "mimetype": "text/x-python",
   "name": "python",
   "nbconvert_exporter": "python",
   "pygments_lexer": "ipython3",
   "version": "3.11.11"
  },
  "papermill": {
   "default_parameters": {},
   "duration": 7.027379,
   "end_time": "2025-07-01T06:07:28.920568",
   "environment_variables": {},
   "exception": null,
   "input_path": "__notebook__.ipynb",
   "output_path": "__notebook__.ipynb",
   "parameters": {},
   "start_time": "2025-07-01T06:07:21.893189",
   "version": "2.6.0"
  }
 },
 "nbformat": 4,
 "nbformat_minor": 5
}
