{
 "cells": [
  {
   "cell_type": "code",
   "execution_count": 1,
   "id": "991876b0",
   "metadata": {
    "_cell_guid": "b1076dfc-b9ad-4769-8c92-a6c4dae69d19",
    "_uuid": "8f2839f25d086af736a60e9eeb907d3b93b6e0e5",
    "execution": {
     "iopub.execute_input": "2025-07-02T07:48:59.509473Z",
     "iopub.status.busy": "2025-07-02T07:48:59.509163Z",
     "iopub.status.idle": "2025-07-02T07:49:01.545649Z",
     "shell.execute_reply": "2025-07-02T07:49:01.543232Z"
    },
    "papermill": {
     "duration": 2.042677,
     "end_time": "2025-07-02T07:49:01.547835",
     "exception": false,
     "start_time": "2025-07-02T07:48:59.505158",
     "status": "completed"
    },
    "tags": []
   },
   "outputs": [],
   "source": [
    "import pandas as pd\n",
    "import numpy as np"
   ]
  },
  {
   "cell_type": "code",
   "execution_count": 2,
   "id": "20ee97b6",
   "metadata": {
    "execution": {
     "iopub.execute_input": "2025-07-02T07:49:01.554457Z",
     "iopub.status.busy": "2025-07-02T07:49:01.554001Z",
     "iopub.status.idle": "2025-07-02T07:49:01.656883Z",
     "shell.execute_reply": "2025-07-02T07:49:01.655816Z"
    },
    "papermill": {
     "duration": 0.107945,
     "end_time": "2025-07-02T07:49:01.658698",
     "exception": false,
     "start_time": "2025-07-02T07:49:01.550753",
     "status": "completed"
    },
    "tags": []
   },
   "outputs": [
    {
     "data": {
      "text/html": [
       "<div>\n",
       "<style scoped>\n",
       "    .dataframe tbody tr th:only-of-type {\n",
       "        vertical-align: middle;\n",
       "    }\n",
       "\n",
       "    .dataframe tbody tr th {\n",
       "        vertical-align: top;\n",
       "    }\n",
       "\n",
       "    .dataframe thead th {\n",
       "        text-align: right;\n",
       "    }\n",
       "</style>\n",
       "<table border=\"1\" class=\"dataframe\">\n",
       "  <thead>\n",
       "    <tr style=\"text-align: right;\">\n",
       "      <th></th>\n",
       "      <th>Name</th>\n",
       "    </tr>\n",
       "  </thead>\n",
       "  <tbody>\n",
       "    <tr>\n",
       "      <th>0</th>\n",
       "      <td>Wii Sports</td>\n",
       "    </tr>\n",
       "    <tr>\n",
       "      <th>1</th>\n",
       "      <td>Super Mario Bros.</td>\n",
       "    </tr>\n",
       "    <tr>\n",
       "      <th>2</th>\n",
       "      <td>Mario Kart Wii</td>\n",
       "    </tr>\n",
       "    <tr>\n",
       "      <th>3</th>\n",
       "      <td>Wii Sports Resort</td>\n",
       "    </tr>\n",
       "    <tr>\n",
       "      <th>4</th>\n",
       "      <td>Pokemon Red/Pokemon Blue</td>\n",
       "    </tr>\n",
       "    <tr>\n",
       "      <th>...</th>\n",
       "      <td>...</td>\n",
       "    </tr>\n",
       "    <tr>\n",
       "      <th>16593</th>\n",
       "      <td>Woody Woodpecker in Crazy Castle 5</td>\n",
       "    </tr>\n",
       "    <tr>\n",
       "      <th>16594</th>\n",
       "      <td>Men in Black II: Alien Escape</td>\n",
       "    </tr>\n",
       "    <tr>\n",
       "      <th>16595</th>\n",
       "      <td>SCORE International Baja 1000: The Official Game</td>\n",
       "    </tr>\n",
       "    <tr>\n",
       "      <th>16596</th>\n",
       "      <td>Know How 2</td>\n",
       "    </tr>\n",
       "    <tr>\n",
       "      <th>16597</th>\n",
       "      <td>Spirits &amp; Spells</td>\n",
       "    </tr>\n",
       "  </tbody>\n",
       "</table>\n",
       "<p>16598 rows × 1 columns</p>\n",
       "</div>"
      ],
      "text/plain": [
       "                                                   Name\n",
       "0                                            Wii Sports\n",
       "1                                     Super Mario Bros.\n",
       "2                                        Mario Kart Wii\n",
       "3                                     Wii Sports Resort\n",
       "4                              Pokemon Red/Pokemon Blue\n",
       "...                                                 ...\n",
       "16593                Woody Woodpecker in Crazy Castle 5\n",
       "16594                     Men in Black II: Alien Escape\n",
       "16595  SCORE International Baja 1000: The Official Game\n",
       "16596                                        Know How 2\n",
       "16597                                  Spirits & Spells\n",
       "\n",
       "[16598 rows x 1 columns]"
      ]
     },
     "execution_count": 2,
     "metadata": {},
     "output_type": "execute_result"
    }
   ],
   "source": [
    "a = pd.read_csv('/kaggle/input/videogamesales/vgsales.csv', usecols = ['Name'])\n",
    "a"
   ]
  },
  {
   "cell_type": "code",
   "execution_count": 3,
   "id": "14ad5ea5",
   "metadata": {
    "execution": {
     "iopub.execute_input": "2025-07-02T07:49:01.665276Z",
     "iopub.status.busy": "2025-07-02T07:49:01.664945Z",
     "iopub.status.idle": "2025-07-02T07:49:01.676489Z",
     "shell.execute_reply": "2025-07-02T07:49:01.675490Z"
    },
    "papermill": {
     "duration": 0.016903,
     "end_time": "2025-07-02T07:49:01.678345",
     "exception": false,
     "start_time": "2025-07-02T07:49:01.661442",
     "status": "completed"
    },
    "tags": []
   },
   "outputs": [
    {
     "data": {
      "text/plain": [
       "'Wii Sports'"
      ]
     },
     "execution_count": 3,
     "metadata": {},
     "output_type": "execute_result"
    }
   ],
   "source": [
    "a['Name'].values[0]"
   ]
  },
  {
   "cell_type": "code",
   "execution_count": 4,
   "id": "0f76c9b6",
   "metadata": {
    "execution": {
     "iopub.execute_input": "2025-07-02T07:49:01.685105Z",
     "iopub.status.busy": "2025-07-02T07:49:01.684765Z",
     "iopub.status.idle": "2025-07-02T07:49:01.690347Z",
     "shell.execute_reply": "2025-07-02T07:49:01.689500Z"
    },
    "papermill": {
     "duration": 0.010931,
     "end_time": "2025-07-02T07:49:01.692096",
     "exception": false,
     "start_time": "2025-07-02T07:49:01.681165",
     "status": "completed"
    },
    "tags": []
   },
   "outputs": [
    {
     "data": {
      "text/plain": [
       "'Super Mario Bros.'"
      ]
     },
     "execution_count": 4,
     "metadata": {},
     "output_type": "execute_result"
    }
   ],
   "source": [
    "a['Name'].values[1]"
   ]
  },
  {
   "cell_type": "code",
   "execution_count": 5,
   "id": "f96c1c75",
   "metadata": {
    "execution": {
     "iopub.execute_input": "2025-07-02T07:49:01.699187Z",
     "iopub.status.busy": "2025-07-02T07:49:01.698869Z",
     "iopub.status.idle": "2025-07-02T07:49:01.705337Z",
     "shell.execute_reply": "2025-07-02T07:49:01.704272Z"
    },
    "papermill": {
     "duration": 0.011986,
     "end_time": "2025-07-02T07:49:01.707092",
     "exception": false,
     "start_time": "2025-07-02T07:49:01.695106",
     "status": "completed"
    },
    "tags": []
   },
   "outputs": [
    {
     "data": {
      "text/plain": [
       "'Circus Atari'"
      ]
     },
     "execution_count": 5,
     "metadata": {},
     "output_type": "execute_result"
    }
   ],
   "source": [
    "a['Name'].values[4232]"
   ]
  },
  {
   "cell_type": "code",
   "execution_count": 6,
   "id": "24e61d9c",
   "metadata": {
    "execution": {
     "iopub.execute_input": "2025-07-02T07:49:01.714642Z",
     "iopub.status.busy": "2025-07-02T07:49:01.714321Z",
     "iopub.status.idle": "2025-07-02T07:49:01.722070Z",
     "shell.execute_reply": "2025-07-02T07:49:01.720971Z"
    },
    "papermill": {
     "duration": 0.013768,
     "end_time": "2025-07-02T07:49:01.724232",
     "exception": false,
     "start_time": "2025-07-02T07:49:01.710464",
     "status": "completed"
    },
    "tags": []
   },
   "outputs": [
    {
     "data": {
      "text/plain": [
       "array(['Wii Sports', 'Super Mario Bros.', 'Mario Kart Wii',\n",
       "       'Wii Sports Resort', 'Pokemon Red/Pokemon Blue', 'Tetris',\n",
       "       'New Super Mario Bros.', 'Wii Play', 'New Super Mario Bros. Wii',\n",
       "       'Duck Hunt', 'Nintendogs'], dtype=object)"
      ]
     },
     "execution_count": 6,
     "metadata": {},
     "output_type": "execute_result"
    }
   ],
   "source": [
    "a['Name'].values[0:11]"
   ]
  },
  {
   "cell_type": "code",
   "execution_count": null,
   "id": "09db6b02",
   "metadata": {
    "papermill": {
     "duration": 0.004947,
     "end_time": "2025-07-02T07:49:01.732298",
     "exception": false,
     "start_time": "2025-07-02T07:49:01.727351",
     "status": "completed"
    },
    "tags": []
   },
   "outputs": [],
   "source": []
  },
  {
   "cell_type": "code",
   "execution_count": null,
   "id": "58387f01",
   "metadata": {
    "papermill": {
     "duration": 0.002612,
     "end_time": "2025-07-02T07:49:01.738798",
     "exception": false,
     "start_time": "2025-07-02T07:49:01.736186",
     "status": "completed"
    },
    "tags": []
   },
   "outputs": [],
   "source": []
  },
  {
   "cell_type": "code",
   "execution_count": null,
   "id": "9757325b",
   "metadata": {
    "papermill": {
     "duration": 0.003056,
     "end_time": "2025-07-02T07:49:01.744779",
     "exception": false,
     "start_time": "2025-07-02T07:49:01.741723",
     "status": "completed"
    },
    "tags": []
   },
   "outputs": [],
   "source": []
  },
  {
   "cell_type": "code",
   "execution_count": null,
   "id": "ee3060f0",
   "metadata": {
    "papermill": {
     "duration": 0.004833,
     "end_time": "2025-07-02T07:49:01.753280",
     "exception": false,
     "start_time": "2025-07-02T07:49:01.748447",
     "status": "completed"
    },
    "tags": []
   },
   "outputs": [],
   "source": []
  }
 ],
 "metadata": {
  "kaggle": {
   "accelerator": "none",
   "dataSources": [
    {
     "datasetId": 284,
     "sourceId": 618,
     "sourceType": "datasetVersion"
    }
   ],
   "dockerImageVersionId": 31040,
   "isGpuEnabled": false,
   "isInternetEnabled": true,
   "language": "python",
   "sourceType": "notebook"
  },
  "kernelspec": {
   "display_name": "Python 3",
   "language": "python",
   "name": "python3"
  },
  "language_info": {
   "codemirror_mode": {
    "name": "ipython",
    "version": 3
   },
   "file_extension": ".py",
   "mimetype": "text/x-python",
   "name": "python",
   "nbconvert_exporter": "python",
   "pygments_lexer": "ipython3",
   "version": "3.11.11"
  },
  "papermill": {
   "default_parameters": {},
   "duration": 7.804925,
   "end_time": "2025-07-02T07:49:02.278651",
   "environment_variables": {},
   "exception": null,
   "input_path": "__notebook__.ipynb",
   "output_path": "__notebook__.ipynb",
   "parameters": {},
   "start_time": "2025-07-02T07:48:54.473726",
   "version": "2.6.0"
  }
 },
 "nbformat": 4,
 "nbformat_minor": 5
}
