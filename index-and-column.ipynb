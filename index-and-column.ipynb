{
 "cells": [
  {
   "cell_type": "code",
   "execution_count": 1,
   "id": "733bca7c",
   "metadata": {
    "_cell_guid": "b1076dfc-b9ad-4769-8c92-a6c4dae69d19",
    "_uuid": "8f2839f25d086af736a60e9eeb907d3b93b6e0e5",
    "execution": {
     "iopub.execute_input": "2025-07-05T08:14:35.637788Z",
     "iopub.status.busy": "2025-07-05T08:14:35.637455Z",
     "iopub.status.idle": "2025-07-05T08:14:37.502990Z",
     "shell.execute_reply": "2025-07-05T08:14:37.501951Z"
    },
    "papermill": {
     "duration": 1.874913,
     "end_time": "2025-07-05T08:14:37.505048",
     "exception": false,
     "start_time": "2025-07-05T08:14:35.630135",
     "status": "completed"
    },
    "tags": []
   },
   "outputs": [],
   "source": [
    "import numpy as np \n",
    "import pandas as pd"
   ]
  },
  {
   "cell_type": "code",
   "execution_count": 2,
   "id": "ad8faf36",
   "metadata": {
    "execution": {
     "iopub.execute_input": "2025-07-05T08:14:37.514344Z",
     "iopub.status.busy": "2025-07-05T08:14:37.513857Z",
     "iopub.status.idle": "2025-07-05T08:14:37.631534Z",
     "shell.execute_reply": "2025-07-05T08:14:37.630485Z"
    },
    "papermill": {
     "duration": 0.12374,
     "end_time": "2025-07-05T08:14:37.633127",
     "exception": false,
     "start_time": "2025-07-05T08:14:37.509387",
     "status": "completed"
    },
    "tags": []
   },
   "outputs": [
    {
     "data": {
      "text/html": [
       "<div>\n",
       "<style scoped>\n",
       "    .dataframe tbody tr th:only-of-type {\n",
       "        vertical-align: middle;\n",
       "    }\n",
       "\n",
       "    .dataframe tbody tr th {\n",
       "        vertical-align: top;\n",
       "    }\n",
       "\n",
       "    .dataframe thead th {\n",
       "        text-align: right;\n",
       "    }\n",
       "</style>\n",
       "<table border=\"1\" class=\"dataframe\">\n",
       "  <thead>\n",
       "    <tr style=\"text-align: right;\">\n",
       "      <th></th>\n",
       "      <th>Name</th>\n",
       "      <th>Platform</th>\n",
       "      <th>Year</th>\n",
       "      <th>Genre</th>\n",
       "      <th>Publisher</th>\n",
       "      <th>NA_Sales</th>\n",
       "      <th>EU_Sales</th>\n",
       "      <th>JP_Sales</th>\n",
       "      <th>Other_Sales</th>\n",
       "      <th>Global_Sales</th>\n",
       "    </tr>\n",
       "    <tr>\n",
       "      <th>Rank</th>\n",
       "      <th></th>\n",
       "      <th></th>\n",
       "      <th></th>\n",
       "      <th></th>\n",
       "      <th></th>\n",
       "      <th></th>\n",
       "      <th></th>\n",
       "      <th></th>\n",
       "      <th></th>\n",
       "      <th></th>\n",
       "    </tr>\n",
       "  </thead>\n",
       "  <tbody>\n",
       "    <tr>\n",
       "      <th>1</th>\n",
       "      <td>Wii Sports</td>\n",
       "      <td>Wii</td>\n",
       "      <td>2006.0</td>\n",
       "      <td>Sports</td>\n",
       "      <td>Nintendo</td>\n",
       "      <td>41.49</td>\n",
       "      <td>29.02</td>\n",
       "      <td>3.77</td>\n",
       "      <td>8.46</td>\n",
       "      <td>82.74</td>\n",
       "    </tr>\n",
       "    <tr>\n",
       "      <th>2</th>\n",
       "      <td>Super Mario Bros.</td>\n",
       "      <td>NES</td>\n",
       "      <td>1985.0</td>\n",
       "      <td>Platform</td>\n",
       "      <td>Nintendo</td>\n",
       "      <td>29.08</td>\n",
       "      <td>3.58</td>\n",
       "      <td>6.81</td>\n",
       "      <td>0.77</td>\n",
       "      <td>40.24</td>\n",
       "    </tr>\n",
       "    <tr>\n",
       "      <th>3</th>\n",
       "      <td>Mario Kart Wii</td>\n",
       "      <td>Wii</td>\n",
       "      <td>2008.0</td>\n",
       "      <td>Racing</td>\n",
       "      <td>Nintendo</td>\n",
       "      <td>15.85</td>\n",
       "      <td>12.88</td>\n",
       "      <td>3.79</td>\n",
       "      <td>3.31</td>\n",
       "      <td>35.82</td>\n",
       "    </tr>\n",
       "  </tbody>\n",
       "</table>\n",
       "</div>"
      ],
      "text/plain": [
       "                   Name Platform    Year     Genre Publisher  NA_Sales  \\\n",
       "Rank                                                                     \n",
       "1            Wii Sports      Wii  2006.0    Sports  Nintendo     41.49   \n",
       "2     Super Mario Bros.      NES  1985.0  Platform  Nintendo     29.08   \n",
       "3        Mario Kart Wii      Wii  2008.0    Racing  Nintendo     15.85   \n",
       "\n",
       "      EU_Sales  JP_Sales  Other_Sales  Global_Sales  \n",
       "Rank                                                 \n",
       "1        29.02      3.77         8.46         82.74  \n",
       "2         3.58      6.81         0.77         40.24  \n",
       "3        12.88      3.79         3.31         35.82  "
      ]
     },
     "execution_count": 2,
     "metadata": {},
     "output_type": "execute_result"
    }
   ],
   "source": [
    "df = pd.read_csv('/kaggle/input/video-game-sales/vgsales.csv', index_col = 'Rank')\n",
    "df.head(3)"
   ]
  },
  {
   "cell_type": "code",
   "execution_count": 3,
   "id": "bd934b66",
   "metadata": {
    "execution": {
     "iopub.execute_input": "2025-07-05T08:14:37.641594Z",
     "iopub.status.busy": "2025-07-05T08:14:37.641273Z",
     "iopub.status.idle": "2025-07-05T08:14:37.647070Z",
     "shell.execute_reply": "2025-07-05T08:14:37.646216Z"
    },
    "papermill": {
     "duration": 0.011618,
     "end_time": "2025-07-05T08:14:37.648526",
     "exception": false,
     "start_time": "2025-07-05T08:14:37.636908",
     "status": "completed"
    },
    "tags": []
   },
   "outputs": [
    {
     "data": {
      "text/plain": [
       "Index(['Name', 'Platform', 'Year', 'Genre', 'Publisher', 'NA_Sales',\n",
       "       'EU_Sales', 'JP_Sales', 'Other_Sales', 'Global_Sales'],\n",
       "      dtype='object')"
      ]
     },
     "execution_count": 3,
     "metadata": {},
     "output_type": "execute_result"
    }
   ],
   "source": [
    "df.columns"
   ]
  },
  {
   "cell_type": "code",
   "execution_count": 4,
   "id": "fb5eaa33",
   "metadata": {
    "execution": {
     "iopub.execute_input": "2025-07-05T08:14:37.657285Z",
     "iopub.status.busy": "2025-07-05T08:14:37.656929Z",
     "iopub.status.idle": "2025-07-05T08:14:37.665211Z",
     "shell.execute_reply": "2025-07-05T08:14:37.664248Z"
    },
    "papermill": {
     "duration": 0.014384,
     "end_time": "2025-07-05T08:14:37.666679",
     "exception": false,
     "start_time": "2025-07-05T08:14:37.652295",
     "status": "completed"
    },
    "tags": []
   },
   "outputs": [
    {
     "data": {
      "text/plain": [
       "Rank\n",
       "1        82.74\n",
       "2        40.24\n",
       "3        35.82\n",
       "4        33.00\n",
       "5        31.37\n",
       "         ...  \n",
       "16596     0.01\n",
       "16597     0.01\n",
       "16598     0.01\n",
       "16599     0.01\n",
       "16600     0.01\n",
       "Name: Global_Sales, Length: 16598, dtype: float64"
      ]
     },
     "execution_count": 4,
     "metadata": {},
     "output_type": "execute_result"
    }
   ],
   "source": [
    "df['Global_Sales']"
   ]
  },
  {
   "cell_type": "code",
   "execution_count": 5,
   "id": "c0b88ff0",
   "metadata": {
    "execution": {
     "iopub.execute_input": "2025-07-05T08:14:37.675553Z",
     "iopub.status.busy": "2025-07-05T08:14:37.675219Z",
     "iopub.status.idle": "2025-07-05T08:14:37.682272Z",
     "shell.execute_reply": "2025-07-05T08:14:37.681525Z"
    },
    "papermill": {
     "duration": 0.01305,
     "end_time": "2025-07-05T08:14:37.683641",
     "exception": false,
     "start_time": "2025-07-05T08:14:37.670591",
     "status": "completed"
    },
    "tags": []
   },
   "outputs": [
    {
     "data": {
      "text/plain": [
       "Rank\n",
       "1                                              Wii Sports\n",
       "2                                       Super Mario Bros.\n",
       "3                                          Mario Kart Wii\n",
       "4                                       Wii Sports Resort\n",
       "5                                Pokemon Red/Pokemon Blue\n",
       "                               ...                       \n",
       "16596                  Woody Woodpecker in Crazy Castle 5\n",
       "16597                       Men in Black II: Alien Escape\n",
       "16598    SCORE International Baja 1000: The Official Game\n",
       "16599                                          Know How 2\n",
       "16600                                    Spirits & Spells\n",
       "Name: Name, Length: 16598, dtype: object"
      ]
     },
     "execution_count": 5,
     "metadata": {},
     "output_type": "execute_result"
    }
   ],
   "source": [
    "df['Name']"
   ]
  },
  {
   "cell_type": "code",
   "execution_count": 6,
   "id": "6431c36e",
   "metadata": {
    "execution": {
     "iopub.execute_input": "2025-07-05T08:14:37.692620Z",
     "iopub.status.busy": "2025-07-05T08:14:37.692314Z",
     "iopub.status.idle": "2025-07-05T08:14:37.699791Z",
     "shell.execute_reply": "2025-07-05T08:14:37.698823Z"
    },
    "papermill": {
     "duration": 0.013729,
     "end_time": "2025-07-05T08:14:37.701220",
     "exception": false,
     "start_time": "2025-07-05T08:14:37.687491",
     "status": "completed"
    },
    "tags": []
   },
   "outputs": [
    {
     "data": {
      "text/plain": [
       "Rank\n",
       "1        29.02\n",
       "2         3.58\n",
       "3        12.88\n",
       "4        11.01\n",
       "5         8.89\n",
       "         ...  \n",
       "16596     0.00\n",
       "16597     0.00\n",
       "16598     0.00\n",
       "16599     0.01\n",
       "16600     0.00\n",
       "Name: EU_Sales, Length: 16598, dtype: float64"
      ]
     },
     "execution_count": 6,
     "metadata": {},
     "output_type": "execute_result"
    }
   ],
   "source": [
    "df['EU_Sales']"
   ]
  },
  {
   "cell_type": "code",
   "execution_count": 7,
   "id": "1af90c6a",
   "metadata": {
    "execution": {
     "iopub.execute_input": "2025-07-05T08:14:37.710296Z",
     "iopub.status.busy": "2025-07-05T08:14:37.709990Z",
     "iopub.status.idle": "2025-07-05T08:14:37.715458Z",
     "shell.execute_reply": "2025-07-05T08:14:37.714739Z"
    },
    "papermill": {
     "duration": 0.011587,
     "end_time": "2025-07-05T08:14:37.716846",
     "exception": false,
     "start_time": "2025-07-05T08:14:37.705259",
     "status": "completed"
    },
    "tags": []
   },
   "outputs": [
    {
     "data": {
      "text/plain": [
       "pandas.core.series.Series"
      ]
     },
     "execution_count": 7,
     "metadata": {},
     "output_type": "execute_result"
    }
   ],
   "source": [
    "type(df['Global_Sales'])"
   ]
  },
  {
   "cell_type": "code",
   "execution_count": 8,
   "id": "7857fc04",
   "metadata": {
    "execution": {
     "iopub.execute_input": "2025-07-05T08:14:37.727759Z",
     "iopub.status.busy": "2025-07-05T08:14:37.727461Z",
     "iopub.status.idle": "2025-07-05T08:14:37.733977Z",
     "shell.execute_reply": "2025-07-05T08:14:37.733068Z"
    },
    "papermill": {
     "duration": 0.014489,
     "end_time": "2025-07-05T08:14:37.735494",
     "exception": false,
     "start_time": "2025-07-05T08:14:37.721005",
     "status": "completed"
    },
    "tags": []
   },
   "outputs": [
    {
     "data": {
      "text/plain": [
       "0.5374406555006628"
      ]
     },
     "execution_count": 8,
     "metadata": {},
     "output_type": "execute_result"
    }
   ],
   "source": [
    "df['Global_Sales'].mean()"
   ]
  },
  {
   "cell_type": "code",
   "execution_count": 9,
   "id": "92d31b0e",
   "metadata": {
    "execution": {
     "iopub.execute_input": "2025-07-05T08:14:37.744839Z",
     "iopub.status.busy": "2025-07-05T08:14:37.744529Z",
     "iopub.status.idle": "2025-07-05T08:14:37.750010Z",
     "shell.execute_reply": "2025-07-05T08:14:37.749207Z"
    },
    "papermill": {
     "duration": 0.011842,
     "end_time": "2025-07-05T08:14:37.751411",
     "exception": false,
     "start_time": "2025-07-05T08:14:37.739569",
     "status": "completed"
    },
    "tags": []
   },
   "outputs": [
    {
     "data": {
      "text/plain": [
       "1.5550279355699022"
      ]
     },
     "execution_count": 9,
     "metadata": {},
     "output_type": "execute_result"
    }
   ],
   "source": [
    "df['Global_Sales'].std()"
   ]
  },
  {
   "cell_type": "code",
   "execution_count": 10,
   "id": "621358cf",
   "metadata": {
    "execution": {
     "iopub.execute_input": "2025-07-05T08:14:37.760534Z",
     "iopub.status.busy": "2025-07-05T08:14:37.760199Z",
     "iopub.status.idle": "2025-07-05T08:14:37.768331Z",
     "shell.execute_reply": "2025-07-05T08:14:37.767410Z"
    },
    "papermill": {
     "duration": 0.014444,
     "end_time": "2025-07-05T08:14:37.769878",
     "exception": false,
     "start_time": "2025-07-05T08:14:37.755434",
     "status": "completed"
    },
    "tags": []
   },
   "outputs": [
    {
     "data": {
      "text/plain": [
       "0    0.02\n",
       "Name: Global_Sales, dtype: float64"
      ]
     },
     "execution_count": 10,
     "metadata": {},
     "output_type": "execute_result"
    }
   ],
   "source": [
    "df['Global_Sales'].mode()"
   ]
  },
  {
   "cell_type": "code",
   "execution_count": 11,
   "id": "cbc527d9",
   "metadata": {
    "execution": {
     "iopub.execute_input": "2025-07-05T08:14:37.779264Z",
     "iopub.status.busy": "2025-07-05T08:14:37.778947Z",
     "iopub.status.idle": "2025-07-05T08:14:37.785048Z",
     "shell.execute_reply": "2025-07-05T08:14:37.784306Z"
    },
    "papermill": {
     "duration": 0.012386,
     "end_time": "2025-07-05T08:14:37.786488",
     "exception": false,
     "start_time": "2025-07-05T08:14:37.774102",
     "status": "completed"
    },
    "tags": []
   },
   "outputs": [
    {
     "data": {
      "text/plain": [
       "8920.44"
      ]
     },
     "execution_count": 11,
     "metadata": {},
     "output_type": "execute_result"
    }
   ],
   "source": [
    "df['Global_Sales'].sum()"
   ]
  },
  {
   "cell_type": "code",
   "execution_count": 12,
   "id": "f04d89bc",
   "metadata": {
    "execution": {
     "iopub.execute_input": "2025-07-05T08:14:37.795962Z",
     "iopub.status.busy": "2025-07-05T08:14:37.795652Z",
     "iopub.status.idle": "2025-07-05T08:14:37.801056Z",
     "shell.execute_reply": "2025-07-05T08:14:37.800383Z"
    },
    "papermill": {
     "duration": 0.01165,
     "end_time": "2025-07-05T08:14:37.802366",
     "exception": false,
     "start_time": "2025-07-05T08:14:37.790716",
     "status": "completed"
    },
    "tags": []
   },
   "outputs": [
    {
     "data": {
      "text/plain": [
       "82.74"
      ]
     },
     "execution_count": 12,
     "metadata": {},
     "output_type": "execute_result"
    }
   ],
   "source": [
    "df['Global_Sales'].max()"
   ]
  },
  {
   "cell_type": "code",
   "execution_count": 13,
   "id": "7192f284",
   "metadata": {
    "execution": {
     "iopub.execute_input": "2025-07-05T08:14:37.811939Z",
     "iopub.status.busy": "2025-07-05T08:14:37.811650Z",
     "iopub.status.idle": "2025-07-05T08:14:37.817454Z",
     "shell.execute_reply": "2025-07-05T08:14:37.816537Z"
    },
    "papermill": {
     "duration": 0.012271,
     "end_time": "2025-07-05T08:14:37.818840",
     "exception": false,
     "start_time": "2025-07-05T08:14:37.806569",
     "status": "completed"
    },
    "tags": []
   },
   "outputs": [
    {
     "data": {
      "text/plain": [
       "0.01"
      ]
     },
     "execution_count": 13,
     "metadata": {},
     "output_type": "execute_result"
    }
   ],
   "source": [
    "df['Global_Sales'].min()"
   ]
  },
  {
   "cell_type": "code",
   "execution_count": 14,
   "id": "8ba45888",
   "metadata": {
    "execution": {
     "iopub.execute_input": "2025-07-05T08:14:37.829304Z",
     "iopub.status.busy": "2025-07-05T08:14:37.828618Z",
     "iopub.status.idle": "2025-07-05T08:14:37.843123Z",
     "shell.execute_reply": "2025-07-05T08:14:37.842290Z"
    },
    "papermill": {
     "duration": 0.02109,
     "end_time": "2025-07-05T08:14:37.844587",
     "exception": false,
     "start_time": "2025-07-05T08:14:37.823497",
     "status": "completed"
    },
    "tags": []
   },
   "outputs": [
    {
     "data": {
      "text/html": [
       "<div>\n",
       "<style scoped>\n",
       "    .dataframe tbody tr th:only-of-type {\n",
       "        vertical-align: middle;\n",
       "    }\n",
       "\n",
       "    .dataframe tbody tr th {\n",
       "        vertical-align: top;\n",
       "    }\n",
       "\n",
       "    .dataframe thead th {\n",
       "        text-align: right;\n",
       "    }\n",
       "</style>\n",
       "<table border=\"1\" class=\"dataframe\">\n",
       "  <thead>\n",
       "    <tr style=\"text-align: right;\">\n",
       "      <th></th>\n",
       "      <th>Name</th>\n",
       "      <th>Genre</th>\n",
       "      <th>Global_Sales</th>\n",
       "    </tr>\n",
       "    <tr>\n",
       "      <th>Rank</th>\n",
       "      <th></th>\n",
       "      <th></th>\n",
       "      <th></th>\n",
       "    </tr>\n",
       "  </thead>\n",
       "  <tbody>\n",
       "    <tr>\n",
       "      <th>1</th>\n",
       "      <td>Wii Sports</td>\n",
       "      <td>Sports</td>\n",
       "      <td>82.74</td>\n",
       "    </tr>\n",
       "    <tr>\n",
       "      <th>2</th>\n",
       "      <td>Super Mario Bros.</td>\n",
       "      <td>Platform</td>\n",
       "      <td>40.24</td>\n",
       "    </tr>\n",
       "    <tr>\n",
       "      <th>3</th>\n",
       "      <td>Mario Kart Wii</td>\n",
       "      <td>Racing</td>\n",
       "      <td>35.82</td>\n",
       "    </tr>\n",
       "    <tr>\n",
       "      <th>4</th>\n",
       "      <td>Wii Sports Resort</td>\n",
       "      <td>Sports</td>\n",
       "      <td>33.00</td>\n",
       "    </tr>\n",
       "    <tr>\n",
       "      <th>5</th>\n",
       "      <td>Pokemon Red/Pokemon Blue</td>\n",
       "      <td>Role-Playing</td>\n",
       "      <td>31.37</td>\n",
       "    </tr>\n",
       "    <tr>\n",
       "      <th>...</th>\n",
       "      <td>...</td>\n",
       "      <td>...</td>\n",
       "      <td>...</td>\n",
       "    </tr>\n",
       "    <tr>\n",
       "      <th>16596</th>\n",
       "      <td>Woody Woodpecker in Crazy Castle 5</td>\n",
       "      <td>Platform</td>\n",
       "      <td>0.01</td>\n",
       "    </tr>\n",
       "    <tr>\n",
       "      <th>16597</th>\n",
       "      <td>Men in Black II: Alien Escape</td>\n",
       "      <td>Shooter</td>\n",
       "      <td>0.01</td>\n",
       "    </tr>\n",
       "    <tr>\n",
       "      <th>16598</th>\n",
       "      <td>SCORE International Baja 1000: The Official Game</td>\n",
       "      <td>Racing</td>\n",
       "      <td>0.01</td>\n",
       "    </tr>\n",
       "    <tr>\n",
       "      <th>16599</th>\n",
       "      <td>Know How 2</td>\n",
       "      <td>Puzzle</td>\n",
       "      <td>0.01</td>\n",
       "    </tr>\n",
       "    <tr>\n",
       "      <th>16600</th>\n",
       "      <td>Spirits &amp; Spells</td>\n",
       "      <td>Platform</td>\n",
       "      <td>0.01</td>\n",
       "    </tr>\n",
       "  </tbody>\n",
       "</table>\n",
       "<p>16598 rows × 3 columns</p>\n",
       "</div>"
      ],
      "text/plain": [
       "                                                   Name         Genre  \\\n",
       "Rank                                                                    \n",
       "1                                            Wii Sports        Sports   \n",
       "2                                     Super Mario Bros.      Platform   \n",
       "3                                        Mario Kart Wii        Racing   \n",
       "4                                     Wii Sports Resort        Sports   \n",
       "5                              Pokemon Red/Pokemon Blue  Role-Playing   \n",
       "...                                                 ...           ...   \n",
       "16596                Woody Woodpecker in Crazy Castle 5      Platform   \n",
       "16597                     Men in Black II: Alien Escape       Shooter   \n",
       "16598  SCORE International Baja 1000: The Official Game        Racing   \n",
       "16599                                        Know How 2        Puzzle   \n",
       "16600                                  Spirits & Spells      Platform   \n",
       "\n",
       "       Global_Sales  \n",
       "Rank                 \n",
       "1             82.74  \n",
       "2             40.24  \n",
       "3             35.82  \n",
       "4             33.00  \n",
       "5             31.37  \n",
       "...             ...  \n",
       "16596          0.01  \n",
       "16597          0.01  \n",
       "16598          0.01  \n",
       "16599          0.01  \n",
       "16600          0.01  \n",
       "\n",
       "[16598 rows x 3 columns]"
      ]
     },
     "execution_count": 14,
     "metadata": {},
     "output_type": "execute_result"
    }
   ],
   "source": [
    "df[['Name','Genre','Global_Sales']]"
   ]
  },
  {
   "cell_type": "code",
   "execution_count": null,
   "id": "46421fcf",
   "metadata": {
    "papermill": {
     "duration": 0.004397,
     "end_time": "2025-07-05T08:14:37.854148",
     "exception": false,
     "start_time": "2025-07-05T08:14:37.849751",
     "status": "completed"
    },
    "tags": []
   },
   "outputs": [],
   "source": []
  },
  {
   "cell_type": "code",
   "execution_count": null,
   "id": "07b1ffac",
   "metadata": {
    "papermill": {
     "duration": 0.004205,
     "end_time": "2025-07-05T08:14:37.863470",
     "exception": false,
     "start_time": "2025-07-05T08:14:37.859265",
     "status": "completed"
    },
    "tags": []
   },
   "outputs": [],
   "source": []
  },
  {
   "cell_type": "code",
   "execution_count": null,
   "id": "79b24486",
   "metadata": {
    "papermill": {
     "duration": 0.004259,
     "end_time": "2025-07-05T08:14:37.872184",
     "exception": false,
     "start_time": "2025-07-05T08:14:37.867925",
     "status": "completed"
    },
    "tags": []
   },
   "outputs": [],
   "source": []
  },
  {
   "cell_type": "code",
   "execution_count": null,
   "id": "6dd09c7e",
   "metadata": {
    "papermill": {
     "duration": 0.004393,
     "end_time": "2025-07-05T08:14:37.881203",
     "exception": false,
     "start_time": "2025-07-05T08:14:37.876810",
     "status": "completed"
    },
    "tags": []
   },
   "outputs": [],
   "source": []
  },
  {
   "cell_type": "code",
   "execution_count": null,
   "id": "b3b7b9bd",
   "metadata": {
    "papermill": {
     "duration": 0.004196,
     "end_time": "2025-07-05T08:14:37.889954",
     "exception": false,
     "start_time": "2025-07-05T08:14:37.885758",
     "status": "completed"
    },
    "tags": []
   },
   "outputs": [],
   "source": []
  }
 ],
 "metadata": {
  "kaggle": {
   "accelerator": "none",
   "dataSources": [
    {
     "datasetId": 7770728,
     "sourceId": 12327516,
     "sourceType": "datasetVersion"
    }
   ],
   "dockerImageVersionId": 31040,
   "isGpuEnabled": false,
   "isInternetEnabled": true,
   "language": "python",
   "sourceType": "notebook"
  },
  "kernelspec": {
   "display_name": "Python 3",
   "language": "python",
   "name": "python3"
  },
  "language_info": {
   "codemirror_mode": {
    "name": "ipython",
    "version": 3
   },
   "file_extension": ".py",
   "mimetype": "text/x-python",
   "name": "python",
   "nbconvert_exporter": "python",
   "pygments_lexer": "ipython3",
   "version": "3.11.11"
  },
  "papermill": {
   "default_parameters": {},
   "duration": 8.50532,
   "end_time": "2025-07-05T08:14:38.413796",
   "environment_variables": {},
   "exception": null,
   "input_path": "__notebook__.ipynb",
   "output_path": "__notebook__.ipynb",
   "parameters": {},
   "start_time": "2025-07-05T08:14:29.908476",
   "version": "2.6.0"
  }
 },
 "nbformat": 4,
 "nbformat_minor": 5
}
