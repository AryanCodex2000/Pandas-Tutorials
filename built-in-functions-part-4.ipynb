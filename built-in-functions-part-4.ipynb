{
 "cells": [
  {
   "cell_type": "code",
   "execution_count": 1,
   "id": "0bf1f9b3",
   "metadata": {
    "_cell_guid": "b1076dfc-b9ad-4769-8c92-a6c4dae69d19",
    "_uuid": "8f2839f25d086af736a60e9eeb907d3b93b6e0e5",
    "execution": {
     "iopub.execute_input": "2025-07-02T06:34:20.731862Z",
     "iopub.status.busy": "2025-07-02T06:34:20.730988Z",
     "iopub.status.idle": "2025-07-02T06:34:23.252555Z",
     "shell.execute_reply": "2025-07-02T06:34:23.251475Z"
    },
    "papermill": {
     "duration": 2.529286,
     "end_time": "2025-07-02T06:34:23.254840",
     "exception": false,
     "start_time": "2025-07-02T06:34:20.725554",
     "status": "completed"
    },
    "tags": []
   },
   "outputs": [],
   "source": [
    "import pandas as pd"
   ]
  },
  {
   "cell_type": "code",
   "execution_count": 2,
   "id": "f2825f4f",
   "metadata": {
    "execution": {
     "iopub.execute_input": "2025-07-02T06:34:23.265097Z",
     "iopub.status.busy": "2025-07-02T06:34:23.264613Z",
     "iopub.status.idle": "2025-07-02T06:34:23.275143Z",
     "shell.execute_reply": "2025-07-02T06:34:23.274094Z"
    },
    "papermill": {
     "duration": 0.018065,
     "end_time": "2025-07-02T06:34:23.277004",
     "exception": false,
     "start_time": "2025-07-02T06:34:23.258939",
     "status": "completed"
    },
    "tags": []
   },
   "outputs": [],
   "source": [
    "s = pd.Series([23,32,43,53,54,56,67,34,54,23,53,54], index = ['Aryan','Sumit','Keshav','Ronit','Shubham','Kesari','Pooja','Eshani','Shubham','Aryan','Ronit','Shubham'])"
   ]
  },
  {
   "cell_type": "code",
   "execution_count": 3,
   "id": "65e27f1a",
   "metadata": {
    "execution": {
     "iopub.execute_input": "2025-07-02T06:34:23.285838Z",
     "iopub.status.busy": "2025-07-02T06:34:23.285552Z",
     "iopub.status.idle": "2025-07-02T06:34:23.310602Z",
     "shell.execute_reply": "2025-07-02T06:34:23.309248Z"
    },
    "papermill": {
     "duration": 0.031792,
     "end_time": "2025-07-02T06:34:23.312742",
     "exception": false,
     "start_time": "2025-07-02T06:34:23.280950",
     "status": "completed"
    },
    "tags": []
   },
   "outputs": [
    {
     "data": {
      "text/plain": [
       "Aryan      23\n",
       "Sumit      32\n",
       "Keshav     43\n",
       "Ronit      53\n",
       "Shubham    54\n",
       "Kesari     56\n",
       "Pooja      67\n",
       "Eshani     34\n",
       "Shubham    54\n",
       "Aryan      23\n",
       "Ronit      53\n",
       "Shubham    54\n",
       "dtype: int64"
      ]
     },
     "execution_count": 3,
     "metadata": {},
     "output_type": "execute_result"
    }
   ],
   "source": [
    "s"
   ]
  },
  {
   "cell_type": "code",
   "execution_count": 4,
   "id": "0896db84",
   "metadata": {
    "execution": {
     "iopub.execute_input": "2025-07-02T06:34:23.322772Z",
     "iopub.status.busy": "2025-07-02T06:34:23.322399Z",
     "iopub.status.idle": "2025-07-02T06:34:23.342925Z",
     "shell.execute_reply": "2025-07-02T06:34:23.341499Z"
    },
    "papermill": {
     "duration": 0.02804,
     "end_time": "2025-07-02T06:34:23.344908",
     "exception": false,
     "start_time": "2025-07-02T06:34:23.316868",
     "status": "completed"
    },
    "tags": []
   },
   "outputs": [
    {
     "data": {
      "text/plain": [
       "Aryan      23\n",
       "Sumit      32\n",
       "Keshav     43\n",
       "Ronit      53\n",
       "Shubham    54\n",
       "Kesari     56\n",
       "Pooja      67\n",
       "Eshani     34\n",
       "dtype: int64"
      ]
     },
     "execution_count": 4,
     "metadata": {},
     "output_type": "execute_result"
    }
   ],
   "source": [
    "#drop the duplicates records in the data\n",
    "s.drop_duplicates()"
   ]
  },
  {
   "cell_type": "code",
   "execution_count": 5,
   "id": "19ba385d",
   "metadata": {
    "execution": {
     "iopub.execute_input": "2025-07-02T06:34:23.354615Z",
     "iopub.status.busy": "2025-07-02T06:34:23.354251Z",
     "iopub.status.idle": "2025-07-02T06:34:23.363070Z",
     "shell.execute_reply": "2025-07-02T06:34:23.361439Z"
    },
    "papermill": {
     "duration": 0.015998,
     "end_time": "2025-07-02T06:34:23.365052",
     "exception": false,
     "start_time": "2025-07-02T06:34:23.349054",
     "status": "completed"
    },
    "tags": []
   },
   "outputs": [
    {
     "data": {
      "text/plain": [
       "Sumit      32\n",
       "Keshav     43\n",
       "Kesari     56\n",
       "Pooja      67\n",
       "Eshani     34\n",
       "Aryan      23\n",
       "Ronit      53\n",
       "Shubham    54\n",
       "dtype: int64"
      ]
     },
     "execution_count": 5,
     "metadata": {},
     "output_type": "execute_result"
    }
   ],
   "source": [
    "s.drop_duplicates(keep = 'last')"
   ]
  },
  {
   "cell_type": "code",
   "execution_count": 6,
   "id": "f90877e7",
   "metadata": {
    "execution": {
     "iopub.execute_input": "2025-07-02T06:34:23.377032Z",
     "iopub.status.busy": "2025-07-02T06:34:23.376640Z",
     "iopub.status.idle": "2025-07-02T06:34:23.384859Z",
     "shell.execute_reply": "2025-07-02T06:34:23.383943Z"
    },
    "papermill": {
     "duration": 0.017645,
     "end_time": "2025-07-02T06:34:23.386985",
     "exception": false,
     "start_time": "2025-07-02T06:34:23.369340",
     "status": "completed"
    },
    "tags": []
   },
   "outputs": [
    {
     "data": {
      "text/plain": [
       "Aryan      23\n",
       "Sumit      32\n",
       "Keshav     43\n",
       "Ronit      53\n",
       "Shubham    54\n",
       "Kesari     56\n",
       "Pooja      67\n",
       "Eshani     34\n",
       "dtype: int64"
      ]
     },
     "execution_count": 6,
     "metadata": {},
     "output_type": "execute_result"
    }
   ],
   "source": [
    "s.drop_duplicates(keep = 'first')"
   ]
  },
  {
   "cell_type": "code",
   "execution_count": 7,
   "id": "4baaff06",
   "metadata": {
    "execution": {
     "iopub.execute_input": "2025-07-02T06:34:23.396458Z",
     "iopub.status.busy": "2025-07-02T06:34:23.396128Z",
     "iopub.status.idle": "2025-07-02T06:34:23.404555Z",
     "shell.execute_reply": "2025-07-02T06:34:23.403323Z"
    },
    "papermill": {
     "duration": 0.0152,
     "end_time": "2025-07-02T06:34:23.406349",
     "exception": false,
     "start_time": "2025-07-02T06:34:23.391149",
     "status": "completed"
    },
    "tags": []
   },
   "outputs": [
    {
     "data": {
      "text/plain": [
       "Sumit     32\n",
       "Keshav    43\n",
       "Kesari    56\n",
       "Pooja     67\n",
       "Eshani    34\n",
       "dtype: int64"
      ]
     },
     "execution_count": 7,
     "metadata": {},
     "output_type": "execute_result"
    }
   ],
   "source": [
    "s.drop_duplicates(keep = False, inplace = True)\n",
    "s\n"
   ]
  },
  {
   "cell_type": "code",
   "execution_count": 8,
   "id": "c1432fd7",
   "metadata": {
    "execution": {
     "iopub.execute_input": "2025-07-02T06:34:23.415650Z",
     "iopub.status.busy": "2025-07-02T06:34:23.415310Z",
     "iopub.status.idle": "2025-07-02T06:34:23.534786Z",
     "shell.execute_reply": "2025-07-02T06:34:23.533563Z"
    },
    "papermill": {
     "duration": 0.126532,
     "end_time": "2025-07-02T06:34:23.536875",
     "exception": false,
     "start_time": "2025-07-02T06:34:23.410343",
     "status": "completed"
    },
    "tags": []
   },
   "outputs": [
    {
     "data": {
      "text/html": [
       "<div>\n",
       "<style scoped>\n",
       "    .dataframe tbody tr th:only-of-type {\n",
       "        vertical-align: middle;\n",
       "    }\n",
       "\n",
       "    .dataframe tbody tr th {\n",
       "        vertical-align: top;\n",
       "    }\n",
       "\n",
       "    .dataframe thead th {\n",
       "        text-align: right;\n",
       "    }\n",
       "</style>\n",
       "<table border=\"1\" class=\"dataframe\">\n",
       "  <thead>\n",
       "    <tr style=\"text-align: right;\">\n",
       "      <th></th>\n",
       "      <th>Rank</th>\n",
       "      <th>Name</th>\n",
       "      <th>Platform</th>\n",
       "      <th>Year</th>\n",
       "      <th>Genre</th>\n",
       "      <th>Publisher</th>\n",
       "      <th>NA_Sales</th>\n",
       "      <th>EU_Sales</th>\n",
       "      <th>JP_Sales</th>\n",
       "      <th>Other_Sales</th>\n",
       "      <th>Global_Sales</th>\n",
       "    </tr>\n",
       "  </thead>\n",
       "  <tbody>\n",
       "    <tr>\n",
       "      <th>0</th>\n",
       "      <td>1</td>\n",
       "      <td>Wii Sports</td>\n",
       "      <td>Wii</td>\n",
       "      <td>2006.0</td>\n",
       "      <td>Sports</td>\n",
       "      <td>Nintendo</td>\n",
       "      <td>41.49</td>\n",
       "      <td>29.02</td>\n",
       "      <td>3.77</td>\n",
       "      <td>8.46</td>\n",
       "      <td>82.74</td>\n",
       "    </tr>\n",
       "    <tr>\n",
       "      <th>1</th>\n",
       "      <td>2</td>\n",
       "      <td>Super Mario Bros.</td>\n",
       "      <td>NES</td>\n",
       "      <td>1985.0</td>\n",
       "      <td>Platform</td>\n",
       "      <td>Nintendo</td>\n",
       "      <td>29.08</td>\n",
       "      <td>3.58</td>\n",
       "      <td>6.81</td>\n",
       "      <td>0.77</td>\n",
       "      <td>40.24</td>\n",
       "    </tr>\n",
       "    <tr>\n",
       "      <th>2</th>\n",
       "      <td>3</td>\n",
       "      <td>Mario Kart Wii</td>\n",
       "      <td>Wii</td>\n",
       "      <td>2008.0</td>\n",
       "      <td>Racing</td>\n",
       "      <td>Nintendo</td>\n",
       "      <td>15.85</td>\n",
       "      <td>12.88</td>\n",
       "      <td>3.79</td>\n",
       "      <td>3.31</td>\n",
       "      <td>35.82</td>\n",
       "    </tr>\n",
       "    <tr>\n",
       "      <th>3</th>\n",
       "      <td>4</td>\n",
       "      <td>Wii Sports Resort</td>\n",
       "      <td>Wii</td>\n",
       "      <td>2009.0</td>\n",
       "      <td>Sports</td>\n",
       "      <td>Nintendo</td>\n",
       "      <td>15.75</td>\n",
       "      <td>11.01</td>\n",
       "      <td>3.28</td>\n",
       "      <td>2.96</td>\n",
       "      <td>33.00</td>\n",
       "    </tr>\n",
       "    <tr>\n",
       "      <th>4</th>\n",
       "      <td>5</td>\n",
       "      <td>Pokemon Red/Pokemon Blue</td>\n",
       "      <td>GB</td>\n",
       "      <td>1996.0</td>\n",
       "      <td>Role-Playing</td>\n",
       "      <td>Nintendo</td>\n",
       "      <td>11.27</td>\n",
       "      <td>8.89</td>\n",
       "      <td>10.22</td>\n",
       "      <td>1.00</td>\n",
       "      <td>31.37</td>\n",
       "    </tr>\n",
       "    <tr>\n",
       "      <th>...</th>\n",
       "      <td>...</td>\n",
       "      <td>...</td>\n",
       "      <td>...</td>\n",
       "      <td>...</td>\n",
       "      <td>...</td>\n",
       "      <td>...</td>\n",
       "      <td>...</td>\n",
       "      <td>...</td>\n",
       "      <td>...</td>\n",
       "      <td>...</td>\n",
       "      <td>...</td>\n",
       "    </tr>\n",
       "    <tr>\n",
       "      <th>16593</th>\n",
       "      <td>16596</td>\n",
       "      <td>Woody Woodpecker in Crazy Castle 5</td>\n",
       "      <td>GBA</td>\n",
       "      <td>2002.0</td>\n",
       "      <td>Platform</td>\n",
       "      <td>Kemco</td>\n",
       "      <td>0.01</td>\n",
       "      <td>0.00</td>\n",
       "      <td>0.00</td>\n",
       "      <td>0.00</td>\n",
       "      <td>0.01</td>\n",
       "    </tr>\n",
       "    <tr>\n",
       "      <th>16594</th>\n",
       "      <td>16597</td>\n",
       "      <td>Men in Black II: Alien Escape</td>\n",
       "      <td>GC</td>\n",
       "      <td>2003.0</td>\n",
       "      <td>Shooter</td>\n",
       "      <td>Infogrames</td>\n",
       "      <td>0.01</td>\n",
       "      <td>0.00</td>\n",
       "      <td>0.00</td>\n",
       "      <td>0.00</td>\n",
       "      <td>0.01</td>\n",
       "    </tr>\n",
       "    <tr>\n",
       "      <th>16595</th>\n",
       "      <td>16598</td>\n",
       "      <td>SCORE International Baja 1000: The Official Game</td>\n",
       "      <td>PS2</td>\n",
       "      <td>2008.0</td>\n",
       "      <td>Racing</td>\n",
       "      <td>Activision</td>\n",
       "      <td>0.00</td>\n",
       "      <td>0.00</td>\n",
       "      <td>0.00</td>\n",
       "      <td>0.00</td>\n",
       "      <td>0.01</td>\n",
       "    </tr>\n",
       "    <tr>\n",
       "      <th>16596</th>\n",
       "      <td>16599</td>\n",
       "      <td>Know How 2</td>\n",
       "      <td>DS</td>\n",
       "      <td>2010.0</td>\n",
       "      <td>Puzzle</td>\n",
       "      <td>7G//AMES</td>\n",
       "      <td>0.00</td>\n",
       "      <td>0.01</td>\n",
       "      <td>0.00</td>\n",
       "      <td>0.00</td>\n",
       "      <td>0.01</td>\n",
       "    </tr>\n",
       "    <tr>\n",
       "      <th>16597</th>\n",
       "      <td>16600</td>\n",
       "      <td>Spirits &amp; Spells</td>\n",
       "      <td>GBA</td>\n",
       "      <td>2003.0</td>\n",
       "      <td>Platform</td>\n",
       "      <td>Wanadoo</td>\n",
       "      <td>0.01</td>\n",
       "      <td>0.00</td>\n",
       "      <td>0.00</td>\n",
       "      <td>0.00</td>\n",
       "      <td>0.01</td>\n",
       "    </tr>\n",
       "  </tbody>\n",
       "</table>\n",
       "<p>16598 rows × 11 columns</p>\n",
       "</div>"
      ],
      "text/plain": [
       "        Rank                                              Name Platform  \\\n",
       "0          1                                        Wii Sports      Wii   \n",
       "1          2                                 Super Mario Bros.      NES   \n",
       "2          3                                    Mario Kart Wii      Wii   \n",
       "3          4                                 Wii Sports Resort      Wii   \n",
       "4          5                          Pokemon Red/Pokemon Blue       GB   \n",
       "...      ...                                               ...      ...   \n",
       "16593  16596                Woody Woodpecker in Crazy Castle 5      GBA   \n",
       "16594  16597                     Men in Black II: Alien Escape       GC   \n",
       "16595  16598  SCORE International Baja 1000: The Official Game      PS2   \n",
       "16596  16599                                        Know How 2       DS   \n",
       "16597  16600                                  Spirits & Spells      GBA   \n",
       "\n",
       "         Year         Genre   Publisher  NA_Sales  EU_Sales  JP_Sales  \\\n",
       "0      2006.0        Sports    Nintendo     41.49     29.02      3.77   \n",
       "1      1985.0      Platform    Nintendo     29.08      3.58      6.81   \n",
       "2      2008.0        Racing    Nintendo     15.85     12.88      3.79   \n",
       "3      2009.0        Sports    Nintendo     15.75     11.01      3.28   \n",
       "4      1996.0  Role-Playing    Nintendo     11.27      8.89     10.22   \n",
       "...       ...           ...         ...       ...       ...       ...   \n",
       "16593  2002.0      Platform       Kemco      0.01      0.00      0.00   \n",
       "16594  2003.0       Shooter  Infogrames      0.01      0.00      0.00   \n",
       "16595  2008.0        Racing  Activision      0.00      0.00      0.00   \n",
       "16596  2010.0        Puzzle    7G//AMES      0.00      0.01      0.00   \n",
       "16597  2003.0      Platform     Wanadoo      0.01      0.00      0.00   \n",
       "\n",
       "       Other_Sales  Global_Sales  \n",
       "0             8.46         82.74  \n",
       "1             0.77         40.24  \n",
       "2             3.31         35.82  \n",
       "3             2.96         33.00  \n",
       "4             1.00         31.37  \n",
       "...            ...           ...  \n",
       "16593         0.00          0.01  \n",
       "16594         0.00          0.01  \n",
       "16595         0.00          0.01  \n",
       "16596         0.00          0.01  \n",
       "16597         0.00          0.01  \n",
       "\n",
       "[16598 rows x 11 columns]"
      ]
     },
     "execution_count": 8,
     "metadata": {},
     "output_type": "execute_result"
    }
   ],
   "source": [
    "data = pd.read_csv('/kaggle/input/videogamesales/vgsales.csv')\n",
    "data"
   ]
  },
  {
   "cell_type": "code",
   "execution_count": 9,
   "id": "9db8a892",
   "metadata": {
    "execution": {
     "iopub.execute_input": "2025-07-02T06:34:23.547914Z",
     "iopub.status.busy": "2025-07-02T06:34:23.546942Z",
     "iopub.status.idle": "2025-07-02T06:34:23.588133Z",
     "shell.execute_reply": "2025-07-02T06:34:23.587047Z"
    },
    "papermill": {
     "duration": 0.048722,
     "end_time": "2025-07-02T06:34:23.590265",
     "exception": false,
     "start_time": "2025-07-02T06:34:23.541543",
     "status": "completed"
    },
    "tags": []
   },
   "outputs": [
    {
     "data": {
      "text/html": [
       "<div>\n",
       "<style scoped>\n",
       "    .dataframe tbody tr th:only-of-type {\n",
       "        vertical-align: middle;\n",
       "    }\n",
       "\n",
       "    .dataframe tbody tr th {\n",
       "        vertical-align: top;\n",
       "    }\n",
       "\n",
       "    .dataframe thead th {\n",
       "        text-align: right;\n",
       "    }\n",
       "</style>\n",
       "<table border=\"1\" class=\"dataframe\">\n",
       "  <thead>\n",
       "    <tr style=\"text-align: right;\">\n",
       "      <th></th>\n",
       "      <th>Name</th>\n",
       "    </tr>\n",
       "  </thead>\n",
       "  <tbody>\n",
       "    <tr>\n",
       "      <th>0</th>\n",
       "      <td>Wii Sports</td>\n",
       "    </tr>\n",
       "    <tr>\n",
       "      <th>1</th>\n",
       "      <td>Super Mario Bros.</td>\n",
       "    </tr>\n",
       "    <tr>\n",
       "      <th>2</th>\n",
       "      <td>Mario Kart Wii</td>\n",
       "    </tr>\n",
       "    <tr>\n",
       "      <th>3</th>\n",
       "      <td>Wii Sports Resort</td>\n",
       "    </tr>\n",
       "    <tr>\n",
       "      <th>4</th>\n",
       "      <td>Pokemon Red/Pokemon Blue</td>\n",
       "    </tr>\n",
       "    <tr>\n",
       "      <th>...</th>\n",
       "      <td>...</td>\n",
       "    </tr>\n",
       "    <tr>\n",
       "      <th>16593</th>\n",
       "      <td>Woody Woodpecker in Crazy Castle 5</td>\n",
       "    </tr>\n",
       "    <tr>\n",
       "      <th>16594</th>\n",
       "      <td>Men in Black II: Alien Escape</td>\n",
       "    </tr>\n",
       "    <tr>\n",
       "      <th>16595</th>\n",
       "      <td>SCORE International Baja 1000: The Official Game</td>\n",
       "    </tr>\n",
       "    <tr>\n",
       "      <th>16596</th>\n",
       "      <td>Know How 2</td>\n",
       "    </tr>\n",
       "    <tr>\n",
       "      <th>16597</th>\n",
       "      <td>Spirits &amp; Spells</td>\n",
       "    </tr>\n",
       "  </tbody>\n",
       "</table>\n",
       "<p>16598 rows × 1 columns</p>\n",
       "</div>"
      ],
      "text/plain": [
       "                                                   Name\n",
       "0                                            Wii Sports\n",
       "1                                     Super Mario Bros.\n",
       "2                                        Mario Kart Wii\n",
       "3                                     Wii Sports Resort\n",
       "4                              Pokemon Red/Pokemon Blue\n",
       "...                                                 ...\n",
       "16593                Woody Woodpecker in Crazy Castle 5\n",
       "16594                     Men in Black II: Alien Escape\n",
       "16595  SCORE International Baja 1000: The Official Game\n",
       "16596                                        Know How 2\n",
       "16597                                  Spirits & Spells\n",
       "\n",
       "[16598 rows x 1 columns]"
      ]
     },
     "execution_count": 9,
     "metadata": {},
     "output_type": "execute_result"
    }
   ],
   "source": [
    "b = pd.read_csv('/kaggle/input/videogamesales/vgsales.csv', usecols=['Name'])\n",
    "b"
   ]
  },
  {
   "cell_type": "code",
   "execution_count": 10,
   "id": "f326d185",
   "metadata": {
    "execution": {
     "iopub.execute_input": "2025-07-02T06:34:23.600745Z",
     "iopub.status.busy": "2025-07-02T06:34:23.600419Z",
     "iopub.status.idle": "2025-07-02T06:34:23.611935Z",
     "shell.execute_reply": "2025-07-02T06:34:23.610935Z"
    },
    "papermill": {
     "duration": 0.01859,
     "end_time": "2025-07-02T06:34:23.613517",
     "exception": false,
     "start_time": "2025-07-02T06:34:23.594927",
     "status": "completed"
    },
    "tags": []
   },
   "outputs": [
    {
     "data": {
      "text/plain": [
       "Name    16598\n",
       "dtype: int64"
      ]
     },
     "execution_count": 10,
     "metadata": {},
     "output_type": "execute_result"
    }
   ],
   "source": [
    "b.count()"
   ]
  },
  {
   "cell_type": "code",
   "execution_count": 11,
   "id": "84f14797",
   "metadata": {
    "execution": {
     "iopub.execute_input": "2025-07-02T06:34:23.624506Z",
     "iopub.status.busy": "2025-07-02T06:34:23.623619Z",
     "iopub.status.idle": "2025-07-02T06:34:23.634655Z",
     "shell.execute_reply": "2025-07-02T06:34:23.633716Z"
    },
    "papermill": {
     "duration": 0.018411,
     "end_time": "2025-07-02T06:34:23.636493",
     "exception": false,
     "start_time": "2025-07-02T06:34:23.618082",
     "status": "completed"
    },
    "tags": []
   },
   "outputs": [],
   "source": [
    "c = b.drop_duplicates(keep = False)\n"
   ]
  },
  {
   "cell_type": "code",
   "execution_count": 12,
   "id": "f1d7ceb5",
   "metadata": {
    "execution": {
     "iopub.execute_input": "2025-07-02T06:34:23.647424Z",
     "iopub.status.busy": "2025-07-02T06:34:23.647086Z",
     "iopub.status.idle": "2025-07-02T06:34:23.656195Z",
     "shell.execute_reply": "2025-07-02T06:34:23.655219Z"
    },
    "papermill": {
     "duration": 0.01683,
     "end_time": "2025-07-02T06:34:23.658128",
     "exception": false,
     "start_time": "2025-07-02T06:34:23.641298",
     "status": "completed"
    },
    "tags": []
   },
   "outputs": [
    {
     "data": {
      "text/plain": [
       "Name    8718\n",
       "dtype: int64"
      ]
     },
     "execution_count": 12,
     "metadata": {},
     "output_type": "execute_result"
    }
   ],
   "source": [
    "c.count()"
   ]
  },
  {
   "cell_type": "code",
   "execution_count": null,
   "id": "7b00eb83",
   "metadata": {
    "papermill": {
     "duration": 0.004086,
     "end_time": "2025-07-02T06:34:23.666935",
     "exception": false,
     "start_time": "2025-07-02T06:34:23.662849",
     "status": "completed"
    },
    "tags": []
   },
   "outputs": [],
   "source": []
  },
  {
   "cell_type": "code",
   "execution_count": null,
   "id": "a5b06313",
   "metadata": {
    "papermill": {
     "duration": 0.003866,
     "end_time": "2025-07-02T06:34:23.674955",
     "exception": false,
     "start_time": "2025-07-02T06:34:23.671089",
     "status": "completed"
    },
    "tags": []
   },
   "outputs": [],
   "source": []
  },
  {
   "cell_type": "code",
   "execution_count": null,
   "id": "88bef9c7",
   "metadata": {
    "papermill": {
     "duration": 0.003858,
     "end_time": "2025-07-02T06:34:23.682939",
     "exception": false,
     "start_time": "2025-07-02T06:34:23.679081",
     "status": "completed"
    },
    "tags": []
   },
   "outputs": [],
   "source": []
  },
  {
   "cell_type": "code",
   "execution_count": null,
   "id": "9639959b",
   "metadata": {
    "papermill": {
     "duration": 0.003812,
     "end_time": "2025-07-02T06:34:23.690852",
     "exception": false,
     "start_time": "2025-07-02T06:34:23.687040",
     "status": "completed"
    },
    "tags": []
   },
   "outputs": [],
   "source": []
  },
  {
   "cell_type": "code",
   "execution_count": null,
   "id": "a2e50d09",
   "metadata": {
    "papermill": {
     "duration": 0.003866,
     "end_time": "2025-07-02T06:34:23.698883",
     "exception": false,
     "start_time": "2025-07-02T06:34:23.695017",
     "status": "completed"
    },
    "tags": []
   },
   "outputs": [],
   "source": []
  },
  {
   "cell_type": "code",
   "execution_count": null,
   "id": "1c4ad1d5",
   "metadata": {
    "papermill": {
     "duration": 0.003808,
     "end_time": "2025-07-02T06:34:23.707407",
     "exception": false,
     "start_time": "2025-07-02T06:34:23.703599",
     "status": "completed"
    },
    "tags": []
   },
   "outputs": [],
   "source": []
  }
 ],
 "metadata": {
  "kaggle": {
   "accelerator": "none",
   "dataSources": [
    {
     "datasetId": 284,
     "sourceId": 618,
     "sourceType": "datasetVersion"
    }
   ],
   "dockerImageVersionId": 31040,
   "isGpuEnabled": false,
   "isInternetEnabled": true,
   "language": "python",
   "sourceType": "notebook"
  },
  "kernelspec": {
   "display_name": "Python 3",
   "language": "python",
   "name": "python3"
  },
  "language_info": {
   "codemirror_mode": {
    "name": "ipython",
    "version": 3
   },
   "file_extension": ".py",
   "mimetype": "text/x-python",
   "name": "python",
   "nbconvert_exporter": "python",
   "pygments_lexer": "ipython3",
   "version": "3.11.11"
  },
  "papermill": {
   "default_parameters": {},
   "duration": 9.531593,
   "end_time": "2025-07-02T06:34:24.433596",
   "environment_variables": {},
   "exception": null,
   "input_path": "__notebook__.ipynb",
   "output_path": "__notebook__.ipynb",
   "parameters": {},
   "start_time": "2025-07-02T06:34:14.902003",
   "version": "2.6.0"
  }
 },
 "nbformat": 4,
 "nbformat_minor": 5
}
