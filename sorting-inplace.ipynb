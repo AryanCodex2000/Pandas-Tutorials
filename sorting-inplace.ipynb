{
 "cells": [
  {
   "cell_type": "code",
   "execution_count": 1,
   "id": "9e9fb954",
   "metadata": {
    "_cell_guid": "b1076dfc-b9ad-4769-8c92-a6c4dae69d19",
    "_uuid": "8f2839f25d086af736a60e9eeb907d3b93b6e0e5",
    "execution": {
     "iopub.execute_input": "2025-07-02T05:29:38.058739Z",
     "iopub.status.busy": "2025-07-02T05:29:38.058161Z",
     "iopub.status.idle": "2025-07-02T05:29:39.531032Z",
     "shell.execute_reply": "2025-07-02T05:29:39.530363Z"
    },
    "papermill": {
     "duration": 1.477876,
     "end_time": "2025-07-02T05:29:39.532536",
     "exception": false,
     "start_time": "2025-07-02T05:29:38.054660",
     "status": "completed"
    },
    "tags": []
   },
   "outputs": [],
   "source": [
    "import numpy as np\n",
    "import pandas as pd\n"
   ]
  },
  {
   "cell_type": "code",
   "execution_count": 2,
   "id": "778481c1",
   "metadata": {
    "execution": {
     "iopub.execute_input": "2025-07-02T05:29:39.538066Z",
     "iopub.status.busy": "2025-07-02T05:29:39.537702Z",
     "iopub.status.idle": "2025-07-02T05:29:39.545075Z",
     "shell.execute_reply": "2025-07-02T05:29:39.544315Z"
    },
    "papermill": {
     "duration": 0.011153,
     "end_time": "2025-07-02T05:29:39.546252",
     "exception": false,
     "start_time": "2025-07-02T05:29:39.535099",
     "status": "completed"
    },
    "tags": []
   },
   "outputs": [
    {
     "data": {
      "text/plain": [
       "[1, 0, 13, 7, 15, 19, 12, 5, 7, 2]"
      ]
     },
     "execution_count": 2,
     "metadata": {},
     "output_type": "execute_result"
    }
   ],
   "source": [
    "n = np.random.randint(0,20,10)\n",
    "l = list(n)\n",
    "l"
   ]
  },
  {
   "cell_type": "code",
   "execution_count": 3,
   "id": "9a477de6",
   "metadata": {
    "execution": {
     "iopub.execute_input": "2025-07-02T05:29:39.551713Z",
     "iopub.status.busy": "2025-07-02T05:29:39.551494Z",
     "iopub.status.idle": "2025-07-02T05:29:39.558791Z",
     "shell.execute_reply": "2025-07-02T05:29:39.558179Z"
    },
    "papermill": {
     "duration": 0.01107,
     "end_time": "2025-07-02T05:29:39.559968",
     "exception": false,
     "start_time": "2025-07-02T05:29:39.548898",
     "status": "completed"
    },
    "tags": []
   },
   "outputs": [
    {
     "data": {
      "text/plain": [
       "0     1\n",
       "1     0\n",
       "2    13\n",
       "3     7\n",
       "4    15\n",
       "5    19\n",
       "6    12\n",
       "7     5\n",
       "8     7\n",
       "9     2\n",
       "dtype: int64"
      ]
     },
     "execution_count": 3,
     "metadata": {},
     "output_type": "execute_result"
    }
   ],
   "source": [
    "s = pd.Series(l)\n",
    "s"
   ]
  },
  {
   "cell_type": "code",
   "execution_count": 4,
   "id": "c025ad6a",
   "metadata": {
    "execution": {
     "iopub.execute_input": "2025-07-02T05:29:39.564756Z",
     "iopub.status.busy": "2025-07-02T05:29:39.564540Z",
     "iopub.status.idle": "2025-07-02T05:29:39.572349Z",
     "shell.execute_reply": "2025-07-02T05:29:39.571768Z"
    },
    "papermill": {
     "duration": 0.011516,
     "end_time": "2025-07-02T05:29:39.573538",
     "exception": false,
     "start_time": "2025-07-02T05:29:39.562022",
     "status": "completed"
    },
    "tags": []
   },
   "outputs": [
    {
     "data": {
      "text/plain": [
       "1     0\n",
       "0     1\n",
       "9     2\n",
       "7     5\n",
       "3     7\n",
       "8     7\n",
       "6    12\n",
       "2    13\n",
       "4    15\n",
       "5    19\n",
       "dtype: int64"
      ]
     },
     "execution_count": 4,
     "metadata": {},
     "output_type": "execute_result"
    }
   ],
   "source": [
    "s.sort_values(inplace = True)\n",
    "s"
   ]
  },
  {
   "cell_type": "code",
   "execution_count": 5,
   "id": "d740d5cf",
   "metadata": {
    "execution": {
     "iopub.execute_input": "2025-07-02T05:29:39.578512Z",
     "iopub.status.busy": "2025-07-02T05:29:39.578297Z",
     "iopub.status.idle": "2025-07-02T05:29:39.587661Z",
     "shell.execute_reply": "2025-07-02T05:29:39.587089Z"
    },
    "papermill": {
     "duration": 0.013068,
     "end_time": "2025-07-02T05:29:39.588790",
     "exception": false,
     "start_time": "2025-07-02T05:29:39.575722",
     "status": "completed"
    },
    "tags": []
   },
   "outputs": [
    {
     "data": {
      "text/plain": [
       "0     1\n",
       "1     0\n",
       "2    13\n",
       "3     7\n",
       "4    15\n",
       "5    19\n",
       "6    12\n",
       "7     5\n",
       "8     7\n",
       "9     2\n",
       "dtype: int64"
      ]
     },
     "execution_count": 5,
     "metadata": {},
     "output_type": "execute_result"
    }
   ],
   "source": [
    "s.sort_index()"
   ]
  },
  {
   "cell_type": "code",
   "execution_count": 6,
   "id": "62629f44",
   "metadata": {
    "execution": {
     "iopub.execute_input": "2025-07-02T05:29:39.593685Z",
     "iopub.status.busy": "2025-07-02T05:29:39.593475Z",
     "iopub.status.idle": "2025-07-02T05:29:39.598171Z",
     "shell.execute_reply": "2025-07-02T05:29:39.597588Z"
    },
    "papermill": {
     "duration": 0.008423,
     "end_time": "2025-07-02T05:29:39.599354",
     "exception": false,
     "start_time": "2025-07-02T05:29:39.590931",
     "status": "completed"
    },
    "tags": []
   },
   "outputs": [
    {
     "data": {
      "text/plain": [
       "1     0\n",
       "0     1\n",
       "9     2\n",
       "7     5\n",
       "3     7\n",
       "8     7\n",
       "6    12\n",
       "2    13\n",
       "4    15\n",
       "5    19\n",
       "dtype: int64"
      ]
     },
     "execution_count": 6,
     "metadata": {},
     "output_type": "execute_result"
    }
   ],
   "source": [
    "s"
   ]
  },
  {
   "cell_type": "code",
   "execution_count": 7,
   "id": "38a815f1",
   "metadata": {
    "execution": {
     "iopub.execute_input": "2025-07-02T05:29:39.604787Z",
     "iopub.status.busy": "2025-07-02T05:29:39.604338Z",
     "iopub.status.idle": "2025-07-02T05:29:39.607888Z",
     "shell.execute_reply": "2025-07-02T05:29:39.607297Z"
    },
    "papermill": {
     "duration": 0.007442,
     "end_time": "2025-07-02T05:29:39.609081",
     "exception": false,
     "start_time": "2025-07-02T05:29:39.601639",
     "status": "completed"
    },
    "tags": []
   },
   "outputs": [],
   "source": [
    "s.sort_index(inplace = True)"
   ]
  },
  {
   "cell_type": "code",
   "execution_count": 8,
   "id": "2bc4c1b2",
   "metadata": {
    "execution": {
     "iopub.execute_input": "2025-07-02T05:29:39.614486Z",
     "iopub.status.busy": "2025-07-02T05:29:39.614035Z",
     "iopub.status.idle": "2025-07-02T05:29:39.618922Z",
     "shell.execute_reply": "2025-07-02T05:29:39.618197Z"
    },
    "papermill": {
     "duration": 0.00876,
     "end_time": "2025-07-02T05:29:39.620117",
     "exception": false,
     "start_time": "2025-07-02T05:29:39.611357",
     "status": "completed"
    },
    "tags": []
   },
   "outputs": [
    {
     "data": {
      "text/plain": [
       "0     1\n",
       "1     0\n",
       "2    13\n",
       "3     7\n",
       "4    15\n",
       "5    19\n",
       "6    12\n",
       "7     5\n",
       "8     7\n",
       "9     2\n",
       "dtype: int64"
      ]
     },
     "execution_count": 8,
     "metadata": {},
     "output_type": "execute_result"
    }
   ],
   "source": [
    "s"
   ]
  }
 ],
 "metadata": {
  "kaggle": {
   "accelerator": "none",
   "dataSources": [],
   "dockerImageVersionId": 31040,
   "isGpuEnabled": false,
   "isInternetEnabled": true,
   "language": "python",
   "sourceType": "notebook"
  },
  "kernelspec": {
   "display_name": "Python 3",
   "language": "python",
   "name": "python3"
  },
  "language_info": {
   "codemirror_mode": {
    "name": "ipython",
    "version": 3
   },
   "file_extension": ".py",
   "mimetype": "text/x-python",
   "name": "python",
   "nbconvert_exporter": "python",
   "pygments_lexer": "ipython3",
   "version": "3.11.11"
  },
  "papermill": {
   "default_parameters": {},
   "duration": 5.874404,
   "end_time": "2025-07-02T05:29:39.939331",
   "environment_variables": {},
   "exception": null,
   "input_path": "__notebook__.ipynb",
   "output_path": "__notebook__.ipynb",
   "parameters": {},
   "start_time": "2025-07-02T05:29:34.064927",
   "version": "2.6.0"
  }
 },
 "nbformat": 4,
 "nbformat_minor": 5
}
