{
 "cells": [
  {
   "cell_type": "code",
   "execution_count": 1,
   "id": "548f7b15",
   "metadata": {
    "_cell_guid": "b1076dfc-b9ad-4769-8c92-a6c4dae69d19",
    "_uuid": "8f2839f25d086af736a60e9eeb907d3b93b6e0e5",
    "execution": {
     "iopub.execute_input": "2025-07-05T09:14:14.859337Z",
     "iopub.status.busy": "2025-07-05T09:14:14.859002Z",
     "iopub.status.idle": "2025-07-05T09:14:16.750364Z",
     "shell.execute_reply": "2025-07-05T09:14:16.749537Z"
    },
    "papermill": {
     "duration": 1.899018,
     "end_time": "2025-07-05T09:14:16.752075",
     "exception": false,
     "start_time": "2025-07-05T09:14:14.853057",
     "status": "completed"
    },
    "tags": []
   },
   "outputs": [],
   "source": [
    "import numpy as np \n",
    "import pandas as pd"
   ]
  },
  {
   "cell_type": "code",
   "execution_count": 2,
   "id": "9d2cf784",
   "metadata": {
    "execution": {
     "iopub.execute_input": "2025-07-05T09:14:16.761675Z",
     "iopub.status.busy": "2025-07-05T09:14:16.761289Z",
     "iopub.status.idle": "2025-07-05T09:14:16.879331Z",
     "shell.execute_reply": "2025-07-05T09:14:16.878323Z"
    },
    "papermill": {
     "duration": 0.124504,
     "end_time": "2025-07-05T09:14:16.880938",
     "exception": false,
     "start_time": "2025-07-05T09:14:16.756434",
     "status": "completed"
    },
    "tags": []
   },
   "outputs": [
    {
     "data": {
      "text/html": [
       "<div>\n",
       "<style scoped>\n",
       "    .dataframe tbody tr th:only-of-type {\n",
       "        vertical-align: middle;\n",
       "    }\n",
       "\n",
       "    .dataframe tbody tr th {\n",
       "        vertical-align: top;\n",
       "    }\n",
       "\n",
       "    .dataframe thead th {\n",
       "        text-align: right;\n",
       "    }\n",
       "</style>\n",
       "<table border=\"1\" class=\"dataframe\">\n",
       "  <thead>\n",
       "    <tr style=\"text-align: right;\">\n",
       "      <th></th>\n",
       "      <th>Name</th>\n",
       "      <th>Platform</th>\n",
       "      <th>Year</th>\n",
       "      <th>Genre</th>\n",
       "      <th>Publisher</th>\n",
       "      <th>NA_Sales</th>\n",
       "      <th>EU_Sales</th>\n",
       "      <th>JP_Sales</th>\n",
       "      <th>Other_Sales</th>\n",
       "      <th>Global_Sales</th>\n",
       "    </tr>\n",
       "    <tr>\n",
       "      <th>Rank</th>\n",
       "      <th></th>\n",
       "      <th></th>\n",
       "      <th></th>\n",
       "      <th></th>\n",
       "      <th></th>\n",
       "      <th></th>\n",
       "      <th></th>\n",
       "      <th></th>\n",
       "      <th></th>\n",
       "      <th></th>\n",
       "    </tr>\n",
       "  </thead>\n",
       "  <tbody>\n",
       "    <tr>\n",
       "      <th>1</th>\n",
       "      <td>Wii Sports</td>\n",
       "      <td>Wii</td>\n",
       "      <td>2006.0</td>\n",
       "      <td>Sports</td>\n",
       "      <td>Nintendo</td>\n",
       "      <td>41.49</td>\n",
       "      <td>29.02</td>\n",
       "      <td>3.77</td>\n",
       "      <td>8.46</td>\n",
       "      <td>82.74</td>\n",
       "    </tr>\n",
       "    <tr>\n",
       "      <th>2</th>\n",
       "      <td>Super Mario Bros.</td>\n",
       "      <td>NES</td>\n",
       "      <td>1985.0</td>\n",
       "      <td>Platform</td>\n",
       "      <td>Nintendo</td>\n",
       "      <td>29.08</td>\n",
       "      <td>3.58</td>\n",
       "      <td>6.81</td>\n",
       "      <td>0.77</td>\n",
       "      <td>40.24</td>\n",
       "    </tr>\n",
       "    <tr>\n",
       "      <th>3</th>\n",
       "      <td>Mario Kart Wii</td>\n",
       "      <td>Wii</td>\n",
       "      <td>2008.0</td>\n",
       "      <td>Racing</td>\n",
       "      <td>Nintendo</td>\n",
       "      <td>15.85</td>\n",
       "      <td>12.88</td>\n",
       "      <td>3.79</td>\n",
       "      <td>3.31</td>\n",
       "      <td>35.82</td>\n",
       "    </tr>\n",
       "    <tr>\n",
       "      <th>4</th>\n",
       "      <td>Wii Sports Resort</td>\n",
       "      <td>Wii</td>\n",
       "      <td>2009.0</td>\n",
       "      <td>Sports</td>\n",
       "      <td>Nintendo</td>\n",
       "      <td>15.75</td>\n",
       "      <td>11.01</td>\n",
       "      <td>3.28</td>\n",
       "      <td>2.96</td>\n",
       "      <td>33.00</td>\n",
       "    </tr>\n",
       "    <tr>\n",
       "      <th>5</th>\n",
       "      <td>Pokemon Red/Pokemon Blue</td>\n",
       "      <td>GB</td>\n",
       "      <td>1996.0</td>\n",
       "      <td>Role-Playing</td>\n",
       "      <td>Nintendo</td>\n",
       "      <td>11.27</td>\n",
       "      <td>8.89</td>\n",
       "      <td>10.22</td>\n",
       "      <td>1.00</td>\n",
       "      <td>31.37</td>\n",
       "    </tr>\n",
       "    <tr>\n",
       "      <th>...</th>\n",
       "      <td>...</td>\n",
       "      <td>...</td>\n",
       "      <td>...</td>\n",
       "      <td>...</td>\n",
       "      <td>...</td>\n",
       "      <td>...</td>\n",
       "      <td>...</td>\n",
       "      <td>...</td>\n",
       "      <td>...</td>\n",
       "      <td>...</td>\n",
       "    </tr>\n",
       "    <tr>\n",
       "      <th>16596</th>\n",
       "      <td>Woody Woodpecker in Crazy Castle 5</td>\n",
       "      <td>GBA</td>\n",
       "      <td>2002.0</td>\n",
       "      <td>Platform</td>\n",
       "      <td>Kemco</td>\n",
       "      <td>0.01</td>\n",
       "      <td>0.00</td>\n",
       "      <td>0.00</td>\n",
       "      <td>0.00</td>\n",
       "      <td>0.01</td>\n",
       "    </tr>\n",
       "    <tr>\n",
       "      <th>16597</th>\n",
       "      <td>Men in Black II: Alien Escape</td>\n",
       "      <td>GC</td>\n",
       "      <td>2003.0</td>\n",
       "      <td>Shooter</td>\n",
       "      <td>Infogrames</td>\n",
       "      <td>0.01</td>\n",
       "      <td>0.00</td>\n",
       "      <td>0.00</td>\n",
       "      <td>0.00</td>\n",
       "      <td>0.01</td>\n",
       "    </tr>\n",
       "    <tr>\n",
       "      <th>16598</th>\n",
       "      <td>SCORE International Baja 1000: The Official Game</td>\n",
       "      <td>PS2</td>\n",
       "      <td>2008.0</td>\n",
       "      <td>Racing</td>\n",
       "      <td>Activision</td>\n",
       "      <td>0.00</td>\n",
       "      <td>0.00</td>\n",
       "      <td>0.00</td>\n",
       "      <td>0.00</td>\n",
       "      <td>0.01</td>\n",
       "    </tr>\n",
       "    <tr>\n",
       "      <th>16599</th>\n",
       "      <td>Know How 2</td>\n",
       "      <td>DS</td>\n",
       "      <td>2010.0</td>\n",
       "      <td>Puzzle</td>\n",
       "      <td>7G//AMES</td>\n",
       "      <td>0.00</td>\n",
       "      <td>0.01</td>\n",
       "      <td>0.00</td>\n",
       "      <td>0.00</td>\n",
       "      <td>0.01</td>\n",
       "    </tr>\n",
       "    <tr>\n",
       "      <th>16600</th>\n",
       "      <td>Spirits &amp; Spells</td>\n",
       "      <td>GBA</td>\n",
       "      <td>2003.0</td>\n",
       "      <td>Platform</td>\n",
       "      <td>Wanadoo</td>\n",
       "      <td>0.01</td>\n",
       "      <td>0.00</td>\n",
       "      <td>0.00</td>\n",
       "      <td>0.00</td>\n",
       "      <td>0.01</td>\n",
       "    </tr>\n",
       "  </tbody>\n",
       "</table>\n",
       "<p>16598 rows × 10 columns</p>\n",
       "</div>"
      ],
      "text/plain": [
       "                                                   Name Platform    Year  \\\n",
       "Rank                                                                       \n",
       "1                                            Wii Sports      Wii  2006.0   \n",
       "2                                     Super Mario Bros.      NES  1985.0   \n",
       "3                                        Mario Kart Wii      Wii  2008.0   \n",
       "4                                     Wii Sports Resort      Wii  2009.0   \n",
       "5                              Pokemon Red/Pokemon Blue       GB  1996.0   \n",
       "...                                                 ...      ...     ...   \n",
       "16596                Woody Woodpecker in Crazy Castle 5      GBA  2002.0   \n",
       "16597                     Men in Black II: Alien Escape       GC  2003.0   \n",
       "16598  SCORE International Baja 1000: The Official Game      PS2  2008.0   \n",
       "16599                                        Know How 2       DS  2010.0   \n",
       "16600                                  Spirits & Spells      GBA  2003.0   \n",
       "\n",
       "              Genre   Publisher  NA_Sales  EU_Sales  JP_Sales  Other_Sales  \\\n",
       "Rank                                                                         \n",
       "1            Sports    Nintendo     41.49     29.02      3.77         8.46   \n",
       "2          Platform    Nintendo     29.08      3.58      6.81         0.77   \n",
       "3            Racing    Nintendo     15.85     12.88      3.79         3.31   \n",
       "4            Sports    Nintendo     15.75     11.01      3.28         2.96   \n",
       "5      Role-Playing    Nintendo     11.27      8.89     10.22         1.00   \n",
       "...             ...         ...       ...       ...       ...          ...   \n",
       "16596      Platform       Kemco      0.01      0.00      0.00         0.00   \n",
       "16597       Shooter  Infogrames      0.01      0.00      0.00         0.00   \n",
       "16598        Racing  Activision      0.00      0.00      0.00         0.00   \n",
       "16599        Puzzle    7G//AMES      0.00      0.01      0.00         0.00   \n",
       "16600      Platform     Wanadoo      0.01      0.00      0.00         0.00   \n",
       "\n",
       "       Global_Sales  \n",
       "Rank                 \n",
       "1             82.74  \n",
       "2             40.24  \n",
       "3             35.82  \n",
       "4             33.00  \n",
       "5             31.37  \n",
       "...             ...  \n",
       "16596          0.01  \n",
       "16597          0.01  \n",
       "16598          0.01  \n",
       "16599          0.01  \n",
       "16600          0.01  \n",
       "\n",
       "[16598 rows x 10 columns]"
      ]
     },
     "execution_count": 2,
     "metadata": {},
     "output_type": "execute_result"
    }
   ],
   "source": [
    "df = pd.read_csv('/kaggle/input/video-game-sales/vgsales.csv', index_col = ['Rank'])\n",
    "df"
   ]
  },
  {
   "cell_type": "code",
   "execution_count": 3,
   "id": "22923e12",
   "metadata": {
    "execution": {
     "iopub.execute_input": "2025-07-05T09:14:16.891693Z",
     "iopub.status.busy": "2025-07-05T09:14:16.890833Z",
     "iopub.status.idle": "2025-07-05T09:14:16.899780Z",
     "shell.execute_reply": "2025-07-05T09:14:16.899014Z"
    },
    "papermill": {
     "duration": 0.015715,
     "end_time": "2025-07-05T09:14:16.901229",
     "exception": false,
     "start_time": "2025-07-05T09:14:16.885514",
     "status": "completed"
    },
    "tags": []
   },
   "outputs": [
    {
     "data": {
      "text/plain": [
       "Year            2006.406443\n",
       "NA_Sales           0.264667\n",
       "EU_Sales           0.146652\n",
       "JP_Sales           0.077782\n",
       "Other_Sales        0.048063\n",
       "Global_Sales       0.537441\n",
       "dtype: float64"
      ]
     },
     "execution_count": 3,
     "metadata": {},
     "output_type": "execute_result"
    }
   ],
   "source": [
    "df.mean(numeric_only=True)"
   ]
  },
  {
   "cell_type": "code",
   "execution_count": 4,
   "id": "8dc8d606",
   "metadata": {
    "execution": {
     "iopub.execute_input": "2025-07-05T09:14:16.911758Z",
     "iopub.status.busy": "2025-07-05T09:14:16.911418Z",
     "iopub.status.idle": "2025-07-05T09:14:16.919465Z",
     "shell.execute_reply": "2025-07-05T09:14:16.918535Z"
    },
    "papermill": {
     "duration": 0.015131,
     "end_time": "2025-07-05T09:14:16.921164",
     "exception": false,
     "start_time": "2025-07-05T09:14:16.906033",
     "status": "completed"
    },
    "tags": []
   },
   "outputs": [
    {
     "data": {
      "text/plain": [
       "Year            2007.00\n",
       "NA_Sales           0.08\n",
       "EU_Sales           0.02\n",
       "JP_Sales           0.00\n",
       "Other_Sales        0.01\n",
       "Global_Sales       0.17\n",
       "dtype: float64"
      ]
     },
     "execution_count": 4,
     "metadata": {},
     "output_type": "execute_result"
    }
   ],
   "source": [
    "df.median(numeric_only=True)"
   ]
  },
  {
   "cell_type": "code",
   "execution_count": 5,
   "id": "21e852ea",
   "metadata": {
    "execution": {
     "iopub.execute_input": "2025-07-05T09:14:16.931817Z",
     "iopub.status.busy": "2025-07-05T09:14:16.931541Z",
     "iopub.status.idle": "2025-07-05T09:14:16.947943Z",
     "shell.execute_reply": "2025-07-05T09:14:16.947086Z"
    },
    "papermill": {
     "duration": 0.023705,
     "end_time": "2025-07-05T09:14:16.949421",
     "exception": false,
     "start_time": "2025-07-05T09:14:16.925716",
     "status": "completed"
    },
    "tags": []
   },
   "outputs": [
    {
     "data": {
      "text/html": [
       "<div>\n",
       "<style scoped>\n",
       "    .dataframe tbody tr th:only-of-type {\n",
       "        vertical-align: middle;\n",
       "    }\n",
       "\n",
       "    .dataframe tbody tr th {\n",
       "        vertical-align: top;\n",
       "    }\n",
       "\n",
       "    .dataframe thead th {\n",
       "        text-align: right;\n",
       "    }\n",
       "</style>\n",
       "<table border=\"1\" class=\"dataframe\">\n",
       "  <thead>\n",
       "    <tr style=\"text-align: right;\">\n",
       "      <th></th>\n",
       "      <th>Year</th>\n",
       "      <th>NA_Sales</th>\n",
       "      <th>EU_Sales</th>\n",
       "      <th>JP_Sales</th>\n",
       "      <th>Other_Sales</th>\n",
       "      <th>Global_Sales</th>\n",
       "    </tr>\n",
       "  </thead>\n",
       "  <tbody>\n",
       "    <tr>\n",
       "      <th>0</th>\n",
       "      <td>2009.0</td>\n",
       "      <td>0.0</td>\n",
       "      <td>0.0</td>\n",
       "      <td>0.0</td>\n",
       "      <td>0.0</td>\n",
       "      <td>0.02</td>\n",
       "    </tr>\n",
       "  </tbody>\n",
       "</table>\n",
       "</div>"
      ],
      "text/plain": [
       "     Year  NA_Sales  EU_Sales  JP_Sales  Other_Sales  Global_Sales\n",
       "0  2009.0       0.0       0.0       0.0          0.0          0.02"
      ]
     },
     "execution_count": 5,
     "metadata": {},
     "output_type": "execute_result"
    }
   ],
   "source": [
    "df.mode(numeric_only=True)"
   ]
  },
  {
   "cell_type": "code",
   "execution_count": 6,
   "id": "89b55054",
   "metadata": {
    "execution": {
     "iopub.execute_input": "2025-07-05T09:14:16.959901Z",
     "iopub.status.busy": "2025-07-05T09:14:16.959549Z",
     "iopub.status.idle": "2025-07-05T09:14:16.967723Z",
     "shell.execute_reply": "2025-07-05T09:14:16.966819Z"
    },
    "papermill": {
     "duration": 0.015007,
     "end_time": "2025-07-05T09:14:16.969150",
     "exception": false,
     "start_time": "2025-07-05T09:14:16.954143",
     "status": "completed"
    },
    "tags": []
   },
   "outputs": [
    {
     "data": {
      "text/plain": [
       "Year            5.828981\n",
       "NA_Sales        0.816683\n",
       "EU_Sales        0.505351\n",
       "JP_Sales        0.309291\n",
       "Other_Sales     0.188588\n",
       "Global_Sales    1.555028\n",
       "dtype: float64"
      ]
     },
     "execution_count": 6,
     "metadata": {},
     "output_type": "execute_result"
    }
   ],
   "source": [
    "df.std(numeric_only=True)"
   ]
  },
  {
   "cell_type": "code",
   "execution_count": 7,
   "id": "20ac3acc",
   "metadata": {
    "execution": {
     "iopub.execute_input": "2025-07-05T09:14:16.979927Z",
     "iopub.status.busy": "2025-07-05T09:14:16.979390Z",
     "iopub.status.idle": "2025-07-05T09:14:16.987138Z",
     "shell.execute_reply": "2025-07-05T09:14:16.986011Z"
    },
    "papermill": {
     "duration": 0.014624,
     "end_time": "2025-07-05T09:14:16.988571",
     "exception": false,
     "start_time": "2025-07-05T09:14:16.973947",
     "status": "completed"
    },
    "tags": []
   },
   "outputs": [
    {
     "data": {
      "text/plain": [
       "Year            2020.00\n",
       "NA_Sales          41.49\n",
       "EU_Sales          29.02\n",
       "JP_Sales          10.22\n",
       "Other_Sales       10.57\n",
       "Global_Sales      82.74\n",
       "dtype: float64"
      ]
     },
     "execution_count": 7,
     "metadata": {},
     "output_type": "execute_result"
    }
   ],
   "source": [
    "df.max(numeric_only=True)"
   ]
  },
  {
   "cell_type": "code",
   "execution_count": 8,
   "id": "0b4d0dc6",
   "metadata": {
    "execution": {
     "iopub.execute_input": "2025-07-05T09:14:16.999522Z",
     "iopub.status.busy": "2025-07-05T09:14:16.999215Z",
     "iopub.status.idle": "2025-07-05T09:14:17.007117Z",
     "shell.execute_reply": "2025-07-05T09:14:17.006237Z"
    },
    "papermill": {
     "duration": 0.015303,
     "end_time": "2025-07-05T09:14:17.008685",
     "exception": false,
     "start_time": "2025-07-05T09:14:16.993382",
     "status": "completed"
    },
    "tags": []
   },
   "outputs": [
    {
     "data": {
      "text/plain": [
       "Year            1980.00\n",
       "NA_Sales           0.00\n",
       "EU_Sales           0.00\n",
       "JP_Sales           0.00\n",
       "Other_Sales        0.00\n",
       "Global_Sales       0.01\n",
       "dtype: float64"
      ]
     },
     "execution_count": 8,
     "metadata": {},
     "output_type": "execute_result"
    }
   ],
   "source": [
    "df.min(numeric_only=True)"
   ]
  },
  {
   "cell_type": "code",
   "execution_count": 9,
   "id": "4b9edd43",
   "metadata": {
    "execution": {
     "iopub.execute_input": "2025-07-05T09:14:17.021499Z",
     "iopub.status.busy": "2025-07-05T09:14:17.021186Z",
     "iopub.status.idle": "2025-07-05T09:14:17.028319Z",
     "shell.execute_reply": "2025-07-05T09:14:17.027518Z"
    },
    "papermill": {
     "duration": 0.014411,
     "end_time": "2025-07-05T09:14:17.029580",
     "exception": false,
     "start_time": "2025-07-05T09:14:17.015169",
     "status": "completed"
    },
    "tags": []
   },
   "outputs": [
    {
     "data": {
      "text/plain": [
       "Rank\n",
       "1        82.74\n",
       "2        40.24\n",
       "3        35.82\n",
       "4        33.00\n",
       "5        31.37\n",
       "         ...  \n",
       "16596     0.01\n",
       "16597     0.01\n",
       "16598     0.01\n",
       "16599     0.01\n",
       "16600     0.01\n",
       "Name: Global_Sales, Length: 16598, dtype: float64"
      ]
     },
     "execution_count": 9,
     "metadata": {},
     "output_type": "execute_result"
    }
   ],
   "source": [
    "df['Global_Sales']"
   ]
  },
  {
   "cell_type": "code",
   "execution_count": 10,
   "id": "67c5b89b",
   "metadata": {
    "execution": {
     "iopub.execute_input": "2025-07-05T09:14:17.040576Z",
     "iopub.status.busy": "2025-07-05T09:14:17.040295Z",
     "iopub.status.idle": "2025-07-05T09:14:17.046369Z",
     "shell.execute_reply": "2025-07-05T09:14:17.045484Z"
    },
    "papermill": {
     "duration": 0.013186,
     "end_time": "2025-07-05T09:14:17.047788",
     "exception": false,
     "start_time": "2025-07-05T09:14:17.034602",
     "status": "completed"
    },
    "tags": []
   },
   "outputs": [
    {
     "data": {
      "text/plain": [
       "8920.44"
      ]
     },
     "execution_count": 10,
     "metadata": {},
     "output_type": "execute_result"
    }
   ],
   "source": [
    "df['Global_Sales'].sum()"
   ]
  },
  {
   "cell_type": "code",
   "execution_count": 11,
   "id": "6b1cd86a",
   "metadata": {
    "execution": {
     "iopub.execute_input": "2025-07-05T09:14:17.059770Z",
     "iopub.status.busy": "2025-07-05T09:14:17.059123Z",
     "iopub.status.idle": "2025-07-05T09:14:17.064784Z",
     "shell.execute_reply": "2025-07-05T09:14:17.063957Z"
    },
    "papermill": {
     "duration": 0.013323,
     "end_time": "2025-07-05T09:14:17.066183",
     "exception": false,
     "start_time": "2025-07-05T09:14:17.052860",
     "status": "completed"
    },
    "tags": []
   },
   "outputs": [
    {
     "data": {
      "text/plain": [
       "0.5374406555006628"
      ]
     },
     "execution_count": 11,
     "metadata": {},
     "output_type": "execute_result"
    }
   ],
   "source": [
    "df['Global_Sales'].mean()"
   ]
  },
  {
   "cell_type": "code",
   "execution_count": 12,
   "id": "ff5b8159",
   "metadata": {
    "execution": {
     "iopub.execute_input": "2025-07-05T09:14:17.077884Z",
     "iopub.status.busy": "2025-07-05T09:14:17.077597Z",
     "iopub.status.idle": "2025-07-05T09:14:17.084419Z",
     "shell.execute_reply": "2025-07-05T09:14:17.083755Z"
    },
    "papermill": {
     "duration": 0.014198,
     "end_time": "2025-07-05T09:14:17.085699",
     "exception": false,
     "start_time": "2025-07-05T09:14:17.071501",
     "status": "completed"
    },
    "tags": []
   },
   "outputs": [
    {
     "data": {
      "text/plain": [
       "0    0.02\n",
       "Name: Global_Sales, dtype: float64"
      ]
     },
     "execution_count": 12,
     "metadata": {},
     "output_type": "execute_result"
    }
   ],
   "source": [
    "df['Global_Sales'].mode()"
   ]
  },
  {
   "cell_type": "code",
   "execution_count": 13,
   "id": "4bde215c",
   "metadata": {
    "execution": {
     "iopub.execute_input": "2025-07-05T09:14:17.098080Z",
     "iopub.status.busy": "2025-07-05T09:14:17.097700Z",
     "iopub.status.idle": "2025-07-05T09:14:17.104043Z",
     "shell.execute_reply": "2025-07-05T09:14:17.103127Z"
    },
    "papermill": {
     "duration": 0.014541,
     "end_time": "2025-07-05T09:14:17.105386",
     "exception": false,
     "start_time": "2025-07-05T09:14:17.090845",
     "status": "completed"
    },
    "tags": []
   },
   "outputs": [
    {
     "data": {
      "text/plain": [
       "1.5550279355699022"
      ]
     },
     "execution_count": 13,
     "metadata": {},
     "output_type": "execute_result"
    }
   ],
   "source": [
    "df['Global_Sales'].std()"
   ]
  },
  {
   "cell_type": "code",
   "execution_count": 14,
   "id": "514aa836",
   "metadata": {
    "execution": {
     "iopub.execute_input": "2025-07-05T09:14:17.117845Z",
     "iopub.status.busy": "2025-07-05T09:14:17.117564Z",
     "iopub.status.idle": "2025-07-05T09:14:17.124037Z",
     "shell.execute_reply": "2025-07-05T09:14:17.122950Z"
    },
    "papermill": {
     "duration": 0.014331,
     "end_time": "2025-07-05T09:14:17.125501",
     "exception": false,
     "start_time": "2025-07-05T09:14:17.111170",
     "status": "completed"
    },
    "tags": []
   },
   "outputs": [
    {
     "data": {
      "text/plain": [
       "82.74"
      ]
     },
     "execution_count": 14,
     "metadata": {},
     "output_type": "execute_result"
    }
   ],
   "source": [
    "df['Global_Sales'].max()"
   ]
  },
  {
   "cell_type": "code",
   "execution_count": 15,
   "id": "89de2863",
   "metadata": {
    "execution": {
     "iopub.execute_input": "2025-07-05T09:14:17.137334Z",
     "iopub.status.busy": "2025-07-05T09:14:17.137051Z",
     "iopub.status.idle": "2025-07-05T09:14:17.142697Z",
     "shell.execute_reply": "2025-07-05T09:14:17.141944Z"
    },
    "papermill": {
     "duration": 0.013016,
     "end_time": "2025-07-05T09:14:17.143848",
     "exception": false,
     "start_time": "2025-07-05T09:14:17.130832",
     "status": "completed"
    },
    "tags": []
   },
   "outputs": [
    {
     "data": {
      "text/plain": [
       "0.01"
      ]
     },
     "execution_count": 15,
     "metadata": {},
     "output_type": "execute_result"
    }
   ],
   "source": [
    "df['Global_Sales'].min()"
   ]
  },
  {
   "cell_type": "code",
   "execution_count": 16,
   "id": "89b367a1",
   "metadata": {
    "execution": {
     "iopub.execute_input": "2025-07-05T09:14:17.155421Z",
     "iopub.status.busy": "2025-07-05T09:14:17.155133Z",
     "iopub.status.idle": "2025-07-05T09:14:17.168734Z",
     "shell.execute_reply": "2025-07-05T09:14:17.167849Z"
    },
    "papermill": {
     "duration": 0.021132,
     "end_time": "2025-07-05T09:14:17.170176",
     "exception": false,
     "start_time": "2025-07-05T09:14:17.149044",
     "status": "completed"
    },
    "tags": []
   },
   "outputs": [
    {
     "data": {
      "text/html": [
       "<div>\n",
       "<style scoped>\n",
       "    .dataframe tbody tr th:only-of-type {\n",
       "        vertical-align: middle;\n",
       "    }\n",
       "\n",
       "    .dataframe tbody tr th {\n",
       "        vertical-align: top;\n",
       "    }\n",
       "\n",
       "    .dataframe thead th {\n",
       "        text-align: right;\n",
       "    }\n",
       "</style>\n",
       "<table border=\"1\" class=\"dataframe\">\n",
       "  <thead>\n",
       "    <tr style=\"text-align: right;\">\n",
       "      <th></th>\n",
       "      <th>Name</th>\n",
       "      <th>Platform</th>\n",
       "      <th>Year</th>\n",
       "      <th>Genre</th>\n",
       "      <th>Publisher</th>\n",
       "      <th>NA_Sales</th>\n",
       "      <th>EU_Sales</th>\n",
       "      <th>JP_Sales</th>\n",
       "      <th>Other_Sales</th>\n",
       "      <th>Global_Sales</th>\n",
       "    </tr>\n",
       "    <tr>\n",
       "      <th>Rank</th>\n",
       "      <th></th>\n",
       "      <th></th>\n",
       "      <th></th>\n",
       "      <th></th>\n",
       "      <th></th>\n",
       "      <th></th>\n",
       "      <th></th>\n",
       "      <th></th>\n",
       "      <th></th>\n",
       "      <th></th>\n",
       "    </tr>\n",
       "  </thead>\n",
       "  <tbody>\n",
       "    <tr>\n",
       "      <th>1</th>\n",
       "      <td>Wii Sports</td>\n",
       "      <td>Wii</td>\n",
       "      <td>2006.0</td>\n",
       "      <td>Sports</td>\n",
       "      <td>Nintendo</td>\n",
       "      <td>41.49</td>\n",
       "      <td>29.02</td>\n",
       "      <td>3.77</td>\n",
       "      <td>8.46</td>\n",
       "      <td>82.74</td>\n",
       "    </tr>\n",
       "    <tr>\n",
       "      <th>2</th>\n",
       "      <td>Super Mario Bros.</td>\n",
       "      <td>NES</td>\n",
       "      <td>1985.0</td>\n",
       "      <td>Platform</td>\n",
       "      <td>Nintendo</td>\n",
       "      <td>29.08</td>\n",
       "      <td>3.58</td>\n",
       "      <td>6.81</td>\n",
       "      <td>0.77</td>\n",
       "      <td>40.24</td>\n",
       "    </tr>\n",
       "    <tr>\n",
       "      <th>3</th>\n",
       "      <td>Mario Kart Wii</td>\n",
       "      <td>Wii</td>\n",
       "      <td>2008.0</td>\n",
       "      <td>Racing</td>\n",
       "      <td>Nintendo</td>\n",
       "      <td>15.85</td>\n",
       "      <td>12.88</td>\n",
       "      <td>3.79</td>\n",
       "      <td>3.31</td>\n",
       "      <td>35.82</td>\n",
       "    </tr>\n",
       "    <tr>\n",
       "      <th>4</th>\n",
       "      <td>Wii Sports Resort</td>\n",
       "      <td>Wii</td>\n",
       "      <td>2009.0</td>\n",
       "      <td>Sports</td>\n",
       "      <td>Nintendo</td>\n",
       "      <td>15.75</td>\n",
       "      <td>11.01</td>\n",
       "      <td>3.28</td>\n",
       "      <td>2.96</td>\n",
       "      <td>33.00</td>\n",
       "    </tr>\n",
       "    <tr>\n",
       "      <th>5</th>\n",
       "      <td>Pokemon Red/Pokemon Blue</td>\n",
       "      <td>GB</td>\n",
       "      <td>1996.0</td>\n",
       "      <td>Role-Playing</td>\n",
       "      <td>Nintendo</td>\n",
       "      <td>11.27</td>\n",
       "      <td>8.89</td>\n",
       "      <td>10.22</td>\n",
       "      <td>1.00</td>\n",
       "      <td>31.37</td>\n",
       "    </tr>\n",
       "  </tbody>\n",
       "</table>\n",
       "</div>"
      ],
      "text/plain": [
       "                          Name Platform    Year         Genre Publisher  \\\n",
       "Rank                                                                      \n",
       "1                   Wii Sports      Wii  2006.0        Sports  Nintendo   \n",
       "2            Super Mario Bros.      NES  1985.0      Platform  Nintendo   \n",
       "3               Mario Kart Wii      Wii  2008.0        Racing  Nintendo   \n",
       "4            Wii Sports Resort      Wii  2009.0        Sports  Nintendo   \n",
       "5     Pokemon Red/Pokemon Blue       GB  1996.0  Role-Playing  Nintendo   \n",
       "\n",
       "      NA_Sales  EU_Sales  JP_Sales  Other_Sales  Global_Sales  \n",
       "Rank                                                           \n",
       "1        41.49     29.02      3.77         8.46         82.74  \n",
       "2        29.08      3.58      6.81         0.77         40.24  \n",
       "3        15.85     12.88      3.79         3.31         35.82  \n",
       "4        15.75     11.01      3.28         2.96         33.00  \n",
       "5        11.27      8.89     10.22         1.00         31.37  "
      ]
     },
     "execution_count": 16,
     "metadata": {},
     "output_type": "execute_result"
    }
   ],
   "source": [
    "df.head()"
   ]
  },
  {
   "cell_type": "code",
   "execution_count": 17,
   "id": "0028a040",
   "metadata": {
    "execution": {
     "iopub.execute_input": "2025-07-05T09:14:17.183139Z",
     "iopub.status.busy": "2025-07-05T09:14:17.182241Z",
     "iopub.status.idle": "2025-07-05T09:14:17.196485Z",
     "shell.execute_reply": "2025-07-05T09:14:17.195587Z"
    },
    "papermill": {
     "duration": 0.022313,
     "end_time": "2025-07-05T09:14:17.198055",
     "exception": false,
     "start_time": "2025-07-05T09:14:17.175742",
     "status": "completed"
    },
    "tags": []
   },
   "outputs": [
    {
     "data": {
      "text/html": [
       "<div>\n",
       "<style scoped>\n",
       "    .dataframe tbody tr th:only-of-type {\n",
       "        vertical-align: middle;\n",
       "    }\n",
       "\n",
       "    .dataframe tbody tr th {\n",
       "        vertical-align: top;\n",
       "    }\n",
       "\n",
       "    .dataframe thead th {\n",
       "        text-align: right;\n",
       "    }\n",
       "</style>\n",
       "<table border=\"1\" class=\"dataframe\">\n",
       "  <thead>\n",
       "    <tr style=\"text-align: right;\">\n",
       "      <th></th>\n",
       "      <th>Name</th>\n",
       "      <th>Platform</th>\n",
       "      <th>Year</th>\n",
       "      <th>Genre</th>\n",
       "      <th>Publisher</th>\n",
       "      <th>NA_Sales</th>\n",
       "      <th>EU_Sales</th>\n",
       "      <th>JP_Sales</th>\n",
       "      <th>Other_Sales</th>\n",
       "      <th>Global_Sales</th>\n",
       "    </tr>\n",
       "    <tr>\n",
       "      <th>Rank</th>\n",
       "      <th></th>\n",
       "      <th></th>\n",
       "      <th></th>\n",
       "      <th></th>\n",
       "      <th></th>\n",
       "      <th></th>\n",
       "      <th></th>\n",
       "      <th></th>\n",
       "      <th></th>\n",
       "      <th></th>\n",
       "    </tr>\n",
       "  </thead>\n",
       "  <tbody>\n",
       "    <tr>\n",
       "      <th>16596</th>\n",
       "      <td>Woody Woodpecker in Crazy Castle 5</td>\n",
       "      <td>GBA</td>\n",
       "      <td>2002.0</td>\n",
       "      <td>Platform</td>\n",
       "      <td>Kemco</td>\n",
       "      <td>0.01</td>\n",
       "      <td>0.00</td>\n",
       "      <td>0.0</td>\n",
       "      <td>0.0</td>\n",
       "      <td>0.01</td>\n",
       "    </tr>\n",
       "    <tr>\n",
       "      <th>16597</th>\n",
       "      <td>Men in Black II: Alien Escape</td>\n",
       "      <td>GC</td>\n",
       "      <td>2003.0</td>\n",
       "      <td>Shooter</td>\n",
       "      <td>Infogrames</td>\n",
       "      <td>0.01</td>\n",
       "      <td>0.00</td>\n",
       "      <td>0.0</td>\n",
       "      <td>0.0</td>\n",
       "      <td>0.01</td>\n",
       "    </tr>\n",
       "    <tr>\n",
       "      <th>16598</th>\n",
       "      <td>SCORE International Baja 1000: The Official Game</td>\n",
       "      <td>PS2</td>\n",
       "      <td>2008.0</td>\n",
       "      <td>Racing</td>\n",
       "      <td>Activision</td>\n",
       "      <td>0.00</td>\n",
       "      <td>0.00</td>\n",
       "      <td>0.0</td>\n",
       "      <td>0.0</td>\n",
       "      <td>0.01</td>\n",
       "    </tr>\n",
       "    <tr>\n",
       "      <th>16599</th>\n",
       "      <td>Know How 2</td>\n",
       "      <td>DS</td>\n",
       "      <td>2010.0</td>\n",
       "      <td>Puzzle</td>\n",
       "      <td>7G//AMES</td>\n",
       "      <td>0.00</td>\n",
       "      <td>0.01</td>\n",
       "      <td>0.0</td>\n",
       "      <td>0.0</td>\n",
       "      <td>0.01</td>\n",
       "    </tr>\n",
       "    <tr>\n",
       "      <th>16600</th>\n",
       "      <td>Spirits &amp; Spells</td>\n",
       "      <td>GBA</td>\n",
       "      <td>2003.0</td>\n",
       "      <td>Platform</td>\n",
       "      <td>Wanadoo</td>\n",
       "      <td>0.01</td>\n",
       "      <td>0.00</td>\n",
       "      <td>0.0</td>\n",
       "      <td>0.0</td>\n",
       "      <td>0.01</td>\n",
       "    </tr>\n",
       "  </tbody>\n",
       "</table>\n",
       "</div>"
      ],
      "text/plain": [
       "                                                   Name Platform    Year  \\\n",
       "Rank                                                                       \n",
       "16596                Woody Woodpecker in Crazy Castle 5      GBA  2002.0   \n",
       "16597                     Men in Black II: Alien Escape       GC  2003.0   \n",
       "16598  SCORE International Baja 1000: The Official Game      PS2  2008.0   \n",
       "16599                                        Know How 2       DS  2010.0   \n",
       "16600                                  Spirits & Spells      GBA  2003.0   \n",
       "\n",
       "          Genre   Publisher  NA_Sales  EU_Sales  JP_Sales  Other_Sales  \\\n",
       "Rank                                                                     \n",
       "16596  Platform       Kemco      0.01      0.00       0.0          0.0   \n",
       "16597   Shooter  Infogrames      0.01      0.00       0.0          0.0   \n",
       "16598    Racing  Activision      0.00      0.00       0.0          0.0   \n",
       "16599    Puzzle    7G//AMES      0.00      0.01       0.0          0.0   \n",
       "16600  Platform     Wanadoo      0.01      0.00       0.0          0.0   \n",
       "\n",
       "       Global_Sales  \n",
       "Rank                 \n",
       "16596          0.01  \n",
       "16597          0.01  \n",
       "16598          0.01  \n",
       "16599          0.01  \n",
       "16600          0.01  "
      ]
     },
     "execution_count": 17,
     "metadata": {},
     "output_type": "execute_result"
    }
   ],
   "source": [
    "df.tail()"
   ]
  },
  {
   "cell_type": "code",
   "execution_count": 18,
   "id": "846f9b7e",
   "metadata": {
    "execution": {
     "iopub.execute_input": "2025-07-05T09:14:17.210918Z",
     "iopub.status.busy": "2025-07-05T09:14:17.210600Z",
     "iopub.status.idle": "2025-07-05T09:14:17.215906Z",
     "shell.execute_reply": "2025-07-05T09:14:17.215036Z"
    },
    "papermill": {
     "duration": 0.01341,
     "end_time": "2025-07-05T09:14:17.217364",
     "exception": false,
     "start_time": "2025-07-05T09:14:17.203954",
     "status": "completed"
    },
    "tags": []
   },
   "outputs": [],
   "source": [
    "df['Global_Sales'] = df['Global_Sales'].add(10)"
   ]
  },
  {
   "cell_type": "code",
   "execution_count": 19,
   "id": "653fcacf",
   "metadata": {
    "execution": {
     "iopub.execute_input": "2025-07-05T09:14:17.230254Z",
     "iopub.status.busy": "2025-07-05T09:14:17.229893Z",
     "iopub.status.idle": "2025-07-05T09:14:17.235763Z",
     "shell.execute_reply": "2025-07-05T09:14:17.234891Z"
    },
    "papermill": {
     "duration": 0.013913,
     "end_time": "2025-07-05T09:14:17.237083",
     "exception": false,
     "start_time": "2025-07-05T09:14:17.223170",
     "status": "completed"
    },
    "tags": []
   },
   "outputs": [
    {
     "data": {
      "text/plain": [
       "10.01"
      ]
     },
     "execution_count": 19,
     "metadata": {},
     "output_type": "execute_result"
    }
   ],
   "source": [
    "df['Global_Sales'].min()"
   ]
  },
  {
   "cell_type": "code",
   "execution_count": 20,
   "id": "7186154f",
   "metadata": {
    "execution": {
     "iopub.execute_input": "2025-07-05T09:14:17.249902Z",
     "iopub.status.busy": "2025-07-05T09:14:17.249578Z",
     "iopub.status.idle": "2025-07-05T09:14:17.254334Z",
     "shell.execute_reply": "2025-07-05T09:14:17.253679Z"
    },
    "papermill": {
     "duration": 0.012622,
     "end_time": "2025-07-05T09:14:17.255606",
     "exception": false,
     "start_time": "2025-07-05T09:14:17.242984",
     "status": "completed"
    },
    "tags": []
   },
   "outputs": [],
   "source": [
    "df['Global_Sales'] = df['Global_Sales'].sub(10)"
   ]
  },
  {
   "cell_type": "code",
   "execution_count": 21,
   "id": "1d49df5a",
   "metadata": {
    "execution": {
     "iopub.execute_input": "2025-07-05T09:14:17.268049Z",
     "iopub.status.busy": "2025-07-05T09:14:17.267724Z",
     "iopub.status.idle": "2025-07-05T09:14:17.273759Z",
     "shell.execute_reply": "2025-07-05T09:14:17.272822Z"
    },
    "papermill": {
     "duration": 0.013877,
     "end_time": "2025-07-05T09:14:17.275221",
     "exception": false,
     "start_time": "2025-07-05T09:14:17.261344",
     "status": "completed"
    },
    "tags": []
   },
   "outputs": [
    {
     "data": {
      "text/plain": [
       "0.009999999999999787"
      ]
     },
     "execution_count": 21,
     "metadata": {},
     "output_type": "execute_result"
    }
   ],
   "source": [
    "df['Global_Sales'].min()"
   ]
  },
  {
   "cell_type": "code",
   "execution_count": 22,
   "id": "ebfeadfb",
   "metadata": {
    "execution": {
     "iopub.execute_input": "2025-07-05T09:14:17.287896Z",
     "iopub.status.busy": "2025-07-05T09:14:17.287571Z",
     "iopub.status.idle": "2025-07-05T09:14:17.295545Z",
     "shell.execute_reply": "2025-07-05T09:14:17.294810Z"
    },
    "papermill": {
     "duration": 0.015739,
     "end_time": "2025-07-05T09:14:17.296833",
     "exception": false,
     "start_time": "2025-07-05T09:14:17.281094",
     "status": "completed"
    },
    "tags": []
   },
   "outputs": [
    {
     "data": {
      "text/plain": [
       "Rank\n",
       "1        165.48\n",
       "2         80.48\n",
       "3         71.64\n",
       "4         66.00\n",
       "5         62.74\n",
       "          ...  \n",
       "16596      0.02\n",
       "16597      0.02\n",
       "16598      0.02\n",
       "16599      0.02\n",
       "16600      0.02\n",
       "Name: Global_Sales, Length: 16598, dtype: float64"
      ]
     },
     "execution_count": 22,
     "metadata": {},
     "output_type": "execute_result"
    }
   ],
   "source": [
    "df['Global_Sales'].mul(2)"
   ]
  },
  {
   "cell_type": "code",
   "execution_count": 23,
   "id": "14e879b2",
   "metadata": {
    "execution": {
     "iopub.execute_input": "2025-07-05T09:14:17.309933Z",
     "iopub.status.busy": "2025-07-05T09:14:17.309623Z",
     "iopub.status.idle": "2025-07-05T09:14:17.317896Z",
     "shell.execute_reply": "2025-07-05T09:14:17.317121Z"
    },
    "papermill": {
     "duration": 0.016619,
     "end_time": "2025-07-05T09:14:17.319381",
     "exception": false,
     "start_time": "2025-07-05T09:14:17.302762",
     "status": "completed"
    },
    "tags": []
   },
   "outputs": [
    {
     "data": {
      "text/plain": [
       "Rank\n",
       "1        41.370\n",
       "2        20.120\n",
       "3        17.910\n",
       "4        16.500\n",
       "5        15.685\n",
       "          ...  \n",
       "16596     0.005\n",
       "16597     0.005\n",
       "16598     0.005\n",
       "16599     0.005\n",
       "16600     0.005\n",
       "Name: Global_Sales, Length: 16598, dtype: float64"
      ]
     },
     "execution_count": 23,
     "metadata": {},
     "output_type": "execute_result"
    }
   ],
   "source": [
    "df['Global_Sales'].div(2, fill_value = 10)"
   ]
  }
 ],
 "metadata": {
  "kaggle": {
   "accelerator": "none",
   "dataSources": [
    {
     "datasetId": 7770728,
     "sourceId": 12327516,
     "sourceType": "datasetVersion"
    }
   ],
   "dockerImageVersionId": 31040,
   "isGpuEnabled": false,
   "isInternetEnabled": true,
   "language": "python",
   "sourceType": "notebook"
  },
  "kernelspec": {
   "display_name": "Python 3",
   "language": "python",
   "name": "python3"
  },
  "language_info": {
   "codemirror_mode": {
    "name": "ipython",
    "version": 3
   },
   "file_extension": ".py",
   "mimetype": "text/x-python",
   "name": "python",
   "nbconvert_exporter": "python",
   "pygments_lexer": "ipython3",
   "version": "3.11.11"
  },
  "papermill": {
   "default_parameters": {},
   "duration": 8.770859,
   "end_time": "2025-07-05T09:14:17.844944",
   "environment_variables": {},
   "exception": null,
   "input_path": "__notebook__.ipynb",
   "output_path": "__notebook__.ipynb",
   "parameters": {},
   "start_time": "2025-07-05T09:14:09.074085",
   "version": "2.6.0"
  }
 },
 "nbformat": 4,
 "nbformat_minor": 5
}
