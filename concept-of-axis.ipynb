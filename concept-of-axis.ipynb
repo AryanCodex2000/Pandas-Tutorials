{
 "cells": [
  {
   "cell_type": "code",
   "execution_count": 1,
   "id": "92cef851",
   "metadata": {
    "_cell_guid": "b1076dfc-b9ad-4769-8c92-a6c4dae69d19",
    "_uuid": "8f2839f25d086af736a60e9eeb907d3b93b6e0e5",
    "execution": {
     "iopub.execute_input": "2025-07-05T08:37:42.600212Z",
     "iopub.status.busy": "2025-07-05T08:37:42.599908Z",
     "iopub.status.idle": "2025-07-05T08:37:44.367310Z",
     "shell.execute_reply": "2025-07-05T08:37:44.366382Z"
    },
    "papermill": {
     "duration": 1.77302,
     "end_time": "2025-07-05T08:37:44.369131",
     "exception": false,
     "start_time": "2025-07-05T08:37:42.596111",
     "status": "completed"
    },
    "tags": []
   },
   "outputs": [],
   "source": [
    "import numpy as np\n",
    "import pandas as pd"
   ]
  },
  {
   "cell_type": "code",
   "execution_count": 2,
   "id": "5a833c8d",
   "metadata": {
    "execution": {
     "iopub.execute_input": "2025-07-05T08:37:44.375369Z",
     "iopub.status.busy": "2025-07-05T08:37:44.374748Z",
     "iopub.status.idle": "2025-07-05T08:37:44.381763Z",
     "shell.execute_reply": "2025-07-05T08:37:44.380934Z"
    },
    "papermill": {
     "duration": 0.011188,
     "end_time": "2025-07-05T08:37:44.383050",
     "exception": false,
     "start_time": "2025-07-05T08:37:44.371862",
     "status": "completed"
    },
    "tags": []
   },
   "outputs": [
    {
     "data": {
      "text/plain": [
       "{'Students': ['Aryan', 'Sahil', 'Prinshu', 'Goku', 'Joker'],\n",
       " 'Marks': [12, 13, 10, 9, 15],\n",
       " 'Age': [23, 22, 21, 24, 23]}"
      ]
     },
     "execution_count": 2,
     "metadata": {},
     "output_type": "execute_result"
    }
   ],
   "source": [
    "d = {\n",
    "    'Students' : ['Aryan','Sahil','Prinshu','Goku','Joker'],\n",
    "    'Marks' : [12,13,10,9,15],\n",
    "    'Age' : [23,22,21,24,23]\n",
    "}\n",
    "d"
   ]
  },
  {
   "cell_type": "code",
   "execution_count": 3,
   "id": "fa921883",
   "metadata": {
    "execution": {
     "iopub.execute_input": "2025-07-05T08:37:44.388702Z",
     "iopub.status.busy": "2025-07-05T08:37:44.388158Z",
     "iopub.status.idle": "2025-07-05T08:37:44.412856Z",
     "shell.execute_reply": "2025-07-05T08:37:44.411990Z"
    },
    "papermill": {
     "duration": 0.029135,
     "end_time": "2025-07-05T08:37:44.414464",
     "exception": false,
     "start_time": "2025-07-05T08:37:44.385329",
     "status": "completed"
    },
    "tags": []
   },
   "outputs": [
    {
     "data": {
      "text/html": [
       "<div>\n",
       "<style scoped>\n",
       "    .dataframe tbody tr th:only-of-type {\n",
       "        vertical-align: middle;\n",
       "    }\n",
       "\n",
       "    .dataframe tbody tr th {\n",
       "        vertical-align: top;\n",
       "    }\n",
       "\n",
       "    .dataframe thead th {\n",
       "        text-align: right;\n",
       "    }\n",
       "</style>\n",
       "<table border=\"1\" class=\"dataframe\">\n",
       "  <thead>\n",
       "    <tr style=\"text-align: right;\">\n",
       "      <th></th>\n",
       "      <th>Students</th>\n",
       "      <th>Marks</th>\n",
       "      <th>Age</th>\n",
       "    </tr>\n",
       "  </thead>\n",
       "  <tbody>\n",
       "    <tr>\n",
       "      <th>0</th>\n",
       "      <td>Aryan</td>\n",
       "      <td>12</td>\n",
       "      <td>23</td>\n",
       "    </tr>\n",
       "    <tr>\n",
       "      <th>1</th>\n",
       "      <td>Sahil</td>\n",
       "      <td>13</td>\n",
       "      <td>22</td>\n",
       "    </tr>\n",
       "    <tr>\n",
       "      <th>2</th>\n",
       "      <td>Prinshu</td>\n",
       "      <td>10</td>\n",
       "      <td>21</td>\n",
       "    </tr>\n",
       "    <tr>\n",
       "      <th>3</th>\n",
       "      <td>Goku</td>\n",
       "      <td>9</td>\n",
       "      <td>24</td>\n",
       "    </tr>\n",
       "    <tr>\n",
       "      <th>4</th>\n",
       "      <td>Joker</td>\n",
       "      <td>15</td>\n",
       "      <td>23</td>\n",
       "    </tr>\n",
       "  </tbody>\n",
       "</table>\n",
       "</div>"
      ],
      "text/plain": [
       "  Students  Marks  Age\n",
       "0    Aryan     12   23\n",
       "1    Sahil     13   22\n",
       "2  Prinshu     10   21\n",
       "3     Goku      9   24\n",
       "4    Joker     15   23"
      ]
     },
     "execution_count": 3,
     "metadata": {},
     "output_type": "execute_result"
    }
   ],
   "source": [
    "l = ['Aryan','Sahil','Prinshu','Goku','Joker']\n",
    "df = pd.DataFrame(d)\n",
    "df"
   ]
  },
  {
   "cell_type": "code",
   "execution_count": 4,
   "id": "ebbd2211",
   "metadata": {
    "execution": {
     "iopub.execute_input": "2025-07-05T08:37:44.421254Z",
     "iopub.status.busy": "2025-07-05T08:37:44.420596Z",
     "iopub.status.idle": "2025-07-05T08:37:44.444660Z",
     "shell.execute_reply": "2025-07-05T08:37:44.443863Z"
    },
    "papermill": {
     "duration": 0.028966,
     "end_time": "2025-07-05T08:37:44.446033",
     "exception": false,
     "start_time": "2025-07-05T08:37:44.417067",
     "status": "completed"
    },
    "tags": []
   },
   "outputs": [
    {
     "data": {
      "text/html": [
       "<div>\n",
       "<style scoped>\n",
       "    .dataframe tbody tr th:only-of-type {\n",
       "        vertical-align: middle;\n",
       "    }\n",
       "\n",
       "    .dataframe tbody tr th {\n",
       "        vertical-align: top;\n",
       "    }\n",
       "\n",
       "    .dataframe thead th {\n",
       "        text-align: right;\n",
       "    }\n",
       "</style>\n",
       "<table border=\"1\" class=\"dataframe\">\n",
       "  <thead>\n",
       "    <tr style=\"text-align: right;\">\n",
       "      <th></th>\n",
       "      <th>Marks</th>\n",
       "      <th>Age</th>\n",
       "    </tr>\n",
       "  </thead>\n",
       "  <tbody>\n",
       "    <tr>\n",
       "      <th>count</th>\n",
       "      <td>5.000000</td>\n",
       "      <td>5.000000</td>\n",
       "    </tr>\n",
       "    <tr>\n",
       "      <th>mean</th>\n",
       "      <td>11.800000</td>\n",
       "      <td>22.600000</td>\n",
       "    </tr>\n",
       "    <tr>\n",
       "      <th>std</th>\n",
       "      <td>2.387467</td>\n",
       "      <td>1.140175</td>\n",
       "    </tr>\n",
       "    <tr>\n",
       "      <th>min</th>\n",
       "      <td>9.000000</td>\n",
       "      <td>21.000000</td>\n",
       "    </tr>\n",
       "    <tr>\n",
       "      <th>25%</th>\n",
       "      <td>10.000000</td>\n",
       "      <td>22.000000</td>\n",
       "    </tr>\n",
       "    <tr>\n",
       "      <th>50%</th>\n",
       "      <td>12.000000</td>\n",
       "      <td>23.000000</td>\n",
       "    </tr>\n",
       "    <tr>\n",
       "      <th>75%</th>\n",
       "      <td>13.000000</td>\n",
       "      <td>23.000000</td>\n",
       "    </tr>\n",
       "    <tr>\n",
       "      <th>max</th>\n",
       "      <td>15.000000</td>\n",
       "      <td>24.000000</td>\n",
       "    </tr>\n",
       "  </tbody>\n",
       "</table>\n",
       "</div>"
      ],
      "text/plain": [
       "           Marks        Age\n",
       "count   5.000000   5.000000\n",
       "mean   11.800000  22.600000\n",
       "std     2.387467   1.140175\n",
       "min     9.000000  21.000000\n",
       "25%    10.000000  22.000000\n",
       "50%    12.000000  23.000000\n",
       "75%    13.000000  23.000000\n",
       "max    15.000000  24.000000"
      ]
     },
     "execution_count": 4,
     "metadata": {},
     "output_type": "execute_result"
    }
   ],
   "source": [
    "df.describe()"
   ]
  },
  {
   "cell_type": "code",
   "execution_count": 5,
   "id": "58a29bbf",
   "metadata": {
    "execution": {
     "iopub.execute_input": "2025-07-05T08:37:44.452284Z",
     "iopub.status.busy": "2025-07-05T08:37:44.452009Z",
     "iopub.status.idle": "2025-07-05T08:37:44.471411Z",
     "shell.execute_reply": "2025-07-05T08:37:44.470422Z"
    },
    "papermill": {
     "duration": 0.023906,
     "end_time": "2025-07-05T08:37:44.472751",
     "exception": false,
     "start_time": "2025-07-05T08:37:44.448845",
     "status": "completed"
    },
    "tags": []
   },
   "outputs": [
    {
     "name": "stdout",
     "output_type": "stream",
     "text": [
      "<class 'pandas.core.frame.DataFrame'>\n",
      "RangeIndex: 5 entries, 0 to 4\n",
      "Data columns (total 3 columns):\n",
      " #   Column    Non-Null Count  Dtype \n",
      "---  ------    --------------  ----- \n",
      " 0   Students  5 non-null      object\n",
      " 1   Marks     5 non-null      int64 \n",
      " 2   Age       5 non-null      int64 \n",
      "dtypes: int64(2), object(1)\n",
      "memory usage: 252.0+ bytes\n"
     ]
    }
   ],
   "source": [
    "df.info()"
   ]
  },
  {
   "cell_type": "code",
   "execution_count": null,
   "id": "a3d5dd10",
   "metadata": {
    "papermill": {
     "duration": 0.002164,
     "end_time": "2025-07-05T08:37:44.477467",
     "exception": false,
     "start_time": "2025-07-05T08:37:44.475303",
     "status": "completed"
    },
    "tags": []
   },
   "outputs": [],
   "source": []
  },
  {
   "cell_type": "code",
   "execution_count": null,
   "id": "b5862a1a",
   "metadata": {
    "papermill": {
     "duration": 0.00202,
     "end_time": "2025-07-05T08:37:44.481810",
     "exception": false,
     "start_time": "2025-07-05T08:37:44.479790",
     "status": "completed"
    },
    "tags": []
   },
   "outputs": [],
   "source": []
  },
  {
   "cell_type": "code",
   "execution_count": null,
   "id": "f4cc3dbc",
   "metadata": {
    "papermill": {
     "duration": 0.002025,
     "end_time": "2025-07-05T08:37:44.486057",
     "exception": false,
     "start_time": "2025-07-05T08:37:44.484032",
     "status": "completed"
    },
    "tags": []
   },
   "outputs": [],
   "source": []
  },
  {
   "cell_type": "code",
   "execution_count": null,
   "id": "3b2df94e",
   "metadata": {
    "papermill": {
     "duration": 0.002011,
     "end_time": "2025-07-05T08:37:44.490310",
     "exception": false,
     "start_time": "2025-07-05T08:37:44.488299",
     "status": "completed"
    },
    "tags": []
   },
   "outputs": [],
   "source": []
  }
 ],
 "metadata": {
  "kaggle": {
   "accelerator": "none",
   "dataSources": [],
   "dockerImageVersionId": 31040,
   "isGpuEnabled": false,
   "isInternetEnabled": true,
   "language": "python",
   "sourceType": "notebook"
  },
  "kernelspec": {
   "display_name": "Python 3",
   "language": "python",
   "name": "python3"
  },
  "language_info": {
   "codemirror_mode": {
    "name": "ipython",
    "version": 3
   },
   "file_extension": ".py",
   "mimetype": "text/x-python",
   "name": "python",
   "nbconvert_exporter": "python",
   "pygments_lexer": "ipython3",
   "version": "3.11.11"
  },
  "papermill": {
   "default_parameters": {},
   "duration": 6.945309,
   "end_time": "2025-07-05T08:37:45.011790",
   "environment_variables": {},
   "exception": null,
   "input_path": "__notebook__.ipynb",
   "output_path": "__notebook__.ipynb",
   "parameters": {},
   "start_time": "2025-07-05T08:37:38.066481",
   "version": "2.6.0"
  }
 },
 "nbformat": 4,
 "nbformat_minor": 5
}
