{
 "cells": [
  {
   "cell_type": "code",
   "execution_count": 1,
   "id": "cf2a3596",
   "metadata": {
    "_cell_guid": "b1076dfc-b9ad-4769-8c92-a6c4dae69d19",
    "_uuid": "8f2839f25d086af736a60e9eeb907d3b93b6e0e5",
    "execution": {
     "iopub.execute_input": "2025-07-01T15:26:22.466960Z",
     "iopub.status.busy": "2025-07-01T15:26:22.466566Z",
     "iopub.status.idle": "2025-07-01T15:26:24.369774Z",
     "shell.execute_reply": "2025-07-01T15:26:24.368731Z"
    },
    "papermill": {
     "duration": 1.911894,
     "end_time": "2025-07-01T15:26:24.371945",
     "exception": false,
     "start_time": "2025-07-01T15:26:22.460051",
     "status": "completed"
    },
    "tags": []
   },
   "outputs": [],
   "source": [
    "import pandas as pd"
   ]
  },
  {
   "cell_type": "code",
   "execution_count": 2,
   "id": "109d77f8",
   "metadata": {
    "execution": {
     "iopub.execute_input": "2025-07-01T15:26:24.384946Z",
     "iopub.status.busy": "2025-07-01T15:26:24.384517Z",
     "iopub.status.idle": "2025-07-01T15:26:24.510554Z",
     "shell.execute_reply": "2025-07-01T15:26:24.509564Z"
    },
    "papermill": {
     "duration": 0.133666,
     "end_time": "2025-07-01T15:26:24.512059",
     "exception": false,
     "start_time": "2025-07-01T15:26:24.378393",
     "status": "completed"
    },
    "tags": []
   },
   "outputs": [
    {
     "data": {
      "text/html": [
       "<div>\n",
       "<style scoped>\n",
       "    .dataframe tbody tr th:only-of-type {\n",
       "        vertical-align: middle;\n",
       "    }\n",
       "\n",
       "    .dataframe tbody tr th {\n",
       "        vertical-align: top;\n",
       "    }\n",
       "\n",
       "    .dataframe thead th {\n",
       "        text-align: right;\n",
       "    }\n",
       "</style>\n",
       "<table border=\"1\" class=\"dataframe\">\n",
       "  <thead>\n",
       "    <tr style=\"text-align: right;\">\n",
       "      <th></th>\n",
       "      <th>Rank</th>\n",
       "      <th>Name</th>\n",
       "      <th>Platform</th>\n",
       "      <th>Year</th>\n",
       "      <th>Genre</th>\n",
       "      <th>Publisher</th>\n",
       "      <th>NA_Sales</th>\n",
       "      <th>EU_Sales</th>\n",
       "      <th>JP_Sales</th>\n",
       "      <th>Other_Sales</th>\n",
       "      <th>Global_Sales</th>\n",
       "    </tr>\n",
       "  </thead>\n",
       "  <tbody>\n",
       "    <tr>\n",
       "      <th>0</th>\n",
       "      <td>1</td>\n",
       "      <td>Wii Sports</td>\n",
       "      <td>Wii</td>\n",
       "      <td>2006.0</td>\n",
       "      <td>Sports</td>\n",
       "      <td>Nintendo</td>\n",
       "      <td>41.49</td>\n",
       "      <td>29.02</td>\n",
       "      <td>3.77</td>\n",
       "      <td>8.46</td>\n",
       "      <td>82.74</td>\n",
       "    </tr>\n",
       "    <tr>\n",
       "      <th>1</th>\n",
       "      <td>2</td>\n",
       "      <td>Super Mario Bros.</td>\n",
       "      <td>NES</td>\n",
       "      <td>1985.0</td>\n",
       "      <td>Platform</td>\n",
       "      <td>Nintendo</td>\n",
       "      <td>29.08</td>\n",
       "      <td>3.58</td>\n",
       "      <td>6.81</td>\n",
       "      <td>0.77</td>\n",
       "      <td>40.24</td>\n",
       "    </tr>\n",
       "    <tr>\n",
       "      <th>2</th>\n",
       "      <td>3</td>\n",
       "      <td>Mario Kart Wii</td>\n",
       "      <td>Wii</td>\n",
       "      <td>2008.0</td>\n",
       "      <td>Racing</td>\n",
       "      <td>Nintendo</td>\n",
       "      <td>15.85</td>\n",
       "      <td>12.88</td>\n",
       "      <td>3.79</td>\n",
       "      <td>3.31</td>\n",
       "      <td>35.82</td>\n",
       "    </tr>\n",
       "    <tr>\n",
       "      <th>3</th>\n",
       "      <td>4</td>\n",
       "      <td>Wii Sports Resort</td>\n",
       "      <td>Wii</td>\n",
       "      <td>2009.0</td>\n",
       "      <td>Sports</td>\n",
       "      <td>Nintendo</td>\n",
       "      <td>15.75</td>\n",
       "      <td>11.01</td>\n",
       "      <td>3.28</td>\n",
       "      <td>2.96</td>\n",
       "      <td>33.00</td>\n",
       "    </tr>\n",
       "    <tr>\n",
       "      <th>4</th>\n",
       "      <td>5</td>\n",
       "      <td>Pokemon Red/Pokemon Blue</td>\n",
       "      <td>GB</td>\n",
       "      <td>1996.0</td>\n",
       "      <td>Role-Playing</td>\n",
       "      <td>Nintendo</td>\n",
       "      <td>11.27</td>\n",
       "      <td>8.89</td>\n",
       "      <td>10.22</td>\n",
       "      <td>1.00</td>\n",
       "      <td>31.37</td>\n",
       "    </tr>\n",
       "    <tr>\n",
       "      <th>...</th>\n",
       "      <td>...</td>\n",
       "      <td>...</td>\n",
       "      <td>...</td>\n",
       "      <td>...</td>\n",
       "      <td>...</td>\n",
       "      <td>...</td>\n",
       "      <td>...</td>\n",
       "      <td>...</td>\n",
       "      <td>...</td>\n",
       "      <td>...</td>\n",
       "      <td>...</td>\n",
       "    </tr>\n",
       "    <tr>\n",
       "      <th>16593</th>\n",
       "      <td>16596</td>\n",
       "      <td>Woody Woodpecker in Crazy Castle 5</td>\n",
       "      <td>GBA</td>\n",
       "      <td>2002.0</td>\n",
       "      <td>Platform</td>\n",
       "      <td>Kemco</td>\n",
       "      <td>0.01</td>\n",
       "      <td>0.00</td>\n",
       "      <td>0.00</td>\n",
       "      <td>0.00</td>\n",
       "      <td>0.01</td>\n",
       "    </tr>\n",
       "    <tr>\n",
       "      <th>16594</th>\n",
       "      <td>16597</td>\n",
       "      <td>Men in Black II: Alien Escape</td>\n",
       "      <td>GC</td>\n",
       "      <td>2003.0</td>\n",
       "      <td>Shooter</td>\n",
       "      <td>Infogrames</td>\n",
       "      <td>0.01</td>\n",
       "      <td>0.00</td>\n",
       "      <td>0.00</td>\n",
       "      <td>0.00</td>\n",
       "      <td>0.01</td>\n",
       "    </tr>\n",
       "    <tr>\n",
       "      <th>16595</th>\n",
       "      <td>16598</td>\n",
       "      <td>SCORE International Baja 1000: The Official Game</td>\n",
       "      <td>PS2</td>\n",
       "      <td>2008.0</td>\n",
       "      <td>Racing</td>\n",
       "      <td>Activision</td>\n",
       "      <td>0.00</td>\n",
       "      <td>0.00</td>\n",
       "      <td>0.00</td>\n",
       "      <td>0.00</td>\n",
       "      <td>0.01</td>\n",
       "    </tr>\n",
       "    <tr>\n",
       "      <th>16596</th>\n",
       "      <td>16599</td>\n",
       "      <td>Know How 2</td>\n",
       "      <td>DS</td>\n",
       "      <td>2010.0</td>\n",
       "      <td>Puzzle</td>\n",
       "      <td>7G//AMES</td>\n",
       "      <td>0.00</td>\n",
       "      <td>0.01</td>\n",
       "      <td>0.00</td>\n",
       "      <td>0.00</td>\n",
       "      <td>0.01</td>\n",
       "    </tr>\n",
       "    <tr>\n",
       "      <th>16597</th>\n",
       "      <td>16600</td>\n",
       "      <td>Spirits &amp; Spells</td>\n",
       "      <td>GBA</td>\n",
       "      <td>2003.0</td>\n",
       "      <td>Platform</td>\n",
       "      <td>Wanadoo</td>\n",
       "      <td>0.01</td>\n",
       "      <td>0.00</td>\n",
       "      <td>0.00</td>\n",
       "      <td>0.00</td>\n",
       "      <td>0.01</td>\n",
       "    </tr>\n",
       "  </tbody>\n",
       "</table>\n",
       "<p>16598 rows × 11 columns</p>\n",
       "</div>"
      ],
      "text/plain": [
       "        Rank                                              Name Platform  \\\n",
       "0          1                                        Wii Sports      Wii   \n",
       "1          2                                 Super Mario Bros.      NES   \n",
       "2          3                                    Mario Kart Wii      Wii   \n",
       "3          4                                 Wii Sports Resort      Wii   \n",
       "4          5                          Pokemon Red/Pokemon Blue       GB   \n",
       "...      ...                                               ...      ...   \n",
       "16593  16596                Woody Woodpecker in Crazy Castle 5      GBA   \n",
       "16594  16597                     Men in Black II: Alien Escape       GC   \n",
       "16595  16598  SCORE International Baja 1000: The Official Game      PS2   \n",
       "16596  16599                                        Know How 2       DS   \n",
       "16597  16600                                  Spirits & Spells      GBA   \n",
       "\n",
       "         Year         Genre   Publisher  NA_Sales  EU_Sales  JP_Sales  \\\n",
       "0      2006.0        Sports    Nintendo     41.49     29.02      3.77   \n",
       "1      1985.0      Platform    Nintendo     29.08      3.58      6.81   \n",
       "2      2008.0        Racing    Nintendo     15.85     12.88      3.79   \n",
       "3      2009.0        Sports    Nintendo     15.75     11.01      3.28   \n",
       "4      1996.0  Role-Playing    Nintendo     11.27      8.89     10.22   \n",
       "...       ...           ...         ...       ...       ...       ...   \n",
       "16593  2002.0      Platform       Kemco      0.01      0.00      0.00   \n",
       "16594  2003.0       Shooter  Infogrames      0.01      0.00      0.00   \n",
       "16595  2008.0        Racing  Activision      0.00      0.00      0.00   \n",
       "16596  2010.0        Puzzle    7G//AMES      0.00      0.01      0.00   \n",
       "16597  2003.0      Platform     Wanadoo      0.01      0.00      0.00   \n",
       "\n",
       "       Other_Sales  Global_Sales  \n",
       "0             8.46         82.74  \n",
       "1             0.77         40.24  \n",
       "2             3.31         35.82  \n",
       "3             2.96         33.00  \n",
       "4             1.00         31.37  \n",
       "...            ...           ...  \n",
       "16593         0.00          0.01  \n",
       "16594         0.00          0.01  \n",
       "16595         0.00          0.01  \n",
       "16596         0.00          0.01  \n",
       "16597         0.00          0.01  \n",
       "\n",
       "[16598 rows x 11 columns]"
      ]
     },
     "execution_count": 2,
     "metadata": {},
     "output_type": "execute_result"
    }
   ],
   "source": [
    "data = pd.read_csv('/kaggle/input/videogamesales/vgsales.csv')\n",
    "data"
   ]
  },
  {
   "cell_type": "code",
   "execution_count": 3,
   "id": "c8432629",
   "metadata": {
    "execution": {
     "iopub.execute_input": "2025-07-01T15:26:24.526153Z",
     "iopub.status.busy": "2025-07-01T15:26:24.525858Z",
     "iopub.status.idle": "2025-07-01T15:26:24.559323Z",
     "shell.execute_reply": "2025-07-01T15:26:24.558328Z"
    },
    "papermill": {
     "duration": 0.041427,
     "end_time": "2025-07-01T15:26:24.561180",
     "exception": false,
     "start_time": "2025-07-01T15:26:24.519753",
     "status": "completed"
    },
    "tags": []
   },
   "outputs": [
    {
     "data": {
      "text/html": [
       "<div>\n",
       "<style scoped>\n",
       "    .dataframe tbody tr th:only-of-type {\n",
       "        vertical-align: middle;\n",
       "    }\n",
       "\n",
       "    .dataframe tbody tr th {\n",
       "        vertical-align: top;\n",
       "    }\n",
       "\n",
       "    .dataframe thead th {\n",
       "        text-align: right;\n",
       "    }\n",
       "</style>\n",
       "<table border=\"1\" class=\"dataframe\">\n",
       "  <thead>\n",
       "    <tr style=\"text-align: right;\">\n",
       "      <th></th>\n",
       "      <th>Global_Sales</th>\n",
       "    </tr>\n",
       "  </thead>\n",
       "  <tbody>\n",
       "    <tr>\n",
       "      <th>0</th>\n",
       "      <td>82.74</td>\n",
       "    </tr>\n",
       "    <tr>\n",
       "      <th>1</th>\n",
       "      <td>40.24</td>\n",
       "    </tr>\n",
       "    <tr>\n",
       "      <th>2</th>\n",
       "      <td>35.82</td>\n",
       "    </tr>\n",
       "    <tr>\n",
       "      <th>3</th>\n",
       "      <td>33.00</td>\n",
       "    </tr>\n",
       "    <tr>\n",
       "      <th>4</th>\n",
       "      <td>31.37</td>\n",
       "    </tr>\n",
       "    <tr>\n",
       "      <th>...</th>\n",
       "      <td>...</td>\n",
       "    </tr>\n",
       "    <tr>\n",
       "      <th>16593</th>\n",
       "      <td>0.01</td>\n",
       "    </tr>\n",
       "    <tr>\n",
       "      <th>16594</th>\n",
       "      <td>0.01</td>\n",
       "    </tr>\n",
       "    <tr>\n",
       "      <th>16595</th>\n",
       "      <td>0.01</td>\n",
       "    </tr>\n",
       "    <tr>\n",
       "      <th>16596</th>\n",
       "      <td>0.01</td>\n",
       "    </tr>\n",
       "    <tr>\n",
       "      <th>16597</th>\n",
       "      <td>0.01</td>\n",
       "    </tr>\n",
       "  </tbody>\n",
       "</table>\n",
       "<p>16598 rows × 1 columns</p>\n",
       "</div>"
      ],
      "text/plain": [
       "       Global_Sales\n",
       "0             82.74\n",
       "1             40.24\n",
       "2             35.82\n",
       "3             33.00\n",
       "4             31.37\n",
       "...             ...\n",
       "16593          0.01\n",
       "16594          0.01\n",
       "16595          0.01\n",
       "16596          0.01\n",
       "16597          0.01\n",
       "\n",
       "[16598 rows x 1 columns]"
      ]
     },
     "execution_count": 3,
     "metadata": {},
     "output_type": "execute_result"
    }
   ],
   "source": [
    "s = pd.read_csv('/kaggle/input/videogamesales/vgsales.csv', usecols = ['Global_Sales'])\n",
    "s"
   ]
  },
  {
   "cell_type": "code",
   "execution_count": 4,
   "id": "ab42f7c9",
   "metadata": {
    "execution": {
     "iopub.execute_input": "2025-07-01T15:26:24.573365Z",
     "iopub.status.busy": "2025-07-01T15:26:24.573027Z",
     "iopub.status.idle": "2025-07-01T15:26:24.578257Z",
     "shell.execute_reply": "2025-07-01T15:26:24.577231Z"
    },
    "papermill": {
     "duration": 0.01312,
     "end_time": "2025-07-01T15:26:24.579891",
     "exception": false,
     "start_time": "2025-07-01T15:26:24.566771",
     "status": "completed"
    },
    "tags": []
   },
   "outputs": [],
   "source": [
    "s1 = pd.Series([True,False,True,True])\n",
    "s2 = pd.Series([True,True,True,True])\n"
   ]
  },
  {
   "cell_type": "code",
   "execution_count": 5,
   "id": "ff6bb3df",
   "metadata": {
    "execution": {
     "iopub.execute_input": "2025-07-01T15:26:24.592107Z",
     "iopub.status.busy": "2025-07-01T15:26:24.591763Z",
     "iopub.status.idle": "2025-07-01T15:26:24.597874Z",
     "shell.execute_reply": "2025-07-01T15:26:24.596965Z"
    },
    "papermill": {
     "duration": 0.014541,
     "end_time": "2025-07-01T15:26:24.599771",
     "exception": false,
     "start_time": "2025-07-01T15:26:24.585230",
     "status": "completed"
    },
    "tags": []
   },
   "outputs": [
    {
     "data": {
      "text/plain": [
       "False"
      ]
     },
     "execution_count": 5,
     "metadata": {},
     "output_type": "execute_result"
    }
   ],
   "source": [
    "s1.all()"
   ]
  },
  {
   "cell_type": "code",
   "execution_count": 6,
   "id": "fc0032b0",
   "metadata": {
    "execution": {
     "iopub.execute_input": "2025-07-01T15:26:24.612046Z",
     "iopub.status.busy": "2025-07-01T15:26:24.611717Z",
     "iopub.status.idle": "2025-07-01T15:26:24.617999Z",
     "shell.execute_reply": "2025-07-01T15:26:24.617145Z"
    },
    "papermill": {
     "duration": 0.014389,
     "end_time": "2025-07-01T15:26:24.619559",
     "exception": false,
     "start_time": "2025-07-01T15:26:24.605170",
     "status": "completed"
    },
    "tags": []
   },
   "outputs": [
    {
     "data": {
      "text/plain": [
       "True"
      ]
     },
     "execution_count": 6,
     "metadata": {},
     "output_type": "execute_result"
    }
   ],
   "source": [
    "s2.all()"
   ]
  },
  {
   "cell_type": "code",
   "execution_count": 7,
   "id": "ca80f68c",
   "metadata": {
    "execution": {
     "iopub.execute_input": "2025-07-01T15:26:24.631315Z",
     "iopub.status.busy": "2025-07-01T15:26:24.630977Z",
     "iopub.status.idle": "2025-07-01T15:26:24.637023Z",
     "shell.execute_reply": "2025-07-01T15:26:24.636127Z"
    },
    "papermill": {
     "duration": 0.013854,
     "end_time": "2025-07-01T15:26:24.638648",
     "exception": false,
     "start_time": "2025-07-01T15:26:24.624794",
     "status": "completed"
    },
    "tags": []
   },
   "outputs": [
    {
     "data": {
      "text/plain": [
       "True"
      ]
     },
     "execution_count": 7,
     "metadata": {},
     "output_type": "execute_result"
    }
   ],
   "source": [
    "s1.any()"
   ]
  },
  {
   "cell_type": "code",
   "execution_count": 8,
   "id": "c9b2cdc3",
   "metadata": {
    "execution": {
     "iopub.execute_input": "2025-07-01T15:26:24.651356Z",
     "iopub.status.busy": "2025-07-01T15:26:24.650364Z",
     "iopub.status.idle": "2025-07-01T15:26:24.656610Z",
     "shell.execute_reply": "2025-07-01T15:26:24.655601Z"
    },
    "papermill": {
     "duration": 0.014076,
     "end_time": "2025-07-01T15:26:24.658191",
     "exception": false,
     "start_time": "2025-07-01T15:26:24.644115",
     "status": "completed"
    },
    "tags": []
   },
   "outputs": [
    {
     "data": {
      "text/plain": [
       "True"
      ]
     },
     "execution_count": 8,
     "metadata": {},
     "output_type": "execute_result"
    }
   ],
   "source": [
    "any(s1)"
   ]
  },
  {
   "cell_type": "code",
   "execution_count": 9,
   "id": "184ef5a9",
   "metadata": {
    "execution": {
     "iopub.execute_input": "2025-07-01T15:26:24.671209Z",
     "iopub.status.busy": "2025-07-01T15:26:24.670886Z",
     "iopub.status.idle": "2025-07-01T15:26:24.677141Z",
     "shell.execute_reply": "2025-07-01T15:26:24.676256Z"
    },
    "papermill": {
     "duration": 0.014657,
     "end_time": "2025-07-01T15:26:24.678809",
     "exception": false,
     "start_time": "2025-07-01T15:26:24.664152",
     "status": "completed"
    },
    "tags": []
   },
   "outputs": [
    {
     "data": {
      "text/plain": [
       "True"
      ]
     },
     "execution_count": 9,
     "metadata": {},
     "output_type": "execute_result"
    }
   ],
   "source": [
    "s2.any()"
   ]
  },
  {
   "cell_type": "code",
   "execution_count": 10,
   "id": "ac3be5ed",
   "metadata": {
    "execution": {
     "iopub.execute_input": "2025-07-01T15:26:24.691157Z",
     "iopub.status.busy": "2025-07-01T15:26:24.690846Z",
     "iopub.status.idle": "2025-07-01T15:26:24.696486Z",
     "shell.execute_reply": "2025-07-01T15:26:24.695513Z"
    },
    "papermill": {
     "duration": 0.013407,
     "end_time": "2025-07-01T15:26:24.698132",
     "exception": false,
     "start_time": "2025-07-01T15:26:24.684725",
     "status": "completed"
    },
    "tags": []
   },
   "outputs": [
    {
     "data": {
      "text/plain": [
       "True"
      ]
     },
     "execution_count": 10,
     "metadata": {},
     "output_type": "execute_result"
    }
   ],
   "source": [
    "any(s2)"
   ]
  },
  {
   "cell_type": "code",
   "execution_count": 11,
   "id": "bcb6b4f9",
   "metadata": {
    "execution": {
     "iopub.execute_input": "2025-07-01T15:26:24.710368Z",
     "iopub.status.busy": "2025-07-01T15:26:24.710058Z",
     "iopub.status.idle": "2025-07-01T15:26:24.715052Z",
     "shell.execute_reply": "2025-07-01T15:26:24.714238Z"
    },
    "papermill": {
     "duration": 0.012938,
     "end_time": "2025-07-01T15:26:24.716552",
     "exception": false,
     "start_time": "2025-07-01T15:26:24.703614",
     "status": "completed"
    },
    "tags": []
   },
   "outputs": [],
   "source": [
    "w = pd.Series([1,2,3,4,5])\n",
    "x = pd.Series([0,2,1,4,3,2])"
   ]
  },
  {
   "cell_type": "code",
   "execution_count": 12,
   "id": "93c04f5e",
   "metadata": {
    "execution": {
     "iopub.execute_input": "2025-07-01T15:26:24.729213Z",
     "iopub.status.busy": "2025-07-01T15:26:24.728533Z",
     "iopub.status.idle": "2025-07-01T15:26:24.734600Z",
     "shell.execute_reply": "2025-07-01T15:26:24.733625Z"
    },
    "papermill": {
     "duration": 0.014236,
     "end_time": "2025-07-01T15:26:24.736405",
     "exception": false,
     "start_time": "2025-07-01T15:26:24.722169",
     "status": "completed"
    },
    "tags": []
   },
   "outputs": [
    {
     "data": {
      "text/plain": [
       "True"
      ]
     },
     "execution_count": 12,
     "metadata": {},
     "output_type": "execute_result"
    }
   ],
   "source": [
    "w.any()"
   ]
  },
  {
   "cell_type": "code",
   "execution_count": 13,
   "id": "592d8990",
   "metadata": {
    "execution": {
     "iopub.execute_input": "2025-07-01T15:26:24.748748Z",
     "iopub.status.busy": "2025-07-01T15:26:24.748417Z",
     "iopub.status.idle": "2025-07-01T15:26:24.754280Z",
     "shell.execute_reply": "2025-07-01T15:26:24.753246Z"
    },
    "papermill": {
     "duration": 0.013662,
     "end_time": "2025-07-01T15:26:24.755766",
     "exception": false,
     "start_time": "2025-07-01T15:26:24.742104",
     "status": "completed"
    },
    "tags": []
   },
   "outputs": [
    {
     "data": {
      "text/plain": [
       "True"
      ]
     },
     "execution_count": 13,
     "metadata": {},
     "output_type": "execute_result"
    }
   ],
   "source": [
    "x.any()"
   ]
  },
  {
   "cell_type": "code",
   "execution_count": 14,
   "id": "fa813e04",
   "metadata": {
    "execution": {
     "iopub.execute_input": "2025-07-01T15:26:24.769177Z",
     "iopub.status.busy": "2025-07-01T15:26:24.768885Z",
     "iopub.status.idle": "2025-07-01T15:26:24.774765Z",
     "shell.execute_reply": "2025-07-01T15:26:24.773823Z"
    },
    "papermill": {
     "duration": 0.014289,
     "end_time": "2025-07-01T15:26:24.776273",
     "exception": false,
     "start_time": "2025-07-01T15:26:24.761984",
     "status": "completed"
    },
    "tags": []
   },
   "outputs": [
    {
     "data": {
      "text/plain": [
       "True"
      ]
     },
     "execution_count": 14,
     "metadata": {},
     "output_type": "execute_result"
    }
   ],
   "source": [
    "w.all()"
   ]
  },
  {
   "cell_type": "code",
   "execution_count": 15,
   "id": "40d71acf",
   "metadata": {
    "execution": {
     "iopub.execute_input": "2025-07-01T15:26:24.789018Z",
     "iopub.status.busy": "2025-07-01T15:26:24.788691Z",
     "iopub.status.idle": "2025-07-01T15:26:24.794613Z",
     "shell.execute_reply": "2025-07-01T15:26:24.793708Z"
    },
    "papermill": {
     "duration": 0.014102,
     "end_time": "2025-07-01T15:26:24.796238",
     "exception": false,
     "start_time": "2025-07-01T15:26:24.782136",
     "status": "completed"
    },
    "tags": []
   },
   "outputs": [
    {
     "data": {
      "text/plain": [
       "False"
      ]
     },
     "execution_count": 15,
     "metadata": {},
     "output_type": "execute_result"
    }
   ],
   "source": [
    "x.all()"
   ]
  },
  {
   "cell_type": "code",
   "execution_count": 16,
   "id": "21e492cd",
   "metadata": {
    "execution": {
     "iopub.execute_input": "2025-07-01T15:26:24.809459Z",
     "iopub.status.busy": "2025-07-01T15:26:24.809139Z",
     "iopub.status.idle": "2025-07-01T15:26:24.815466Z",
     "shell.execute_reply": "2025-07-01T15:26:24.814509Z"
    },
    "papermill": {
     "duration": 0.014923,
     "end_time": "2025-07-01T15:26:24.817237",
     "exception": false,
     "start_time": "2025-07-01T15:26:24.802314",
     "status": "completed"
    },
    "tags": []
   },
   "outputs": [
    {
     "data": {
      "text/plain": [
       "False"
      ]
     },
     "execution_count": 16,
     "metadata": {},
     "output_type": "execute_result"
    }
   ],
   "source": [
    "all(x>10)"
   ]
  },
  {
   "cell_type": "code",
   "execution_count": 17,
   "id": "a27fddde",
   "metadata": {
    "execution": {
     "iopub.execute_input": "2025-07-01T15:26:24.832113Z",
     "iopub.status.busy": "2025-07-01T15:26:24.831790Z",
     "iopub.status.idle": "2025-07-01T15:26:24.838784Z",
     "shell.execute_reply": "2025-07-01T15:26:24.837625Z"
    },
    "papermill": {
     "duration": 0.017224,
     "end_time": "2025-07-01T15:26:24.840814",
     "exception": false,
     "start_time": "2025-07-01T15:26:24.823590",
     "status": "completed"
    },
    "tags": []
   },
   "outputs": [
    {
     "data": {
      "text/plain": [
       "True"
      ]
     },
     "execution_count": 17,
     "metadata": {},
     "output_type": "execute_result"
    }
   ],
   "source": [
    "all(x>-1)"
   ]
  },
  {
   "cell_type": "code",
   "execution_count": 18,
   "id": "e318f34f",
   "metadata": {
    "execution": {
     "iopub.execute_input": "2025-07-01T15:26:24.856144Z",
     "iopub.status.busy": "2025-07-01T15:26:24.855817Z",
     "iopub.status.idle": "2025-07-01T15:26:24.861896Z",
     "shell.execute_reply": "2025-07-01T15:26:24.861103Z"
    },
    "papermill": {
     "duration": 0.014806,
     "end_time": "2025-07-01T15:26:24.863550",
     "exception": false,
     "start_time": "2025-07-01T15:26:24.848744",
     "status": "completed"
    },
    "tags": []
   },
   "outputs": [
    {
     "data": {
      "text/plain": [
       "True"
      ]
     },
     "execution_count": 18,
     "metadata": {},
     "output_type": "execute_result"
    }
   ],
   "source": [
    "all(w>0)"
   ]
  },
  {
   "cell_type": "code",
   "execution_count": 19,
   "id": "555038fc",
   "metadata": {
    "execution": {
     "iopub.execute_input": "2025-07-01T15:26:24.877620Z",
     "iopub.status.busy": "2025-07-01T15:26:24.877279Z",
     "iopub.status.idle": "2025-07-01T15:26:24.883853Z",
     "shell.execute_reply": "2025-07-01T15:26:24.882864Z"
    },
    "papermill": {
     "duration": 0.015403,
     "end_time": "2025-07-01T15:26:24.885287",
     "exception": false,
     "start_time": "2025-07-01T15:26:24.869884",
     "status": "completed"
    },
    "tags": []
   },
   "outputs": [
    {
     "data": {
      "text/plain": [
       "True"
      ]
     },
     "execution_count": 19,
     "metadata": {},
     "output_type": "execute_result"
    }
   ],
   "source": [
    "any(x<3)"
   ]
  },
  {
   "cell_type": "code",
   "execution_count": 20,
   "id": "2f7b2e4c",
   "metadata": {
    "execution": {
     "iopub.execute_input": "2025-07-01T15:26:24.899200Z",
     "iopub.status.busy": "2025-07-01T15:26:24.898874Z",
     "iopub.status.idle": "2025-07-01T15:26:24.905512Z",
     "shell.execute_reply": "2025-07-01T15:26:24.904491Z"
    },
    "papermill": {
     "duration": 0.015894,
     "end_time": "2025-07-01T15:26:24.907363",
     "exception": false,
     "start_time": "2025-07-01T15:26:24.891469",
     "status": "completed"
    },
    "tags": []
   },
   "outputs": [
    {
     "data": {
      "text/plain": [
       "False"
      ]
     },
     "execution_count": 20,
     "metadata": {},
     "output_type": "execute_result"
    }
   ],
   "source": [
    "any(w<0)"
   ]
  },
  {
   "cell_type": "code",
   "execution_count": 21,
   "id": "27c5dc16",
   "metadata": {
    "execution": {
     "iopub.execute_input": "2025-07-01T15:26:24.923181Z",
     "iopub.status.busy": "2025-07-01T15:26:24.922856Z",
     "iopub.status.idle": "2025-07-01T15:26:24.928914Z",
     "shell.execute_reply": "2025-07-01T15:26:24.928031Z"
    },
    "papermill": {
     "duration": 0.016613,
     "end_time": "2025-07-01T15:26:24.930552",
     "exception": false,
     "start_time": "2025-07-01T15:26:24.913939",
     "status": "completed"
    },
    "tags": []
   },
   "outputs": [
    {
     "data": {
      "text/plain": [
       "True"
      ]
     },
     "execution_count": 21,
     "metadata": {},
     "output_type": "execute_result"
    }
   ],
   "source": [
    "any(x<1)"
   ]
  },
  {
   "cell_type": "code",
   "execution_count": 22,
   "id": "2a405187",
   "metadata": {
    "execution": {
     "iopub.execute_input": "2025-07-01T15:26:24.945274Z",
     "iopub.status.busy": "2025-07-01T15:26:24.944982Z",
     "iopub.status.idle": "2025-07-01T15:26:24.950850Z",
     "shell.execute_reply": "2025-07-01T15:26:24.950030Z"
    },
    "papermill": {
     "duration": 0.014513,
     "end_time": "2025-07-01T15:26:24.952297",
     "exception": false,
     "start_time": "2025-07-01T15:26:24.937784",
     "status": "completed"
    },
    "tags": []
   },
   "outputs": [
    {
     "data": {
      "text/plain": [
       "False"
      ]
     },
     "execution_count": 22,
     "metadata": {},
     "output_type": "execute_result"
    }
   ],
   "source": [
    "any(w<-11)"
   ]
  },
  {
   "cell_type": "code",
   "execution_count": 23,
   "id": "394bd74e",
   "metadata": {
    "execution": {
     "iopub.execute_input": "2025-07-01T15:26:24.966408Z",
     "iopub.status.busy": "2025-07-01T15:26:24.966046Z",
     "iopub.status.idle": "2025-07-01T15:26:24.973846Z",
     "shell.execute_reply": "2025-07-01T15:26:24.972900Z"
    },
    "papermill": {
     "duration": 0.016864,
     "end_time": "2025-07-01T15:26:24.975556",
     "exception": false,
     "start_time": "2025-07-01T15:26:24.958692",
     "status": "completed"
    },
    "tags": []
   },
   "outputs": [
    {
     "data": {
      "text/plain": [
       "A      23\n",
       "B     342\n",
       "C     323\n",
       "D     534\n",
       "E    2323\n",
       "dtype: int64"
      ]
     },
     "execution_count": 23,
     "metadata": {},
     "output_type": "execute_result"
    }
   ],
   "source": [
    "a = pd.Series([23,342,323,534,2323], index = ['A','B','C','D','E'])\n",
    "a"
   ]
  },
  {
   "cell_type": "code",
   "execution_count": 24,
   "id": "a0164892",
   "metadata": {
    "execution": {
     "iopub.execute_input": "2025-07-01T15:26:24.990948Z",
     "iopub.status.busy": "2025-07-01T15:26:24.990532Z",
     "iopub.status.idle": "2025-07-01T15:26:24.998197Z",
     "shell.execute_reply": "2025-07-01T15:26:24.997310Z"
    },
    "papermill": {
     "duration": 0.016763,
     "end_time": "2025-07-01T15:26:24.999709",
     "exception": false,
     "start_time": "2025-07-01T15:26:24.982946",
     "status": "completed"
    },
    "tags": []
   },
   "outputs": [
    {
     "data": {
      "text/plain": [
       "Rank of the selected A is =       23\n",
       "Rank of the selected B is =      342\n",
       "Rank of the selected C is =      323\n",
       "Rank of the selected D is =      534\n",
       "Rank of the selected E is =     2323\n",
       "dtype: int64"
      ]
     },
     "execution_count": 24,
     "metadata": {},
     "output_type": "execute_result"
    }
   ],
   "source": [
    "z = a.add_prefix('Rank of the selected ').add_suffix(' is = ')\n",
    "z"
   ]
  },
  {
   "cell_type": "code",
   "execution_count": 25,
   "id": "61a27143",
   "metadata": {
    "execution": {
     "iopub.execute_input": "2025-07-01T15:26:25.015319Z",
     "iopub.status.busy": "2025-07-01T15:26:25.015021Z",
     "iopub.status.idle": "2025-07-01T15:26:25.022691Z",
     "shell.execute_reply": "2025-07-01T15:26:25.021326Z"
    },
    "papermill": {
     "duration": 0.017699,
     "end_time": "2025-07-01T15:26:25.024359",
     "exception": false,
     "start_time": "2025-07-01T15:26:25.006660",
     "status": "completed"
    },
    "tags": []
   },
   "outputs": [
    {
     "data": {
      "text/plain": [
       "A is =       23\n",
       "B is =      342\n",
       "C is =      323\n",
       "D is =      534\n",
       "E is =     2323\n",
       "dtype: int64"
      ]
     },
     "execution_count": 25,
     "metadata": {},
     "output_type": "execute_result"
    }
   ],
   "source": [
    "a.add_suffix(' is = ')"
   ]
  },
  {
   "cell_type": "code",
   "execution_count": null,
   "id": "e3bea08b",
   "metadata": {
    "papermill": {
     "duration": 0.006327,
     "end_time": "2025-07-01T15:26:25.037588",
     "exception": false,
     "start_time": "2025-07-01T15:26:25.031261",
     "status": "completed"
    },
    "tags": []
   },
   "outputs": [],
   "source": []
  },
  {
   "cell_type": "code",
   "execution_count": null,
   "id": "877eb797",
   "metadata": {
    "papermill": {
     "duration": 0.006716,
     "end_time": "2025-07-01T15:26:25.051469",
     "exception": false,
     "start_time": "2025-07-01T15:26:25.044753",
     "status": "completed"
    },
    "tags": []
   },
   "outputs": [],
   "source": []
  }
 ],
 "metadata": {
  "kaggle": {
   "accelerator": "none",
   "dataSources": [
    {
     "datasetId": 284,
     "sourceId": 618,
     "sourceType": "datasetVersion"
    }
   ],
   "dockerImageVersionId": 31040,
   "isGpuEnabled": false,
   "isInternetEnabled": true,
   "language": "python",
   "sourceType": "notebook"
  },
  "kernelspec": {
   "display_name": "Python 3",
   "language": "python",
   "name": "python3"
  },
  "language_info": {
   "codemirror_mode": {
    "name": "ipython",
    "version": 3
   },
   "file_extension": ".py",
   "mimetype": "text/x-python",
   "name": "python",
   "nbconvert_exporter": "python",
   "pygments_lexer": "ipython3",
   "version": "3.11.11"
  },
  "papermill": {
   "default_parameters": {},
   "duration": 7.939168,
   "end_time": "2025-07-01T15:26:25.582305",
   "environment_variables": {},
   "exception": null,
   "input_path": "__notebook__.ipynb",
   "output_path": "__notebook__.ipynb",
   "parameters": {},
   "start_time": "2025-07-01T15:26:17.643137",
   "version": "2.6.0"
  }
 },
 "nbformat": 4,
 "nbformat_minor": 5
}
