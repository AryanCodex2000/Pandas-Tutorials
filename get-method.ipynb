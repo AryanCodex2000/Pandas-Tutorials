{
 "cells": [
  {
   "cell_type": "code",
   "execution_count": 1,
   "id": "8d076a11",
   "metadata": {
    "_cell_guid": "b1076dfc-b9ad-4769-8c92-a6c4dae69d19",
    "_uuid": "8f2839f25d086af736a60e9eeb907d3b93b6e0e5",
    "execution": {
     "iopub.execute_input": "2025-07-04T05:25:52.231678Z",
     "iopub.status.busy": "2025-07-04T05:25:52.231387Z",
     "iopub.status.idle": "2025-07-04T05:25:54.185171Z",
     "shell.execute_reply": "2025-07-04T05:25:54.184275Z"
    },
    "papermill": {
     "duration": 1.959088,
     "end_time": "2025-07-04T05:25:54.186860",
     "exception": false,
     "start_time": "2025-07-04T05:25:52.227772",
     "status": "completed"
    },
    "tags": []
   },
   "outputs": [],
   "source": [
    "import pandas as pd\n",
    "import numpy as np"
   ]
  },
  {
   "cell_type": "code",
   "execution_count": 2,
   "id": "511f57d7",
   "metadata": {
    "execution": {
     "iopub.execute_input": "2025-07-04T05:25:54.192957Z",
     "iopub.status.busy": "2025-07-04T05:25:54.192519Z",
     "iopub.status.idle": "2025-07-04T05:25:54.304312Z",
     "shell.execute_reply": "2025-07-04T05:25:54.303134Z"
    },
    "papermill": {
     "duration": 0.116939,
     "end_time": "2025-07-04T05:25:54.306420",
     "exception": false,
     "start_time": "2025-07-04T05:25:54.189481",
     "status": "completed"
    },
    "tags": []
   },
   "outputs": [
    {
     "data": {
      "text/html": [
       "<div>\n",
       "<style scoped>\n",
       "    .dataframe tbody tr th:only-of-type {\n",
       "        vertical-align: middle;\n",
       "    }\n",
       "\n",
       "    .dataframe tbody tr th {\n",
       "        vertical-align: top;\n",
       "    }\n",
       "\n",
       "    .dataframe thead th {\n",
       "        text-align: right;\n",
       "    }\n",
       "</style>\n",
       "<table border=\"1\" class=\"dataframe\">\n",
       "  <thead>\n",
       "    <tr style=\"text-align: right;\">\n",
       "      <th></th>\n",
       "      <th>Global_Sales</th>\n",
       "    </tr>\n",
       "    <tr>\n",
       "      <th>Name</th>\n",
       "      <th></th>\n",
       "    </tr>\n",
       "  </thead>\n",
       "  <tbody>\n",
       "    <tr>\n",
       "      <th>Wii Sports</th>\n",
       "      <td>82.74</td>\n",
       "    </tr>\n",
       "    <tr>\n",
       "      <th>Super Mario Bros.</th>\n",
       "      <td>40.24</td>\n",
       "    </tr>\n",
       "    <tr>\n",
       "      <th>Mario Kart Wii</th>\n",
       "      <td>35.82</td>\n",
       "    </tr>\n",
       "    <tr>\n",
       "      <th>Wii Sports Resort</th>\n",
       "      <td>33.00</td>\n",
       "    </tr>\n",
       "    <tr>\n",
       "      <th>Pokemon Red/Pokemon Blue</th>\n",
       "      <td>31.37</td>\n",
       "    </tr>\n",
       "    <tr>\n",
       "      <th>...</th>\n",
       "      <td>...</td>\n",
       "    </tr>\n",
       "    <tr>\n",
       "      <th>Woody Woodpecker in Crazy Castle 5</th>\n",
       "      <td>0.01</td>\n",
       "    </tr>\n",
       "    <tr>\n",
       "      <th>Men in Black II: Alien Escape</th>\n",
       "      <td>0.01</td>\n",
       "    </tr>\n",
       "    <tr>\n",
       "      <th>SCORE International Baja 1000: The Official Game</th>\n",
       "      <td>0.01</td>\n",
       "    </tr>\n",
       "    <tr>\n",
       "      <th>Know How 2</th>\n",
       "      <td>0.01</td>\n",
       "    </tr>\n",
       "    <tr>\n",
       "      <th>Spirits &amp; Spells</th>\n",
       "      <td>0.01</td>\n",
       "    </tr>\n",
       "  </tbody>\n",
       "</table>\n",
       "<p>16598 rows × 1 columns</p>\n",
       "</div>"
      ],
      "text/plain": [
       "                                                  Global_Sales\n",
       "Name                                                          \n",
       "Wii Sports                                               82.74\n",
       "Super Mario Bros.                                        40.24\n",
       "Mario Kart Wii                                           35.82\n",
       "Wii Sports Resort                                        33.00\n",
       "Pokemon Red/Pokemon Blue                                 31.37\n",
       "...                                                        ...\n",
       "Woody Woodpecker in Crazy Castle 5                        0.01\n",
       "Men in Black II: Alien Escape                             0.01\n",
       "SCORE International Baja 1000: The Official Game          0.01\n",
       "Know How 2                                                0.01\n",
       "Spirits & Spells                                          0.01\n",
       "\n",
       "[16598 rows x 1 columns]"
      ]
     },
     "execution_count": 2,
     "metadata": {},
     "output_type": "execute_result"
    }
   ],
   "source": [
    "h = pd.read_csv('/kaggle/input/videogamesales/vgsales.csv', usecols=['Name', 'Global_Sales'], index_col='Name')\n",
    "h\n"
   ]
  },
  {
   "cell_type": "code",
   "execution_count": 3,
   "id": "4209ab06",
   "metadata": {
    "execution": {
     "iopub.execute_input": "2025-07-04T05:25:54.313201Z",
     "iopub.status.busy": "2025-07-04T05:25:54.312868Z",
     "iopub.status.idle": "2025-07-04T05:25:54.319341Z",
     "shell.execute_reply": "2025-07-04T05:25:54.318506Z"
    },
    "papermill": {
     "duration": 0.0112,
     "end_time": "2025-07-04T05:25:54.320748",
     "exception": false,
     "start_time": "2025-07-04T05:25:54.309548",
     "status": "completed"
    },
    "tags": []
   },
   "outputs": [
    {
     "data": {
      "text/plain": [
       "'Super Mario Bros.'"
      ]
     },
     "execution_count": 3,
     "metadata": {},
     "output_type": "execute_result"
    }
   ],
   "source": [
    "h.index[1]"
   ]
  },
  {
   "cell_type": "code",
   "execution_count": 4,
   "id": "408dd6fd",
   "metadata": {
    "execution": {
     "iopub.execute_input": "2025-07-04T05:25:54.326977Z",
     "iopub.status.busy": "2025-07-04T05:25:54.326298Z",
     "iopub.status.idle": "2025-07-04T05:25:54.338268Z",
     "shell.execute_reply": "2025-07-04T05:25:54.337666Z"
    },
    "papermill": {
     "duration": 0.016202,
     "end_time": "2025-07-04T05:25:54.339417",
     "exception": false,
     "start_time": "2025-07-04T05:25:54.323215",
     "status": "completed"
    },
    "tags": []
   },
   "outputs": [
    {
     "data": {
      "text/plain": [
       "Name\n",
       "Spirits & Spells    0.02\n",
       "Spirits & Spells    0.01\n",
       "Name: Global_Sales, dtype: float64"
      ]
     },
     "execution_count": 4,
     "metadata": {},
     "output_type": "execute_result"
    }
   ],
   "source": [
    "h.Global_Sales['Spirits & Spells']"
   ]
  },
  {
   "cell_type": "code",
   "execution_count": 5,
   "id": "54cc3df0",
   "metadata": {
    "execution": {
     "iopub.execute_input": "2025-07-04T05:25:54.346375Z",
     "iopub.status.busy": "2025-07-04T05:25:54.346059Z",
     "iopub.status.idle": "2025-07-04T05:25:54.351184Z",
     "shell.execute_reply": "2025-07-04T05:25:54.350273Z"
    },
    "papermill": {
     "duration": 0.010691,
     "end_time": "2025-07-04T05:25:54.352887",
     "exception": false,
     "start_time": "2025-07-04T05:25:54.342196",
     "status": "completed"
    },
    "tags": []
   },
   "outputs": [],
   "source": [
    "i = h.loc['Spirits & Spells']"
   ]
  },
  {
   "cell_type": "code",
   "execution_count": 6,
   "id": "698aa400",
   "metadata": {
    "execution": {
     "iopub.execute_input": "2025-07-04T05:25:54.358518Z",
     "iopub.status.busy": "2025-07-04T05:25:54.358281Z",
     "iopub.status.idle": "2025-07-04T05:25:54.365770Z",
     "shell.execute_reply": "2025-07-04T05:25:54.364982Z"
    },
    "papermill": {
     "duration": 0.011746,
     "end_time": "2025-07-04T05:25:54.367074",
     "exception": false,
     "start_time": "2025-07-04T05:25:54.355328",
     "status": "completed"
    },
    "tags": []
   },
   "outputs": [
    {
     "data": {
      "text/html": [
       "<div>\n",
       "<style scoped>\n",
       "    .dataframe tbody tr th:only-of-type {\n",
       "        vertical-align: middle;\n",
       "    }\n",
       "\n",
       "    .dataframe tbody tr th {\n",
       "        vertical-align: top;\n",
       "    }\n",
       "\n",
       "    .dataframe thead th {\n",
       "        text-align: right;\n",
       "    }\n",
       "</style>\n",
       "<table border=\"1\" class=\"dataframe\">\n",
       "  <thead>\n",
       "    <tr style=\"text-align: right;\">\n",
       "      <th></th>\n",
       "      <th>Global_Sales</th>\n",
       "    </tr>\n",
       "    <tr>\n",
       "      <th>Name</th>\n",
       "      <th></th>\n",
       "    </tr>\n",
       "  </thead>\n",
       "  <tbody>\n",
       "    <tr>\n",
       "      <th>Spirits &amp; Spells</th>\n",
       "      <td>0.02</td>\n",
       "    </tr>\n",
       "    <tr>\n",
       "      <th>Spirits &amp; Spells</th>\n",
       "      <td>0.01</td>\n",
       "    </tr>\n",
       "  </tbody>\n",
       "</table>\n",
       "</div>"
      ],
      "text/plain": [
       "                  Global_Sales\n",
       "Name                          \n",
       "Spirits & Spells          0.02\n",
       "Spirits & Spells          0.01"
      ]
     },
     "execution_count": 6,
     "metadata": {},
     "output_type": "execute_result"
    }
   ],
   "source": [
    "i"
   ]
  },
  {
   "cell_type": "code",
   "execution_count": 7,
   "id": "1dbf3d36",
   "metadata": {
    "execution": {
     "iopub.execute_input": "2025-07-04T05:25:54.372884Z",
     "iopub.status.busy": "2025-07-04T05:25:54.372619Z",
     "iopub.status.idle": "2025-07-04T05:25:54.377490Z",
     "shell.execute_reply": "2025-07-04T05:25:54.376801Z"
    },
    "papermill": {
     "duration": 0.009097,
     "end_time": "2025-07-04T05:25:54.378696",
     "exception": false,
     "start_time": "2025-07-04T05:25:54.369599",
     "status": "completed"
    },
    "tags": []
   },
   "outputs": [],
   "source": [
    "f = h.loc['SCORE International Baja 1000: The Official Game']"
   ]
  },
  {
   "cell_type": "code",
   "execution_count": 8,
   "id": "38c86f77",
   "metadata": {
    "execution": {
     "iopub.execute_input": "2025-07-04T05:25:54.384953Z",
     "iopub.status.busy": "2025-07-04T05:25:54.384416Z",
     "iopub.status.idle": "2025-07-04T05:25:54.393535Z",
     "shell.execute_reply": "2025-07-04T05:25:54.392832Z"
    },
    "papermill": {
     "duration": 0.013739,
     "end_time": "2025-07-04T05:25:54.395004",
     "exception": false,
     "start_time": "2025-07-04T05:25:54.381265",
     "status": "completed"
    },
    "tags": []
   },
   "outputs": [
    {
     "data": {
      "text/html": [
       "<div>\n",
       "<style scoped>\n",
       "    .dataframe tbody tr th:only-of-type {\n",
       "        vertical-align: middle;\n",
       "    }\n",
       "\n",
       "    .dataframe tbody tr th {\n",
       "        vertical-align: top;\n",
       "    }\n",
       "\n",
       "    .dataframe thead th {\n",
       "        text-align: right;\n",
       "    }\n",
       "</style>\n",
       "<table border=\"1\" class=\"dataframe\">\n",
       "  <thead>\n",
       "    <tr style=\"text-align: right;\">\n",
       "      <th></th>\n",
       "      <th>Global_Sales</th>\n",
       "    </tr>\n",
       "    <tr>\n",
       "      <th>Name</th>\n",
       "      <th></th>\n",
       "    </tr>\n",
       "  </thead>\n",
       "  <tbody>\n",
       "    <tr>\n",
       "      <th>SCORE International Baja 1000: The Official Game</th>\n",
       "      <td>0.12</td>\n",
       "    </tr>\n",
       "    <tr>\n",
       "      <th>SCORE International Baja 1000: The Official Game</th>\n",
       "      <td>0.10</td>\n",
       "    </tr>\n",
       "    <tr>\n",
       "      <th>SCORE International Baja 1000: The Official Game</th>\n",
       "      <td>0.08</td>\n",
       "    </tr>\n",
       "    <tr>\n",
       "      <th>SCORE International Baja 1000: The Official Game</th>\n",
       "      <td>0.01</td>\n",
       "    </tr>\n",
       "  </tbody>\n",
       "</table>\n",
       "</div>"
      ],
      "text/plain": [
       "                                                  Global_Sales\n",
       "Name                                                          \n",
       "SCORE International Baja 1000: The Official Game          0.12\n",
       "SCORE International Baja 1000: The Official Game          0.10\n",
       "SCORE International Baja 1000: The Official Game          0.08\n",
       "SCORE International Baja 1000: The Official Game          0.01"
      ]
     },
     "execution_count": 8,
     "metadata": {},
     "output_type": "execute_result"
    }
   ],
   "source": [
    "f"
   ]
  }
 ],
 "metadata": {
  "kaggle": {
   "accelerator": "none",
   "dataSources": [
    {
     "datasetId": 284,
     "sourceId": 618,
     "sourceType": "datasetVersion"
    }
   ],
   "dockerImageVersionId": 31040,
   "isGpuEnabled": false,
   "isInternetEnabled": true,
   "language": "python",
   "sourceType": "notebook"
  },
  "kernelspec": {
   "display_name": "Python 3",
   "language": "python",
   "name": "python3"
  },
  "language_info": {
   "codemirror_mode": {
    "name": "ipython",
    "version": 3
   },
   "file_extension": ".py",
   "mimetype": "text/x-python",
   "name": "python",
   "nbconvert_exporter": "python",
   "pygments_lexer": "ipython3",
   "version": "3.11.11"
  },
  "papermill": {
   "default_parameters": {},
   "duration": 7.455113,
   "end_time": "2025-07-04T05:25:54.915969",
   "environment_variables": {},
   "exception": null,
   "input_path": "__notebook__.ipynb",
   "output_path": "__notebook__.ipynb",
   "parameters": {},
   "start_time": "2025-07-04T05:25:47.460856",
   "version": "2.6.0"
  }
 },
 "nbformat": 4,
 "nbformat_minor": 5
}
