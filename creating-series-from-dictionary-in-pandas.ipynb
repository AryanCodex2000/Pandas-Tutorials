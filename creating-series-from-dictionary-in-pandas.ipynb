{
 "cells": [
  {
   "cell_type": "code",
   "execution_count": 1,
   "id": "e94ec5ad",
   "metadata": {
    "_cell_guid": "b1076dfc-b9ad-4769-8c92-a6c4dae69d19",
    "_uuid": "8f2839f25d086af736a60e9eeb907d3b93b6e0e5",
    "execution": {
     "iopub.execute_input": "2025-06-30T07:38:16.244640Z",
     "iopub.status.busy": "2025-06-30T07:38:16.244338Z",
     "iopub.status.idle": "2025-06-30T07:38:18.196059Z",
     "shell.execute_reply": "2025-06-30T07:38:18.195293Z"
    },
    "papermill": {
     "duration": 1.957123,
     "end_time": "2025-06-30T07:38:18.197626",
     "exception": false,
     "start_time": "2025-06-30T07:38:16.240503",
     "status": "completed"
    },
    "tags": []
   },
   "outputs": [],
   "source": [
    "import pandas as pd"
   ]
  },
  {
   "cell_type": "code",
   "execution_count": 2,
   "id": "0ed3e6c5",
   "metadata": {
    "execution": {
     "iopub.execute_input": "2025-06-30T07:38:18.203475Z",
     "iopub.status.busy": "2025-06-30T07:38:18.203044Z",
     "iopub.status.idle": "2025-06-30T07:38:18.207408Z",
     "shell.execute_reply": "2025-06-30T07:38:18.206739Z"
    },
    "papermill": {
     "duration": 0.008386,
     "end_time": "2025-06-30T07:38:18.208670",
     "exception": false,
     "start_time": "2025-06-30T07:38:18.200284",
     "status": "completed"
    },
    "tags": []
   },
   "outputs": [],
   "source": [
    "d = {\n",
    "    'Bengaluru': 234232,\n",
    "    'Noida'    : 423232,\n",
    "    'Delhi'    : 323243,\n",
    "    'Varanasi' : 323234,\n",
    "    'Chennai'  : 942332\n",
    "}"
   ]
  },
  {
   "cell_type": "code",
   "execution_count": 3,
   "id": "84d48901",
   "metadata": {
    "execution": {
     "iopub.execute_input": "2025-06-30T07:38:18.213495Z",
     "iopub.status.busy": "2025-06-30T07:38:18.213183Z",
     "iopub.status.idle": "2025-06-30T07:38:18.219248Z",
     "shell.execute_reply": "2025-06-30T07:38:18.218488Z"
    },
    "papermill": {
     "duration": 0.010039,
     "end_time": "2025-06-30T07:38:18.220680",
     "exception": false,
     "start_time": "2025-06-30T07:38:18.210641",
     "status": "completed"
    },
    "tags": []
   },
   "outputs": [
    {
     "data": {
      "text/plain": [
       "{'Bengaluru': 234232,\n",
       " 'Noida': 423232,\n",
       " 'Delhi': 323243,\n",
       " 'Varanasi': 323234,\n",
       " 'Chennai': 942332}"
      ]
     },
     "execution_count": 3,
     "metadata": {},
     "output_type": "execute_result"
    }
   ],
   "source": [
    "d"
   ]
  },
  {
   "cell_type": "code",
   "execution_count": 4,
   "id": "4530df9e",
   "metadata": {
    "execution": {
     "iopub.execute_input": "2025-06-30T07:38:18.225961Z",
     "iopub.status.busy": "2025-06-30T07:38:18.225634Z",
     "iopub.status.idle": "2025-06-30T07:38:18.239557Z",
     "shell.execute_reply": "2025-06-30T07:38:18.238780Z"
    },
    "papermill": {
     "duration": 0.018254,
     "end_time": "2025-06-30T07:38:18.241002",
     "exception": false,
     "start_time": "2025-06-30T07:38:18.222748",
     "status": "completed"
    },
    "tags": []
   },
   "outputs": [
    {
     "data": {
      "text/plain": [
       "Bengaluru    234232\n",
       "Noida        423232\n",
       "Delhi        323243\n",
       "Varanasi     323234\n",
       "Chennai      942332\n",
       "dtype: int64"
      ]
     },
     "execution_count": 4,
     "metadata": {},
     "output_type": "execute_result"
    }
   ],
   "source": [
    "s4 = pd.Series(d)\n",
    "s4"
   ]
  },
  {
   "cell_type": "code",
   "execution_count": null,
   "id": "4ec02cad",
   "metadata": {
    "papermill": {
     "duration": 0.001945,
     "end_time": "2025-06-30T07:38:18.245232",
     "exception": false,
     "start_time": "2025-06-30T07:38:18.243287",
     "status": "completed"
    },
    "tags": []
   },
   "outputs": [],
   "source": []
  },
  {
   "cell_type": "code",
   "execution_count": null,
   "id": "546f4ed5",
   "metadata": {
    "papermill": {
     "duration": 0.001612,
     "end_time": "2025-06-30T07:38:18.248781",
     "exception": false,
     "start_time": "2025-06-30T07:38:18.247169",
     "status": "completed"
    },
    "tags": []
   },
   "outputs": [],
   "source": []
  },
  {
   "cell_type": "code",
   "execution_count": null,
   "id": "e528a98b",
   "metadata": {
    "papermill": {
     "duration": 0.001629,
     "end_time": "2025-06-30T07:38:18.252241",
     "exception": false,
     "start_time": "2025-06-30T07:38:18.250612",
     "status": "completed"
    },
    "tags": []
   },
   "outputs": [],
   "source": []
  }
 ],
 "metadata": {
  "kaggle": {
   "accelerator": "none",
   "dataSources": [],
   "dockerImageVersionId": 31040,
   "isGpuEnabled": false,
   "isInternetEnabled": true,
   "language": "python",
   "sourceType": "notebook"
  },
  "kernelspec": {
   "display_name": "Python 3",
   "language": "python",
   "name": "python3"
  },
  "language_info": {
   "codemirror_mode": {
    "name": "ipython",
    "version": 3
   },
   "file_extension": ".py",
   "mimetype": "text/x-python",
   "name": "python",
   "nbconvert_exporter": "python",
   "pygments_lexer": "ipython3",
   "version": "3.11.11"
  },
  "papermill": {
   "default_parameters": {},
   "duration": 7.34618,
   "end_time": "2025-06-30T07:38:18.774547",
   "environment_variables": {},
   "exception": null,
   "input_path": "__notebook__.ipynb",
   "output_path": "__notebook__.ipynb",
   "parameters": {},
   "start_time": "2025-06-30T07:38:11.428367",
   "version": "2.6.0"
  }
 },
 "nbformat": 4,
 "nbformat_minor": 5
}
