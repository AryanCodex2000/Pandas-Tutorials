{
 "cells": [
  {
   "cell_type": "code",
   "execution_count": 1,
   "id": "d1db49d3",
   "metadata": {
    "_cell_guid": "b1076dfc-b9ad-4769-8c92-a6c4dae69d19",
    "_uuid": "8f2839f25d086af736a60e9eeb907d3b93b6e0e5",
    "execution": {
     "iopub.execute_input": "2025-07-01T05:55:45.021913Z",
     "iopub.status.busy": "2025-07-01T05:55:45.021579Z",
     "iopub.status.idle": "2025-07-01T05:55:46.765747Z",
     "shell.execute_reply": "2025-07-01T05:55:46.764747Z"
    },
    "papermill": {
     "duration": 1.750111,
     "end_time": "2025-07-01T05:55:46.767379",
     "exception": false,
     "start_time": "2025-07-01T05:55:45.017268",
     "status": "completed"
    },
    "tags": []
   },
   "outputs": [],
   "source": [
    "#Attribute in pandas\n",
    "import pandas as pd"
   ]
  },
  {
   "cell_type": "code",
   "execution_count": 2,
   "id": "99aaef52",
   "metadata": {
    "execution": {
     "iopub.execute_input": "2025-07-01T05:55:46.774700Z",
     "iopub.status.busy": "2025-07-01T05:55:46.773995Z",
     "iopub.status.idle": "2025-07-01T05:55:46.790295Z",
     "shell.execute_reply": "2025-07-01T05:55:46.789396Z"
    },
    "papermill": {
     "duration": 0.021202,
     "end_time": "2025-07-01T05:55:46.791673",
     "exception": false,
     "start_time": "2025-07-01T05:55:46.770471",
     "status": "completed"
    },
    "tags": []
   },
   "outputs": [
    {
     "data": {
      "text/plain": [
       "Bangalore    23400320\n",
       "Hyderabad    25432333\n",
       "Karnataka    32442355\n",
       "Mumbai       64233442\n",
       "Kolkata      93423323\n",
       "Name: Population, dtype: int64"
      ]
     },
     "execution_count": 2,
     "metadata": {},
     "output_type": "execute_result"
    }
   ],
   "source": [
    "a = {\n",
    "    'Bangalore' : 23400320,\n",
    "    'Hyderabad' : 25432333,\n",
    "    'Karnataka' : 32442355,\n",
    "    'Mumbai'    : 64233442,\n",
    "    'Kolkata'   : 93423323\n",
    "}\n",
    "s8 = pd.Series(a, name='Population')\n",
    "s8"
   ]
  },
  {
   "cell_type": "code",
   "execution_count": 3,
   "id": "0e26a269",
   "metadata": {
    "execution": {
     "iopub.execute_input": "2025-07-01T05:55:46.798119Z",
     "iopub.status.busy": "2025-07-01T05:55:46.797828Z",
     "iopub.status.idle": "2025-07-01T05:55:46.803470Z",
     "shell.execute_reply": "2025-07-01T05:55:46.802765Z"
    },
    "papermill": {
     "duration": 0.010307,
     "end_time": "2025-07-01T05:55:46.804706",
     "exception": false,
     "start_time": "2025-07-01T05:55:46.794399",
     "status": "completed"
    },
    "tags": []
   },
   "outputs": [
    {
     "data": {
      "text/plain": [
       "array([23400320, 25432333, 32442355, 64233442, 93423323])"
      ]
     },
     "execution_count": 3,
     "metadata": {},
     "output_type": "execute_result"
    }
   ],
   "source": [
    "s8.values"
   ]
  },
  {
   "cell_type": "code",
   "execution_count": 4,
   "id": "355788b1",
   "metadata": {
    "execution": {
     "iopub.execute_input": "2025-07-01T05:55:46.811849Z",
     "iopub.status.busy": "2025-07-01T05:55:46.811211Z",
     "iopub.status.idle": "2025-07-01T05:55:46.817989Z",
     "shell.execute_reply": "2025-07-01T05:55:46.817163Z"
    },
    "papermill": {
     "duration": 0.011927,
     "end_time": "2025-07-01T05:55:46.819467",
     "exception": false,
     "start_time": "2025-07-01T05:55:46.807540",
     "status": "completed"
    },
    "tags": []
   },
   "outputs": [
    {
     "data": {
      "text/plain": [
       "Index(['Bangalore', 'Hyderabad', 'Karnataka', 'Mumbai', 'Kolkata'], dtype='object')"
      ]
     },
     "execution_count": 4,
     "metadata": {},
     "output_type": "execute_result"
    }
   ],
   "source": [
    "s8.index"
   ]
  },
  {
   "cell_type": "code",
   "execution_count": 5,
   "id": "cdad032d",
   "metadata": {
    "execution": {
     "iopub.execute_input": "2025-07-01T05:55:46.826304Z",
     "iopub.status.busy": "2025-07-01T05:55:46.825944Z",
     "iopub.status.idle": "2025-07-01T05:55:46.831265Z",
     "shell.execute_reply": "2025-07-01T05:55:46.830532Z"
    },
    "papermill": {
     "duration": 0.010087,
     "end_time": "2025-07-01T05:55:46.832574",
     "exception": false,
     "start_time": "2025-07-01T05:55:46.822487",
     "status": "completed"
    },
    "tags": []
   },
   "outputs": [
    {
     "data": {
      "text/plain": [
       "dtype('int64')"
      ]
     },
     "execution_count": 5,
     "metadata": {},
     "output_type": "execute_result"
    }
   ],
   "source": [
    "s8.dtype"
   ]
  },
  {
   "cell_type": "code",
   "execution_count": 6,
   "id": "8069ebc0",
   "metadata": {
    "execution": {
     "iopub.execute_input": "2025-07-01T05:55:46.839753Z",
     "iopub.status.busy": "2025-07-01T05:55:46.839454Z",
     "iopub.status.idle": "2025-07-01T05:55:46.846912Z",
     "shell.execute_reply": "2025-07-01T05:55:46.846139Z"
    },
    "papermill": {
     "duration": 0.012826,
     "end_time": "2025-07-01T05:55:46.848390",
     "exception": false,
     "start_time": "2025-07-01T05:55:46.835564",
     "status": "completed"
    },
    "tags": []
   },
   "outputs": [
    {
     "data": {
      "text/plain": [
       "True"
      ]
     },
     "execution_count": 6,
     "metadata": {},
     "output_type": "execute_result"
    }
   ],
   "source": [
    "s8.is_unique\n"
   ]
  },
  {
   "cell_type": "code",
   "execution_count": 7,
   "id": "dd0f4477",
   "metadata": {
    "execution": {
     "iopub.execute_input": "2025-07-01T05:55:46.855586Z",
     "iopub.status.busy": "2025-07-01T05:55:46.855311Z",
     "iopub.status.idle": "2025-07-01T05:55:46.860582Z",
     "shell.execute_reply": "2025-07-01T05:55:46.859909Z"
    },
    "papermill": {
     "duration": 0.010306,
     "end_time": "2025-07-01T05:55:46.861765",
     "exception": false,
     "start_time": "2025-07-01T05:55:46.851459",
     "status": "completed"
    },
    "tags": []
   },
   "outputs": [
    {
     "data": {
      "text/plain": [
       "1"
      ]
     },
     "execution_count": 7,
     "metadata": {},
     "output_type": "execute_result"
    }
   ],
   "source": [
    "s8.ndim"
   ]
  },
  {
   "cell_type": "code",
   "execution_count": 8,
   "id": "11558fbd",
   "metadata": {
    "execution": {
     "iopub.execute_input": "2025-07-01T05:55:46.868859Z",
     "iopub.status.busy": "2025-07-01T05:55:46.868544Z",
     "iopub.status.idle": "2025-07-01T05:55:46.873832Z",
     "shell.execute_reply": "2025-07-01T05:55:46.873054Z"
    },
    "papermill": {
     "duration": 0.010338,
     "end_time": "2025-07-01T05:55:46.875155",
     "exception": false,
     "start_time": "2025-07-01T05:55:46.864817",
     "status": "completed"
    },
    "tags": []
   },
   "outputs": [
    {
     "data": {
      "text/plain": [
       "(5,)"
      ]
     },
     "execution_count": 8,
     "metadata": {},
     "output_type": "execute_result"
    }
   ],
   "source": [
    "s8.shape"
   ]
  },
  {
   "cell_type": "code",
   "execution_count": 9,
   "id": "397babb2",
   "metadata": {
    "execution": {
     "iopub.execute_input": "2025-07-01T05:55:46.882476Z",
     "iopub.status.busy": "2025-07-01T05:55:46.882181Z",
     "iopub.status.idle": "2025-07-01T05:55:46.887415Z",
     "shell.execute_reply": "2025-07-01T05:55:46.886596Z"
    },
    "papermill": {
     "duration": 0.010312,
     "end_time": "2025-07-01T05:55:46.888645",
     "exception": false,
     "start_time": "2025-07-01T05:55:46.878333",
     "status": "completed"
    },
    "tags": []
   },
   "outputs": [
    {
     "data": {
      "text/plain": [
       "5"
      ]
     },
     "execution_count": 9,
     "metadata": {},
     "output_type": "execute_result"
    }
   ],
   "source": [
    "s8.size"
   ]
  },
  {
   "cell_type": "code",
   "execution_count": 10,
   "id": "f8be1dcd",
   "metadata": {
    "execution": {
     "iopub.execute_input": "2025-07-01T05:55:46.896423Z",
     "iopub.status.busy": "2025-07-01T05:55:46.896117Z",
     "iopub.status.idle": "2025-07-01T05:55:46.900871Z",
     "shell.execute_reply": "2025-07-01T05:55:46.900220Z"
    },
    "papermill": {
     "duration": 0.010419,
     "end_time": "2025-07-01T05:55:46.902157",
     "exception": false,
     "start_time": "2025-07-01T05:55:46.891738",
     "status": "completed"
    },
    "tags": []
   },
   "outputs": [
    {
     "data": {
      "text/plain": [
       "'Population'"
      ]
     },
     "execution_count": 10,
     "metadata": {},
     "output_type": "execute_result"
    }
   ],
   "source": [
    "s8.name"
   ]
  },
  {
   "cell_type": "code",
   "execution_count": null,
   "id": "ec157a69",
   "metadata": {
    "papermill": {
     "duration": 0.002888,
     "end_time": "2025-07-01T05:55:46.908260",
     "exception": false,
     "start_time": "2025-07-01T05:55:46.905372",
     "status": "completed"
    },
    "tags": []
   },
   "outputs": [],
   "source": []
  },
  {
   "cell_type": "code",
   "execution_count": null,
   "id": "be432933",
   "metadata": {
    "papermill": {
     "duration": 0.002711,
     "end_time": "2025-07-01T05:55:46.913934",
     "exception": false,
     "start_time": "2025-07-01T05:55:46.911223",
     "status": "completed"
    },
    "tags": []
   },
   "outputs": [],
   "source": []
  }
 ],
 "metadata": {
  "kaggle": {
   "accelerator": "none",
   "dataSources": [],
   "dockerImageVersionId": 31040,
   "isGpuEnabled": false,
   "isInternetEnabled": true,
   "language": "python",
   "sourceType": "notebook"
  },
  "kernelspec": {
   "display_name": "Python 3",
   "language": "python",
   "name": "python3"
  },
  "language_info": {
   "codemirror_mode": {
    "name": "ipython",
    "version": 3
   },
   "file_extension": ".py",
   "mimetype": "text/x-python",
   "name": "python",
   "nbconvert_exporter": "python",
   "pygments_lexer": "ipython3",
   "version": "3.11.11"
  },
  "papermill": {
   "default_parameters": {},
   "duration": 6.889685,
   "end_time": "2025-07-01T05:55:47.436539",
   "environment_variables": {},
   "exception": null,
   "input_path": "__notebook__.ipynb",
   "output_path": "__notebook__.ipynb",
   "parameters": {},
   "start_time": "2025-07-01T05:55:40.546854",
   "version": "2.6.0"
  }
 },
 "nbformat": 4,
 "nbformat_minor": 5
}
