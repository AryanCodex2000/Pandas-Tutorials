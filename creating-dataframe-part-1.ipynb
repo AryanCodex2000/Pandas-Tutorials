{
 "cells": [
  {
   "cell_type": "code",
   "execution_count": 1,
   "id": "eb5414a0",
   "metadata": {
    "_cell_guid": "b1076dfc-b9ad-4769-8c92-a6c4dae69d19",
    "_uuid": "8f2839f25d086af736a60e9eeb907d3b93b6e0e5",
    "execution": {
     "iopub.execute_input": "2025-07-05T06:23:25.464856Z",
     "iopub.status.busy": "2025-07-05T06:23:25.464499Z",
     "iopub.status.idle": "2025-07-05T06:23:26.995608Z",
     "shell.execute_reply": "2025-07-05T06:23:26.994812Z"
    },
    "papermill": {
     "duration": 1.535692,
     "end_time": "2025-07-05T06:23:26.997093",
     "exception": false,
     "start_time": "2025-07-05T06:23:25.461401",
     "status": "completed"
    },
    "tags": []
   },
   "outputs": [],
   "source": [
    "import numpy as np \n",
    "import pandas as pd \n"
   ]
  },
  {
   "cell_type": "code",
   "execution_count": 2,
   "id": "a8699a65",
   "metadata": {
    "execution": {
     "iopub.execute_input": "2025-07-05T06:23:27.001855Z",
     "iopub.status.busy": "2025-07-05T06:23:27.001515Z",
     "iopub.status.idle": "2025-07-05T06:23:27.005174Z",
     "shell.execute_reply": "2025-07-05T06:23:27.004480Z"
    },
    "papermill": {
     "duration": 0.007012,
     "end_time": "2025-07-05T06:23:27.006276",
     "exception": false,
     "start_time": "2025-07-05T06:23:26.999264",
     "status": "completed"
    },
    "tags": []
   },
   "outputs": [],
   "source": [
    "l = ['Aryan','Sahil','Keshav','Shiv','Ram','Mohan','Sohan','Kumar','Gautum']"
   ]
  },
  {
   "cell_type": "code",
   "execution_count": 3,
   "id": "e4e00e63",
   "metadata": {
    "execution": {
     "iopub.execute_input": "2025-07-05T06:23:27.010157Z",
     "iopub.status.busy": "2025-07-05T06:23:27.009942Z",
     "iopub.status.idle": "2025-07-05T06:23:27.027785Z",
     "shell.execute_reply": "2025-07-05T06:23:27.027163Z"
    },
    "papermill": {
     "duration": 0.02107,
     "end_time": "2025-07-05T06:23:27.028986",
     "exception": false,
     "start_time": "2025-07-05T06:23:27.007916",
     "status": "completed"
    },
    "tags": []
   },
   "outputs": [
    {
     "data": {
      "text/html": [
       "<div>\n",
       "<style scoped>\n",
       "    .dataframe tbody tr th:only-of-type {\n",
       "        vertical-align: middle;\n",
       "    }\n",
       "\n",
       "    .dataframe tbody tr th {\n",
       "        vertical-align: top;\n",
       "    }\n",
       "\n",
       "    .dataframe thead th {\n",
       "        text-align: right;\n",
       "    }\n",
       "</style>\n",
       "<table border=\"1\" class=\"dataframe\">\n",
       "  <thead>\n",
       "    <tr style=\"text-align: right;\">\n",
       "      <th></th>\n",
       "      <th>0</th>\n",
       "    </tr>\n",
       "  </thead>\n",
       "  <tbody>\n",
       "    <tr>\n",
       "      <th>0</th>\n",
       "      <td>Aryan</td>\n",
       "    </tr>\n",
       "    <tr>\n",
       "      <th>1</th>\n",
       "      <td>Sahil</td>\n",
       "    </tr>\n",
       "    <tr>\n",
       "      <th>2</th>\n",
       "      <td>Keshav</td>\n",
       "    </tr>\n",
       "    <tr>\n",
       "      <th>3</th>\n",
       "      <td>Shiv</td>\n",
       "    </tr>\n",
       "    <tr>\n",
       "      <th>4</th>\n",
       "      <td>Ram</td>\n",
       "    </tr>\n",
       "    <tr>\n",
       "      <th>5</th>\n",
       "      <td>Mohan</td>\n",
       "    </tr>\n",
       "    <tr>\n",
       "      <th>6</th>\n",
       "      <td>Sohan</td>\n",
       "    </tr>\n",
       "    <tr>\n",
       "      <th>7</th>\n",
       "      <td>Kumar</td>\n",
       "    </tr>\n",
       "    <tr>\n",
       "      <th>8</th>\n",
       "      <td>Gautum</td>\n",
       "    </tr>\n",
       "  </tbody>\n",
       "</table>\n",
       "</div>"
      ],
      "text/plain": [
       "        0\n",
       "0   Aryan\n",
       "1   Sahil\n",
       "2  Keshav\n",
       "3    Shiv\n",
       "4     Ram\n",
       "5   Mohan\n",
       "6   Sohan\n",
       "7   Kumar\n",
       "8  Gautum"
      ]
     },
     "execution_count": 3,
     "metadata": {},
     "output_type": "execute_result"
    }
   ],
   "source": [
    "df = pd.DataFrame(l)\n",
    "df"
   ]
  },
  {
   "cell_type": "code",
   "execution_count": 4,
   "id": "74c882e1",
   "metadata": {
    "execution": {
     "iopub.execute_input": "2025-07-05T06:23:27.033395Z",
     "iopub.status.busy": "2025-07-05T06:23:27.033160Z",
     "iopub.status.idle": "2025-07-05T06:23:27.037227Z",
     "shell.execute_reply": "2025-07-05T06:23:27.036703Z"
    },
    "papermill": {
     "duration": 0.007301,
     "end_time": "2025-07-05T06:23:27.038100",
     "exception": false,
     "start_time": "2025-07-05T06:23:27.030799",
     "status": "completed"
    },
    "tags": []
   },
   "outputs": [
    {
     "data": {
      "text/plain": [
       "pandas.core.frame.DataFrame"
      ]
     },
     "execution_count": 4,
     "metadata": {},
     "output_type": "execute_result"
    }
   ],
   "source": [
    "type(df)"
   ]
  },
  {
   "cell_type": "code",
   "execution_count": 5,
   "id": "f58ffe28",
   "metadata": {
    "execution": {
     "iopub.execute_input": "2025-07-05T06:23:27.042311Z",
     "iopub.status.busy": "2025-07-05T06:23:27.042110Z",
     "iopub.status.idle": "2025-07-05T06:23:27.047075Z",
     "shell.execute_reply": "2025-07-05T06:23:27.046590Z"
    },
    "papermill": {
     "duration": 0.008255,
     "end_time": "2025-07-05T06:23:27.048092",
     "exception": false,
     "start_time": "2025-07-05T06:23:27.039837",
     "status": "completed"
    },
    "tags": []
   },
   "outputs": [
    {
     "data": {
      "text/plain": [
       "{'Students': ['Aryan',\n",
       "  'Sahil',\n",
       "  'Keshav',\n",
       "  'Shiv',\n",
       "  'Ram',\n",
       "  'Mohan',\n",
       "  'Sohan',\n",
       "  'Kumar',\n",
       "  'Gautum'],\n",
       " 'Marks': [23, 23, 21, 22, 20, 15, 16, 19, 11],\n",
       " 'Age': [22, 19, 20, 24, 23, 21, 22, 25, 18]}"
      ]
     },
     "execution_count": 5,
     "metadata": {},
     "output_type": "execute_result"
    }
   ],
   "source": [
    "d = {\n",
    "    'Students' : ['Aryan','Sahil','Keshav','Shiv','Ram','Mohan','Sohan','Kumar','Gautum'],\n",
    "    'Marks' : [23,23,21,22,20,15,16,19,11],\n",
    "    'Age' : [22,19,20,24,23,21,22,25,18]\n",
    "}\n",
    "d"
   ]
  },
  {
   "cell_type": "code",
   "execution_count": 6,
   "id": "a53b4b7c",
   "metadata": {
    "execution": {
     "iopub.execute_input": "2025-07-05T06:23:27.052243Z",
     "iopub.status.busy": "2025-07-05T06:23:27.052080Z",
     "iopub.status.idle": "2025-07-05T06:23:27.062007Z",
     "shell.execute_reply": "2025-07-05T06:23:27.061190Z"
    },
    "papermill": {
     "duration": 0.01317,
     "end_time": "2025-07-05T06:23:27.063059",
     "exception": false,
     "start_time": "2025-07-05T06:23:27.049889",
     "status": "completed"
    },
    "tags": []
   },
   "outputs": [
    {
     "data": {
      "text/html": [
       "<div>\n",
       "<style scoped>\n",
       "    .dataframe tbody tr th:only-of-type {\n",
       "        vertical-align: middle;\n",
       "    }\n",
       "\n",
       "    .dataframe tbody tr th {\n",
       "        vertical-align: top;\n",
       "    }\n",
       "\n",
       "    .dataframe thead th {\n",
       "        text-align: right;\n",
       "    }\n",
       "</style>\n",
       "<table border=\"1\" class=\"dataframe\">\n",
       "  <thead>\n",
       "    <tr style=\"text-align: right;\">\n",
       "      <th></th>\n",
       "      <th>Students</th>\n",
       "      <th>Marks</th>\n",
       "      <th>Age</th>\n",
       "    </tr>\n",
       "  </thead>\n",
       "  <tbody>\n",
       "    <tr>\n",
       "      <th>0</th>\n",
       "      <td>Aryan</td>\n",
       "      <td>23</td>\n",
       "      <td>22</td>\n",
       "    </tr>\n",
       "    <tr>\n",
       "      <th>1</th>\n",
       "      <td>Sahil</td>\n",
       "      <td>23</td>\n",
       "      <td>19</td>\n",
       "    </tr>\n",
       "    <tr>\n",
       "      <th>2</th>\n",
       "      <td>Keshav</td>\n",
       "      <td>21</td>\n",
       "      <td>20</td>\n",
       "    </tr>\n",
       "    <tr>\n",
       "      <th>3</th>\n",
       "      <td>Shiv</td>\n",
       "      <td>22</td>\n",
       "      <td>24</td>\n",
       "    </tr>\n",
       "    <tr>\n",
       "      <th>4</th>\n",
       "      <td>Ram</td>\n",
       "      <td>20</td>\n",
       "      <td>23</td>\n",
       "    </tr>\n",
       "    <tr>\n",
       "      <th>5</th>\n",
       "      <td>Mohan</td>\n",
       "      <td>15</td>\n",
       "      <td>21</td>\n",
       "    </tr>\n",
       "    <tr>\n",
       "      <th>6</th>\n",
       "      <td>Sohan</td>\n",
       "      <td>16</td>\n",
       "      <td>22</td>\n",
       "    </tr>\n",
       "    <tr>\n",
       "      <th>7</th>\n",
       "      <td>Kumar</td>\n",
       "      <td>19</td>\n",
       "      <td>25</td>\n",
       "    </tr>\n",
       "    <tr>\n",
       "      <th>8</th>\n",
       "      <td>Gautum</td>\n",
       "      <td>11</td>\n",
       "      <td>18</td>\n",
       "    </tr>\n",
       "  </tbody>\n",
       "</table>\n",
       "</div>"
      ],
      "text/plain": [
       "  Students  Marks  Age\n",
       "0    Aryan     23   22\n",
       "1    Sahil     23   19\n",
       "2   Keshav     21   20\n",
       "3     Shiv     22   24\n",
       "4      Ram     20   23\n",
       "5    Mohan     15   21\n",
       "6    Sohan     16   22\n",
       "7    Kumar     19   25\n",
       "8   Gautum     11   18"
      ]
     },
     "execution_count": 6,
     "metadata": {},
     "output_type": "execute_result"
    }
   ],
   "source": [
    "df2 = pd.DataFrame(d)\n",
    "df2\n"
   ]
  },
  {
   "cell_type": "code",
   "execution_count": null,
   "id": "0a402b16",
   "metadata": {
    "papermill": {
     "duration": 0.001801,
     "end_time": "2025-07-05T06:23:27.066736",
     "exception": false,
     "start_time": "2025-07-05T06:23:27.064935",
     "status": "completed"
    },
    "tags": []
   },
   "outputs": [],
   "source": []
  },
  {
   "cell_type": "code",
   "execution_count": null,
   "id": "51658b5d",
   "metadata": {
    "papermill": {
     "duration": 0.001755,
     "end_time": "2025-07-05T06:23:27.070398",
     "exception": false,
     "start_time": "2025-07-05T06:23:27.068643",
     "status": "completed"
    },
    "tags": []
   },
   "outputs": [],
   "source": []
  }
 ],
 "metadata": {
  "kaggle": {
   "accelerator": "none",
   "dataSources": [],
   "dockerImageVersionId": 31040,
   "isGpuEnabled": false,
   "isInternetEnabled": true,
   "language": "python",
   "sourceType": "notebook"
  },
  "kernelspec": {
   "display_name": "Python 3",
   "language": "python",
   "name": "python3"
  },
  "language_info": {
   "codemirror_mode": {
    "name": "ipython",
    "version": 3
   },
   "file_extension": ".py",
   "mimetype": "text/x-python",
   "name": "python",
   "nbconvert_exporter": "python",
   "pygments_lexer": "ipython3",
   "version": "3.11.11"
  },
  "papermill": {
   "default_parameters": {},
   "duration": 6.093263,
   "end_time": "2025-07-05T06:23:27.388622",
   "environment_variables": {},
   "exception": null,
   "input_path": "__notebook__.ipynb",
   "output_path": "__notebook__.ipynb",
   "parameters": {},
   "start_time": "2025-07-05T06:23:21.295359",
   "version": "2.6.0"
  }
 },
 "nbformat": 4,
 "nbformat_minor": 5
}
